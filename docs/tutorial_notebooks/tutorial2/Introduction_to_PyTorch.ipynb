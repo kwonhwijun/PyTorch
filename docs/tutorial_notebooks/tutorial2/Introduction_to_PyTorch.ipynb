{
  "cells": [
    {
      "cell_type": "markdown",
      "metadata": {
        "id": "6yx3veFX8c5j"
      },
      "source": [
        "# Tutorial 2: Introduction to PyTorch\n",
        "\n",
        "![Status](https://img.shields.io/static/v1.svg?label=Status&message=Finished&color=green)\n",
        "\n",
        "**Filled notebook:**\n",
        "[![View filled on Github](https://img.shields.io/static/v1.svg?logo=github&label=Repo&message=View%20On%20Github&color=lightgrey)](https://github.com/phlippe/uvadlc_notebooks/blob/master/docs/tutorial_notebooks/tutorial2/Introduction_to_PyTorch.ipynb)\n",
        "[![Open filled In Collab](https://colab.research.google.com/assets/colab-badge.svg)](https://colab.research.google.com/github/phlippe/uvadlc_notebooks/blob/master/docs/tutorial_notebooks/tutorial2/Introduction_to_PyTorch.ipynb)   \n",
        "**Recordings:**\n",
        "[![YouTube - Part 1](https://img.shields.io/static/v1.svg?logo=youtube&label=YouTube&message=Part%201&color=red)](https://youtu.be/wnKZZgFQY-E)\n",
        "[![YouTube - Part 2](https://img.shields.io/static/v1.svg?logo=youtube&label=YouTube&message=Part%202&color=red)](https://youtu.be/schbjeU5X2g)    \n",
        "**Author:** Phillip Lippe"
      ]
    },
    {
      "cell_type": "markdown",
      "metadata": {
        "id": "AhNDXN268c5l"
      },
      "source": [
        "Welcome to our PyTorch tutorial for the Deep Learning course at the University of Amsterdam! The following notebook is meant to give a short introduction to PyTorch basics, and get you setup for writing your own neural networks. PyTorch is an open source machine learning framework that allows you to write your own neural networks and optimize them efficiently. However, PyTorch is not the only framework of its kind. Alternatives to PyTorch include [TensorFlow](https://www.tensorflow.org/), [JAX](https://github.com/google/jax#quickstart-colab-in-the-cloud) and [Caffe](http://caffe.berkeleyvision.org/). We choose to teach PyTorch at the University of Amsterdam because it is well established, has a huge developer community (originally developed by Facebook), is very flexible and especially used in research. Many current papers publish their code in PyTorch, and thus it is good to be familiar with PyTorch as well.\n",
        "Meanwhile, TensorFlow (developed by Google) is usually known for being a production-grade deep learning library. Still, if you know one machine learning framework in depth, it is very easy to learn another one because many of them use the same concepts and ideas. For instance, TensorFlow's version 2 was heavily inspired by the most popular features of PyTorch, making the frameworks even more similar.\n",
        "If you are already familiar with PyTorch and have created your own neural network projects, feel free to just skim this notebook.\n",
        "\n",
        "We are of course not the first ones to create a PyTorch tutorial. There are many great tutorials online, including the [\"60-min blitz\"](https://pytorch.org/tutorials/beginner/deep_learning_60min_blitz.html) on the official [PyTorch website](https://pytorch.org/tutorials/). Yet, we choose to create our own tutorial which is designed to give you the basics particularly necessary for the practicals, but still understand how PyTorch works under the hood. Over the next few weeks, we will also keep exploring new PyTorch features in the series of Jupyter notebook tutorials about deep learning.\n",
        "\n",
        "We will use a set of standard libraries that are often used in machine learning projects. If you are running this notebook on Google Colab, all libraries should be pre-installed. If you are running this notebook locally, make sure you have installed our `dl2024` environment and have activated it."
      ]
    },
    {
      "cell_type": "code",
      "execution_count": 4,
      "metadata": {
        "id": "ObzvWZdy8c5l",
        "outputId": "c42eda9d-e1ac-448e-9bfb-89b7672216be",
        "colab": {
          "base_uri": "https://localhost:8080/"
        }
      },
      "outputs": [
        {
          "output_type": "stream",
          "name": "stderr",
          "text": [
            "<ipython-input-4-47578708>:11: DeprecationWarning: `set_matplotlib_formats` is deprecated since IPython 7.23, directly use `matplotlib_inline.backend_inline.set_matplotlib_formats()`\n",
            "  set_matplotlib_formats('svg', 'pdf') # For export\n"
          ]
        }
      ],
      "source": [
        "## Standard libraries\n",
        "import os\n",
        "import math\n",
        "import numpy as np\n",
        "import time\n",
        "\n",
        "## Imports for plotting\n",
        "import matplotlib.pyplot as plt\n",
        "%matplotlib inline\n",
        "from IPython.display import set_matplotlib_formats\n",
        "set_matplotlib_formats('svg', 'pdf') # For export\n",
        "from matplotlib.colors import to_rgba\n",
        "import seaborn as sns\n",
        "sns.set()\n",
        "\n",
        "## Progress bar\n",
        "from tqdm.notebook import tqdm"
      ]
    },
    {
      "cell_type": "markdown",
      "metadata": {
        "id": "1cjv0pt28c5m"
      },
      "source": [
        "## The Basics of PyTorch\n",
        "\n",
        "We will start with reviewing the very basic concepts of PyTorch. As a prerequisite, we recommend to be familiar with the `numpy` package as most machine learning frameworks are based on very similar concepts. If you are not familiar with numpy yet, don't worry: here is a [tutorial](https://numpy.org/devdocs/user/quickstart.html) to go through.\n",
        "\n",
        "So, let's start with importing PyTorch. The package is called `torch`, based on its original framework [Torch](http://torch.ch/). As a first step, we can check its version:"
      ]
    },
    {
      "cell_type": "code",
      "execution_count": 5,
      "metadata": {
        "id": "tvzqNmNx8c5m",
        "outputId": "88342967-97ca-49a9-b89d-2a4cc1172849",
        "colab": {
          "base_uri": "https://localhost:8080/"
        }
      },
      "outputs": [
        {
          "output_type": "stream",
          "name": "stdout",
          "text": [
            "Using torch 2.6.0+cu124\n"
          ]
        }
      ],
      "source": [
        "import torch\n",
        "print(\"Using torch\", torch.__version__)"
      ]
    },
    {
      "cell_type": "markdown",
      "metadata": {
        "id": "F9ESZAGk8c5n"
      },
      "source": [
        "At the time of writing this tutorial (end of October 2024), the current stable version is 2.4. You should therefore see the output `Using torch 2.4.1`, eventually with some extension for the CUDA version on Colab. In case you use the `dl2024` environment, you should see `Using torch 2.4.1`. In general, it is recommended to keep the PyTorch version updated to the newest one. If you see a lower version number than 2.3, make sure you have installed the correct environment, or ask one of your TAs. In case PyTorch 2.5 or newer will be published during the time of the course, don't worry. The interface between PyTorch versions doesn't change too much, and hence all code should also be runnable with newer versions.\n",
        "\n",
        "As in every machine learning framework, PyTorch provides functions that are stochastic like generating random numbers. However, a very good practice is to setup your code to be reproducible with the exact same random numbers. This is why we set a seed below."
      ]
    },
    {
      "cell_type": "code",
      "execution_count": 4,
      "metadata": {
        "id": "8et4DFCI8c5n",
        "outputId": "da138c81-a88e-4644-e4c4-c51d42e7f792",
        "colab": {
          "base_uri": "https://localhost:8080/"
        }
      },
      "outputs": [
        {
          "output_type": "execute_result",
          "data": {
            "text/plain": [
              "<torch._C.Generator at 0x7c8e013e0130>"
            ]
          },
          "metadata": {},
          "execution_count": 4
        }
      ],
      "source": [
        "torch.manual_seed(42) # Setting the seed"
      ]
    },
    {
      "cell_type": "markdown",
      "metadata": {
        "id": "2UjLLxm-8c5n"
      },
      "source": [
        "### Tensors\n",
        "\n",
        "Tensors are the PyTorch equivalent to Numpy arrays, with the addition to also have support for GPU acceleration (more on that later).\n",
        "The name \"tensor\" is a generalization of concepts you already know. For instance, a vector is a 1-D tensor, and a matrix a 2-D tensor. When working with neural networks, we will use tensors of various shapes and number of dimensions.\n",
        "\n",
        "Most common functions you know from numpy can be used on tensors as well. Actually, since numpy arrays are so similar to tensors, we can convert most tensors to numpy arrays (and back) but we don't need it too often.\n",
        "\n",
        "#### Initialization\n",
        "\n",
        "Let's first start by looking at different ways of creating a tensor. There are many possible options, the simplest one is to call `torch.Tensor` passing the desired shape as input argument:"
      ]
    },
    {
      "cell_type": "code",
      "execution_count": null,
      "metadata": {
        "id": "5mGyfB7P8c5n",
        "outputId": "7d259782-242e-4e06-a3c0-d50fff51ec95"
      },
      "outputs": [
        {
          "name": "stdout",
          "output_type": "stream",
          "text": [
            "tensor([[[ 6.5254e+10,  3.0890e-41,  4.2039e-45, -6.3663e-15],\n",
            "         [ 6.5246e+10,  3.0890e-41,  1.6367e-42,  4.5787e-41],\n",
            "         [ 6.5254e+10,  3.0890e-41,  4.2039e-45,  4.5787e-41]],\n",
            "\n",
            "        [[ 6.5255e+10,  3.0890e-41,  1.4013e-45,  0.0000e+00],\n",
            "         [ 6.5255e+10,  3.0890e-41,  6.5246e+10,  3.0890e-41],\n",
            "         [ 1.7404e-42, -5.0820e+26,  6.5255e+10,  3.0890e-41]]])\n"
          ]
        }
      ],
      "source": [
        "x = torch.Tensor(2, 3, 4)\n",
        "print(x)"
      ]
    },
    {
      "cell_type": "code",
      "source": [
        "y = torch.rand(2, 3, 4)\n",
        "print(y)"
      ],
      "metadata": {
        "id": "m6_AxXH9BTZ9",
        "outputId": "741fabed-e343-46c0-fbaf-219387095d27",
        "colab": {
          "base_uri": "https://localhost:8080/"
        }
      },
      "execution_count": 7,
      "outputs": [
        {
          "output_type": "stream",
          "name": "stdout",
          "text": [
            "tensor([[[0.8823, 0.9150, 0.3829, 0.9593],\n",
            "         [0.3904, 0.6009, 0.2566, 0.7936],\n",
            "         [0.9408, 0.1332, 0.9346, 0.5936]],\n",
            "\n",
            "        [[0.8694, 0.5677, 0.7411, 0.4294],\n",
            "         [0.8854, 0.5739, 0.2666, 0.6274],\n",
            "         [0.2696, 0.4414, 0.2969, 0.8317]]])\n"
          ]
        }
      ]
    },
    {
      "cell_type": "markdown",
      "metadata": {
        "id": "0wfR3Txh8c5n"
      },
      "source": [
        "The function `torch.Tensor` allocates memory for the desired tensor, but reuses any values that have already been in the memory. To directly assign values to the tensor during initialization, there are many alternatives including:\n",
        "\n",
        "* `torch.zeros`: Creates a tensor filled with zeros\n",
        "* `torch.ones`: Creates a tensor filled with ones\n",
        "* `torch.rand`: Creates a tensor with random values uniformly sampled between 0 and 1\n",
        "* `torch.randn`: Creates a tensor with random values sampled from a normal distribution with mean 0 and variance 1\n",
        "* `torch.arange`: Creates a tensor containing the values $N,N+1,N+2,...,M$\n",
        "* `torch.Tensor` (input list): Creates a tensor from the list elements you provide"
      ]
    },
    {
      "cell_type": "code",
      "execution_count": 8,
      "metadata": {
        "id": "lA5lVcI68c5o",
        "outputId": "993963a5-5ece-44f0-ceb6-141809cdcda3",
        "colab": {
          "base_uri": "https://localhost:8080/"
        }
      },
      "outputs": [
        {
          "output_type": "stream",
          "name": "stdout",
          "text": [
            "tensor([[1., 2.],\n",
            "        [3., 4.]])\n"
          ]
        }
      ],
      "source": [
        "# Create a tensor from a (nested) list\n",
        "x = torch.Tensor([[1, 2], [3, 4]])\n",
        "print(x)"
      ]
    },
    {
      "cell_type": "code",
      "execution_count": null,
      "metadata": {
        "id": "DYjakSxT8c5o",
        "outputId": "664bb715-c28e-477c-cdc6-d8bad107dac0"
      },
      "outputs": [
        {
          "name": "stdout",
          "output_type": "stream",
          "text": [
            "tensor([[[0.8823, 0.9150, 0.3829, 0.9593],\n",
            "         [0.3904, 0.6009, 0.2566, 0.7936],\n",
            "         [0.9408, 0.1332, 0.9346, 0.5936]],\n",
            "\n",
            "        [[0.8694, 0.5677, 0.7411, 0.4294],\n",
            "         [0.8854, 0.5739, 0.2666, 0.6274],\n",
            "         [0.2696, 0.4414, 0.2969, 0.8317]]])\n"
          ]
        }
      ],
      "source": [
        "# Create a tensor with random values between 0 and 1 with the shape [2, 3, 4]\n",
        "x = torch.rand(2, 3, 4)\n",
        "print(x)"
      ]
    },
    {
      "cell_type": "markdown",
      "metadata": {
        "id": "LM66aNXy8c5o"
      },
      "source": [
        "You can obtain the shape of a tensor in the same way as in numpy (`x.shape`), or using the `.size` method:"
      ]
    },
    {
      "cell_type": "code",
      "execution_count": null,
      "metadata": {
        "id": "sbrdrfM98c5o",
        "outputId": "d9c3f3b3-d6bd-496f-ac42-e61f39e5933c"
      },
      "outputs": [
        {
          "name": "stdout",
          "output_type": "stream",
          "text": [
            "Shape: torch.Size([2, 3, 4])\n",
            "Size: torch.Size([2, 3, 4])\n",
            "Size: 2 3 4\n"
          ]
        }
      ],
      "source": [
        "shape = x.shape\n",
        "print(\"Shape:\", x.shape)\n",
        "\n",
        "size = x.size()\n",
        "print(\"Size:\", size)\n",
        "\n",
        "dim1, dim2, dim3 = x.size()\n",
        "print(\"Size:\", dim1, dim2, dim3)"
      ]
    },
    {
      "cell_type": "markdown",
      "metadata": {
        "id": "gr-74S6L8c5o"
      },
      "source": [
        "#### Tensor to Numpy, and Numpy to Tensor\n",
        "\n",
        "Tensors can be converted to numpy arrays, and numpy arrays back to tensors. To transform a numpy array into a tensor, we can use the function `torch.from_numpy`:"
      ]
    },
    {
      "cell_type": "code",
      "execution_count": null,
      "metadata": {
        "id": "q7EZFc-H8c5o",
        "outputId": "6d7db4f8-f0a0-45c4-e7fb-555275bcf6a3"
      },
      "outputs": [
        {
          "name": "stdout",
          "output_type": "stream",
          "text": [
            "Numpy array: [[1 2]\n",
            " [3 4]]\n",
            "PyTorch tensor: tensor([[1, 2],\n",
            "        [3, 4]])\n"
          ]
        }
      ],
      "source": [
        "np_arr = np.array([[1, 2], [3, 4]])\n",
        "tensor = torch.from_numpy(np_arr)\n",
        "\n",
        "print(\"Numpy array:\", np_arr)\n",
        "print(\"PyTorch tensor:\", tensor)"
      ]
    },
    {
      "cell_type": "markdown",
      "metadata": {
        "id": "TcU9X2un8c5p"
      },
      "source": [
        "To transform a PyTorch tensor back to a numpy array, we can use the function `.numpy()` on tensors:"
      ]
    },
    {
      "cell_type": "code",
      "execution_count": null,
      "metadata": {
        "id": "dNQo20ti8c5p",
        "outputId": "c0033364-a08e-46d4-f06b-b7afa039babc"
      },
      "outputs": [
        {
          "name": "stdout",
          "output_type": "stream",
          "text": [
            "PyTorch tensor: tensor([0, 1, 2, 3])\n",
            "Numpy array: [0 1 2 3]\n"
          ]
        }
      ],
      "source": [
        "tensor = torch.arange(4)\n",
        "np_arr = tensor.numpy()\n",
        "\n",
        "print(\"PyTorch tensor:\", tensor)\n",
        "print(\"Numpy array:\", np_arr)"
      ]
    },
    {
      "cell_type": "markdown",
      "metadata": {
        "id": "EqfqfIZQ8c5p"
      },
      "source": [
        "The conversion of tensors to numpy require the tensor to be on the CPU, and not the GPU (more on GPU support in a later section). In case you have a tensor on GPU, you need to call `.cpu()` on the tensor beforehand. Hence, you get a line like `np_arr = tensor.cpu().numpy()`."
      ]
    },
    {
      "cell_type": "markdown",
      "metadata": {
        "id": "6y5kmG6j8c5p"
      },
      "source": [
        "#### Operations\n",
        "\n",
        "Most operations that exist in numpy, also exist in PyTorch. A full list of operations can be found in the [PyTorch documentation](https://pytorch.org/docs/stable/tensors.html#), but we will review the most important ones here.\n",
        "\n",
        "The simplest operation is to add two tensors:"
      ]
    },
    {
      "cell_type": "code",
      "execution_count": null,
      "metadata": {
        "id": "JaTUiq0a8c5p",
        "outputId": "d5db9123-837a-411d-f171-8dd98d7150c7"
      },
      "outputs": [
        {
          "name": "stdout",
          "output_type": "stream",
          "text": [
            "X1 tensor([[0.1053, 0.2695, 0.3588],\n",
            "        [0.1994, 0.5472, 0.0062]])\n",
            "X2 tensor([[0.9516, 0.0753, 0.8860],\n",
            "        [0.5832, 0.3376, 0.8090]])\n",
            "Y tensor([[1.0569, 0.3448, 1.2448],\n",
            "        [0.7826, 0.8848, 0.8151]])\n"
          ]
        }
      ],
      "source": [
        "x1 = torch.rand(2, 3)\n",
        "x2 = torch.rand(2, 3)\n",
        "y = x1 + x2\n",
        "\n",
        "print(\"X1\", x1)\n",
        "print(\"X2\", x2)\n",
        "print(\"Y\", y)"
      ]
    },
    {
      "cell_type": "markdown",
      "metadata": {
        "id": "DfYzZMTz8c5p"
      },
      "source": [
        "Calling `x1 + x2` creates a new tensor containing the sum of the two inputs. However, we can also use in-place operations that are applied directly on the memory of a tensor. We therefore change the values of `x2` without the chance to re-accessing the values of `x2` before the operation. An example is shown below:"
      ]
    },
    {
      "cell_type": "code",
      "execution_count": null,
      "metadata": {
        "id": "j1ADsiIg8c5p",
        "outputId": "3ea63cbd-6c55-4500-d9b7-aa36f658201e"
      },
      "outputs": [
        {
          "name": "stdout",
          "output_type": "stream",
          "text": [
            "X1 (before) tensor([[0.5779, 0.9040, 0.5547],\n",
            "        [0.3423, 0.6343, 0.3644]])\n",
            "X2 (before) tensor([[0.7104, 0.9464, 0.7890],\n",
            "        [0.2814, 0.7886, 0.5895]])\n",
            "X1 (after) tensor([[0.5779, 0.9040, 0.5547],\n",
            "        [0.3423, 0.6343, 0.3644]])\n",
            "X2 (after) tensor([[1.2884, 1.8504, 1.3437],\n",
            "        [0.6237, 1.4230, 0.9539]])\n"
          ]
        }
      ],
      "source": [
        "x1 = torch.rand(2, 3)\n",
        "x2 = torch.rand(2, 3)\n",
        "print(\"X1 (before)\", x1)\n",
        "print(\"X2 (before)\", x2)\n",
        "\n",
        "x2.add_(x1)\n",
        "print(\"X1 (after)\", x1)\n",
        "print(\"X2 (after)\", x2)"
      ]
    },
    {
      "cell_type": "markdown",
      "metadata": {
        "id": "qU0GYB3e8c5p"
      },
      "source": [
        "In-place operations are usually marked with a underscore postfix (e.g. \"add_\" instead of \"add\").\n",
        "\n",
        "Another common operation aims at changing the shape of a tensor. A tensor of size (2,3) can be re-organized to any other shape with the same number of elements (e.g. a tensor of size (6), or (3,2), ...). In PyTorch, this operation is called `view`:"
      ]
    },
    {
      "cell_type": "code",
      "execution_count": null,
      "metadata": {
        "id": "YJl8UEYS8c5q",
        "outputId": "1df61c95-9657-42af-ef50-dcba430d0f29"
      },
      "outputs": [
        {
          "name": "stdout",
          "output_type": "stream",
          "text": [
            "X tensor([0, 1, 2, 3, 4, 5])\n"
          ]
        }
      ],
      "source": [
        "x = torch.arange(6)\n",
        "print(\"X\", x)"
      ]
    },
    {
      "cell_type": "code",
      "execution_count": null,
      "metadata": {
        "id": "-M_2YPMn8c5q",
        "outputId": "68729787-1fce-4384-bb45-0dc2c14ddc39"
      },
      "outputs": [
        {
          "name": "stdout",
          "output_type": "stream",
          "text": [
            "X tensor([[0, 1, 2],\n",
            "        [3, 4, 5]])\n"
          ]
        }
      ],
      "source": [
        "x = x.view(2, 3)\n",
        "print(\"X\", x)"
      ]
    },
    {
      "cell_type": "code",
      "execution_count": null,
      "metadata": {
        "id": "Dd2wnSz38c5q",
        "outputId": "fb70a9f4-a25d-4b0d-afbc-c9546807b957"
      },
      "outputs": [
        {
          "name": "stdout",
          "output_type": "stream",
          "text": [
            "X tensor([[0, 3],\n",
            "        [1, 4],\n",
            "        [2, 5]])\n"
          ]
        }
      ],
      "source": [
        "x = x.permute(1, 0) # Swapping dimension 0 and 1\n",
        "print(\"X\", x)"
      ]
    },
    {
      "cell_type": "markdown",
      "metadata": {
        "id": "Mrk-_WnL8c5q"
      },
      "source": [
        "Other commonly used operations include matrix multiplications, which are essential for neural networks. Quite often, we have an input vector $\\mathbf{x}$, which is transformed using a learned weight matrix $\\mathbf{W}$. There are multiple ways and functions to perform matrix multiplication, some of which we list below:\n",
        "\n",
        "* `torch.matmul`: Performs the matrix product over two tensors, where the specific behavior depends on the dimensions. If both inputs are matrices (2-dimensional tensors), it performs the standard matrix product. For higher dimensional inputs, the function supports broadcasting (for details see the [documentation](https://pytorch.org/docs/stable/generated/torch.matmul.html?highlight=matmul#torch.matmul)). Can also be written as `a @ b`, similar to numpy.\n",
        "* `torch.mm`: Performs the matrix product over two matrices, but doesn't support broadcasting (see [documentation](https://pytorch.org/docs/stable/generated/torch.mm.html?highlight=torch%20mm#torch.mm))\n",
        "* `torch.bmm`: Performs the matrix product with a support batch dimension. If the first tensor $T$ is of shape ($b\\times n\\times m$), and the second tensor $R$ ($b\\times m\\times p$), the output $O$ is of shape ($b\\times n\\times p$), and has been calculated by performing $b$ matrix multiplications of the submatrices of $T$ and $R$: $O_i = T_i @ R_i$\n",
        "* `torch.einsum`: Performs matrix multiplications and more (i.e. sums of products) using the Einstein summation convention. Explanation of the Einstein sum can be found in assignment 1.\n",
        "\n",
        "Usually, we use `torch.matmul` or `torch.bmm`. We can try a matrix multiplication with `torch.matmul` below."
      ]
    },
    {
      "cell_type": "code",
      "execution_count": null,
      "metadata": {
        "id": "J2mx_LGZ8c5q",
        "outputId": "8473219c-3e03-4f3f-bd9b-dc495ba1d040"
      },
      "outputs": [
        {
          "name": "stdout",
          "output_type": "stream",
          "text": [
            "X tensor([[0, 1, 2],\n",
            "        [3, 4, 5]])\n"
          ]
        }
      ],
      "source": [
        "x = torch.arange(6)\n",
        "x = x.view(2, 3)\n",
        "print(\"X\", x)"
      ]
    },
    {
      "cell_type": "code",
      "execution_count": null,
      "metadata": {
        "id": "h5ULkwEK8c5q",
        "outputId": "dad7aa43-61a2-4f78-b236-6747487e163a"
      },
      "outputs": [
        {
          "name": "stdout",
          "output_type": "stream",
          "text": [
            "W tensor([[0, 1, 2],\n",
            "        [3, 4, 5],\n",
            "        [6, 7, 8]])\n"
          ]
        }
      ],
      "source": [
        "W = torch.arange(9).view(3, 3) # We can also stack multiple operations in a single line\n",
        "print(\"W\", W)"
      ]
    },
    {
      "cell_type": "code",
      "execution_count": null,
      "metadata": {
        "id": "JBvwfJ578c5q",
        "outputId": "55460e53-d945-44a0-a1bf-cf8da5c1e491"
      },
      "outputs": [
        {
          "name": "stdout",
          "output_type": "stream",
          "text": [
            "h tensor([[15, 18, 21],\n",
            "        [42, 54, 66]])\n"
          ]
        }
      ],
      "source": [
        "h = torch.matmul(x, W) # Verify the result by calculating it by hand too!\n",
        "print(\"h\", h)"
      ]
    },
    {
      "cell_type": "markdown",
      "metadata": {
        "id": "xLrzBaf88c5r"
      },
      "source": [
        "#### Indexing\n",
        "\n",
        "We often have the situation where we need to select a part of a tensor. Indexing works just like in numpy, so let's try it:"
      ]
    },
    {
      "cell_type": "code",
      "execution_count": null,
      "metadata": {
        "id": "hH-g5_VL8c5r",
        "outputId": "d6244338-963a-4bc9-d60f-367c277810b5"
      },
      "outputs": [
        {
          "name": "stdout",
          "output_type": "stream",
          "text": [
            "X tensor([[ 0,  1,  2,  3],\n",
            "        [ 4,  5,  6,  7],\n",
            "        [ 8,  9, 10, 11]])\n"
          ]
        }
      ],
      "source": [
        "x = torch.arange(12).view(3, 4)\n",
        "print(\"X\", x)"
      ]
    },
    {
      "cell_type": "code",
      "execution_count": null,
      "metadata": {
        "id": "_384YJCu8c5r",
        "outputId": "592e7178-1047-4017-b7fb-2d7e89662bf2"
      },
      "outputs": [
        {
          "name": "stdout",
          "output_type": "stream",
          "text": [
            "tensor([1, 5, 9])\n"
          ]
        }
      ],
      "source": [
        "print(x[:, 1])   # Second column"
      ]
    },
    {
      "cell_type": "code",
      "execution_count": null,
      "metadata": {
        "id": "tE5dmIO28c5s",
        "outputId": "ce1cb911-2ff5-4063-82d8-24f97146d612"
      },
      "outputs": [
        {
          "name": "stdout",
          "output_type": "stream",
          "text": [
            "tensor([0, 1, 2, 3])\n"
          ]
        }
      ],
      "source": [
        "print(x[0])      # First row"
      ]
    },
    {
      "cell_type": "code",
      "execution_count": null,
      "metadata": {
        "id": "DbqZ8RUl8c5s",
        "outputId": "675b95e4-a137-4072-e5d8-802c99e3c58c"
      },
      "outputs": [
        {
          "name": "stdout",
          "output_type": "stream",
          "text": [
            "tensor([3, 7])\n"
          ]
        }
      ],
      "source": [
        "print(x[:2, -1]) # First two rows, last column"
      ]
    },
    {
      "cell_type": "code",
      "execution_count": null,
      "metadata": {
        "id": "jDYFESKB8c5s",
        "outputId": "af198951-5246-43e6-ab78-863bbf930e29"
      },
      "outputs": [
        {
          "name": "stdout",
          "output_type": "stream",
          "text": [
            "tensor([[ 4,  5,  6,  7],\n",
            "        [ 8,  9, 10, 11]])\n"
          ]
        }
      ],
      "source": [
        "print(x[1:3, :]) # Middle two rows"
      ]
    },
    {
      "cell_type": "markdown",
      "metadata": {
        "id": "K-AiHK8J8c5s"
      },
      "source": [
        "### Dynamic Computation Graph and Backpropagation\n",
        "\n",
        "One of the main reasons for using PyTorch in Deep Learning projects is that we can automatically get **gradients/derivatives** of functions that we define. We will mainly use PyTorch for implementing neural networks, and they are just fancy functions. If we use weight matrices in our function that we want to learn, then those are called the **parameters** or simply the **weights**.\n",
        "\n",
        "If our neural network would output a single scalar value, we would talk about taking the **derivative**, but you will see that quite often we will have **multiple** output variables (\"values\"); in that case we talk about **gradients**. It's a more general term.\n",
        "\n",
        "Given an input $\\mathbf{x}$, we define our function by **manipulating** that input, usually by matrix-multiplications with weight matrices and additions with so-called bias vectors. As we manipulate our input, we are automatically creating a **computational graph**. This graph shows how to arrive at our output from our input.\n",
        "PyTorch is a **define-by-run** framework; this means that we can just do our manipulations, and PyTorch will keep track of that graph for us. Thus, we create a dynamic computation graph along the way.\n",
        "\n",
        "So, to recap: the only thing we have to do is to compute the **output**, and then we can ask PyTorch to automatically get the **gradients**.\n",
        "\n",
        "> **Note:  Why do we want gradients?** Consider that we have defined a function, a neural net, that is supposed to compute a certain output $y$ for an input vector $\\mathbf{x}$. We then define an **error measure** that tells us how wrong our network is; how bad it is in predicting output $y$ from input $\\mathbf{x}$. Based on this error measure, we can use the gradients to **update** the weights $\\mathbf{W}$ that were responsible for the output, so that the next time we present input $\\mathbf{x}$ to our network, the output will be closer to what we want.\n",
        "\n",
        "The first thing we have to do is to specify which tensors require gradients. By default, when we create a tensor, it does not require gradients."
      ]
    },
    {
      "cell_type": "code",
      "execution_count": 9,
      "metadata": {
        "id": "QxKqaQvz8c5s",
        "outputId": "479a71ea-6869-47ef-c975-269bd5bd249d",
        "colab": {
          "base_uri": "https://localhost:8080/"
        }
      },
      "outputs": [
        {
          "output_type": "stream",
          "name": "stdout",
          "text": [
            "False\n"
          ]
        }
      ],
      "source": [
        "x = torch.ones((3,))\n",
        "print(x.requires_grad)"
      ]
    },
    {
      "cell_type": "markdown",
      "metadata": {
        "id": "OqHNAWPq8c5t"
      },
      "source": [
        "We can change this for an existing tensor using the function `requires_grad_()` (underscore indicating that this is a in-place operation). Alternatively, when creating a tensor, you can pass the argument `requires_grad=True` to most initializers we have seen above."
      ]
    },
    {
      "cell_type": "code",
      "execution_count": 10,
      "metadata": {
        "id": "tSHDenX88c5t",
        "outputId": "9ecf2cec-e2be-48f1-b469-429c3583c272",
        "colab": {
          "base_uri": "https://localhost:8080/"
        }
      },
      "outputs": [
        {
          "output_type": "stream",
          "name": "stdout",
          "text": [
            "True\n"
          ]
        }
      ],
      "source": [
        "x.requires_grad_(True)\n",
        "print(x.requires_grad)"
      ]
    },
    {
      "cell_type": "markdown",
      "metadata": {
        "id": "Onk6sEMW8c5t"
      },
      "source": [
        "In order to get familiar with the concept of a computation graph, we will create one for the following function:\n",
        "\n",
        "$$y = \\frac{1}{\\ell(x)}\\sum_i \\left[(x_i + 2)^2 + 3\\right],$$\n",
        "\n",
        "where we use $\\ell(x)$ to denote the number of elements in $x$. In other words, we are taking a mean here over the operation within the sum. You could imagine that $x$ are our parameters, and we want to optimize (either maximize or minimize) the output $y$. For this, we want to obtain the gradients $\\partial y / \\partial \\mathbf{x}$. For our example, we'll use $\\mathbf{x}=[0,1,2]$ as our input."
      ]
    },
    {
      "cell_type": "code",
      "execution_count": 11,
      "metadata": {
        "id": "a3u2qnWC8c5u",
        "outputId": "434a2612-668f-4543-a732-42d0768ecb10",
        "colab": {
          "base_uri": "https://localhost:8080/"
        }
      },
      "outputs": [
        {
          "output_type": "stream",
          "name": "stdout",
          "text": [
            "X tensor([0., 1., 2.], requires_grad=True)\n"
          ]
        }
      ],
      "source": [
        "x = torch.arange(3, dtype=torch.float32, requires_grad=True) # Only float tensors can have gradients\n",
        "print(\"X\", x)"
      ]
    },
    {
      "cell_type": "markdown",
      "metadata": {
        "id": "TZwg2NmV8c5u"
      },
      "source": [
        "Now let's build the computation graph step by step. You can combine multiple operations in a single line, but we will separate them here to get a better understanding of how each operation is added to the computation graph."
      ]
    },
    {
      "cell_type": "code",
      "execution_count": 12,
      "metadata": {
        "id": "szVT4LCO8c5u",
        "outputId": "6b76b064-8a0c-43ac-f4d1-544cdee04ea0",
        "colab": {
          "base_uri": "https://localhost:8080/"
        }
      },
      "outputs": [
        {
          "output_type": "stream",
          "name": "stdout",
          "text": [
            "Y tensor(12.6667, grad_fn=<MeanBackward0>)\n"
          ]
        }
      ],
      "source": [
        "a = x + 2\n",
        "b = a ** 2\n",
        "c = b + 3\n",
        "y = c.mean()\n",
        "print(\"Y\", y)"
      ]
    },
    {
      "cell_type": "markdown",
      "metadata": {
        "id": "Khvnjc_q8c5u"
      },
      "source": [
        "Using the statements above, we have created a computation graph that looks similar to the figure below:\n",
        "\n",
        "<center style=\"width: 100%\"><img src=\"https://github.com/phlippe/uvadlc_notebooks/blob/master/docs/tutorial_notebooks/tutorial2/pytorch_computation_graph.svg?raw=1\" width=\"200px\"></center>\n",
        "\n",
        "We calculate $a$ based on the inputs $x$ and the constant $2$, $b$ is $a$ squared, and so on. The visualization is an abstraction of the dependencies between inputs and outputs of the operations we have applied.\n",
        "Each node of the computation graph has automatically defined a function for calculating the gradients with respect to its inputs, `grad_fn`. You can see this when we printed the output tensor $y$. This is why the computation graph is usually visualized in the reverse direction (arrows point from the result to the inputs). We can perform backpropagation on the computation graph by calling the function `backward()` on the last output, which effectively calculates the gradients for each tensor that has the property `requires_grad=True`:"
      ]
    },
    {
      "cell_type": "code",
      "execution_count": 13,
      "metadata": {
        "id": "8K9GmjXj8c5u"
      },
      "outputs": [],
      "source": [
        "y.backward()"
      ]
    },
    {
      "cell_type": "markdown",
      "metadata": {
        "id": "cJuvjXkl8c5u"
      },
      "source": [
        "`x.grad` will now contain the gradient $\\partial y/ \\partial \\mathcal{x}$, and this gradient indicates how a change in $\\mathbf{x}$ will affect output $y$ given the current input $\\mathbf{x}=[0,1,2]$:"
      ]
    },
    {
      "cell_type": "code",
      "execution_count": 14,
      "metadata": {
        "id": "WylQrzMj8c5v",
        "outputId": "d16b7b43-0007-452e-8b6b-b212b90e3989",
        "colab": {
          "base_uri": "https://localhost:8080/"
        }
      },
      "outputs": [
        {
          "output_type": "stream",
          "name": "stdout",
          "text": [
            "tensor([1.3333, 2.0000, 2.6667])\n"
          ]
        }
      ],
      "source": [
        "print(x.grad)"
      ]
    },
    {
      "cell_type": "markdown",
      "metadata": {
        "id": "V9l3HjW88c5v"
      },
      "source": [
        "We can also verify these gradients by hand. We will calculate the gradients using the chain rule, in the same way as PyTorch did it:\n",
        "\n",
        "$$\\frac{\\partial y}{\\partial x_i} = \\frac{\\partial y}{\\partial c_i}\\frac{\\partial c_i}{\\partial b_i}\\frac{\\partial b_i}{\\partial a_i}\\frac{\\partial a_i}{\\partial x_i}$$\n",
        "\n",
        "Note that we have simplified this equation to index notation, and by using the fact that all operation besides the mean do not combine the elements in the tensor. The partial derivatives are:\n",
        "\n",
        "$$\n",
        "\\frac{\\partial a_i}{\\partial x_i} = 1,\\hspace{1cm}\n",
        "\\frac{\\partial b_i}{\\partial a_i} = 2\\cdot a_i\\hspace{1cm}\n",
        "\\frac{\\partial c_i}{\\partial b_i} = 1\\hspace{1cm}\n",
        "\\frac{\\partial y}{\\partial c_i} = \\frac{1}{3}\n",
        "$$\n",
        "\n",
        "Hence, with the input being $\\mathbf{x}=[0,1,2]$, our gradients are $\\partial y/\\partial \\mathbf{x}=[4/3,2,8/3]$. The previous code cell should have printed the same result."
      ]
    },
    {
      "cell_type": "markdown",
      "metadata": {
        "id": "6pArZgyf8c5v"
      },
      "source": [
        "### GPU support\n",
        "\n",
        "A crucial feature of PyTorch is the support of GPUs, short for Graphics Processing Unit. A GPU can perform many thousands of small operations in parallel, making it very well suitable for performing large matrix operations in neural networks. When comparing GPUs to CPUs, we can list the following main differences (credit: [Kevin Krewell, 2009](https://blogs.nvidia.com/blog/2009/12/16/whats-the-difference-between-a-cpu-and-a-gpu/))\n",
        "\n",
        "<center style=\"width: 100%\"><img src=\"https://github.com/phlippe/uvadlc_notebooks/blob/master/docs/tutorial_notebooks/tutorial2/comparison_CPU_GPU.png?raw=1\" width=\"700px\"></center>\n",
        "\n",
        "CPUs and GPUs have both different advantages and disadvantages, which is why many computers contain both components and use them for different tasks. In case you are not familiar with GPUs, you can read up more details in this [NVIDIA blog post](https://blogs.nvidia.com/blog/2009/12/16/whats-the-difference-between-a-cpu-and-a-gpu/) or [here](https://www.intel.com/content/www/us/en/products/docs/processors/what-is-a-gpu.html).\n",
        "\n",
        "GPUs can accelerate the training of your network up to a factor of $100$ which is essential for large neural networks. PyTorch implements a lot of functionality for supporting GPUs (mostly those of NVIDIA due to the libraries [CUDA](https://developer.nvidia.com/cuda-zone) and [cuDNN](https://developer.nvidia.com/cudnn)). First, let's check whether you have a GPU available:"
      ]
    },
    {
      "cell_type": "code",
      "execution_count": 15,
      "metadata": {
        "id": "2YQg4pp28c5v",
        "outputId": "7cbd2b7f-1e39-4a4f-bb0a-abf045996da8",
        "colab": {
          "base_uri": "https://localhost:8080/"
        }
      },
      "outputs": [
        {
          "output_type": "stream",
          "name": "stdout",
          "text": [
            "Is the GPU available? False\n"
          ]
        }
      ],
      "source": [
        "gpu_avail = torch.cuda.is_available()\n",
        "print(f\"Is the GPU available? {gpu_avail}\")"
      ]
    },
    {
      "cell_type": "markdown",
      "metadata": {
        "id": "Lyk7Ja8Y8c5v"
      },
      "source": [
        "If you have a GPU on your computer but the command above returns False, make sure you have the correct CUDA-version installed. The `dl2024` environment comes with the CUDA 12.4, which is selected for the Snellius supercomputer. Please change it if necessary. On Google Colab, make sure that you have selected a GPU in your runtime setup (in the menu, check under `Runtime -> Change runtime type`).\n",
        "\n",
        "By default, all tensors you create are stored on the CPU. We can push a tensor to the GPU by using the function `.to(...)`, or `.cuda()`. However, it is often a good practice to define a `device` object in your code which points to the GPU if you have one, and otherwise to the CPU. Then, you can write your code with respect to this device object, and it allows you to run the same code on both a CPU-only system, and one with a GPU. Let's try it below. We can specify the device as follows:"
      ]
    },
    {
      "cell_type": "code",
      "execution_count": 32,
      "metadata": {
        "id": "aXrGz0iM8c5v",
        "outputId": "d16ebb22-634e-4373-bc65-ed2aeda400dd",
        "colab": {
          "base_uri": "https://localhost:8080/"
        }
      },
      "outputs": [
        {
          "output_type": "stream",
          "name": "stdout",
          "text": [
            "Device cuda\n"
          ]
        }
      ],
      "source": [
        "device = torch.device(\"cuda\") if torch.cuda.is_available() else torch.device(\"cpu\")\n",
        "print(\"Device\", device)"
      ]
    },
    {
      "cell_type": "markdown",
      "metadata": {
        "id": "UJKlDbDU8c5v"
      },
      "source": [
        "Now let's create a tensor and push it to the device:"
      ]
    },
    {
      "cell_type": "code",
      "execution_count": null,
      "metadata": {
        "id": "JeYwojVO8c5v",
        "outputId": "b145a700-8b85-4cb1-dc3d-458964e89d19"
      },
      "outputs": [
        {
          "name": "stdout",
          "output_type": "stream",
          "text": [
            "X tensor([[0., 0., 0.],\n",
            "        [0., 0., 0.]], device='cuda:0')\n"
          ]
        }
      ],
      "source": [
        "x = torch.zeros(2, 3)\n",
        "x = x.to(device)\n",
        "print(\"X\", x)"
      ]
    },
    {
      "cell_type": "markdown",
      "metadata": {
        "id": "oFgQ0dHD8c5v"
      },
      "source": [
        "In case you have a GPU, you should now see the attribute `device='cuda:0'` being printed next to your tensor. The zero next to cuda indicates that this is the zero-th GPU device on your computer. PyTorch also supports multi-GPU systems, but this you will only need once you have very big networks to train (if interested, see the [PyTorch documentation](https://pytorch.org/docs/stable/distributed.html#distributed-basics)). We can also compare the runtime of a large matrix multiplication on the CPU with a operation on the GPU:"
      ]
    },
    {
      "cell_type": "code",
      "execution_count": null,
      "metadata": {
        "id": "F42MBSab8c5v",
        "outputId": "46b74505-3027-498c-9160-e8cd8cb2258b"
      },
      "outputs": [
        {
          "name": "stdout",
          "output_type": "stream",
          "text": [
            "CPU time: 0.20694s\n",
            "GPU time: 0.00985s\n"
          ]
        }
      ],
      "source": [
        "x = torch.randn(5000, 5000)\n",
        "\n",
        "## CPU version\n",
        "start_time = time.time()\n",
        "_ = torch.matmul(x, x)\n",
        "end_time = time.time()\n",
        "print(f\"CPU time: {(end_time - start_time):6.5f}s\")\n",
        "\n",
        "## GPU version\n",
        "x = x.to(device)\n",
        "_ = torch.matmul(x, x)  # First operation to 'burn in' GPU\n",
        "# CUDA is asynchronous, so we need to use different timing functions\n",
        "start = torch.cuda.Event(enable_timing=True)\n",
        "end = torch.cuda.Event(enable_timing=True)\n",
        "start.record()\n",
        "_ = torch.matmul(x, x)\n",
        "end.record()\n",
        "torch.cuda.synchronize()  # Waits for everything to finish running on the GPU\n",
        "print(f\"GPU time: {0.001 * start.elapsed_time(end):6.5f}s\")  # Milliseconds to seconds"
      ]
    },
    {
      "cell_type": "markdown",
      "metadata": {
        "id": "eWC09Hb88c5v"
      },
      "source": [
        "Depending on the size of the operation and the CPU/GPU in your system, the speedup of this operation can be >50x. As `matmul` operations are very common in neural networks, we can already see the great benefit of training a NN on a GPU. The time estimate can be relatively noisy here because we haven't run it for multiple times. Feel free to extend this, but it also takes longer to run.\n",
        "\n",
        "When generating random numbers, the seed between CPU and GPU is not synchronized. Hence, we need to set the seed on the GPU separately to ensure a reproducible code. Note that due to different GPU architectures, running the same code on different GPUs does not guarantee the same random numbers. Still, we don't want that our code gives us a different output every time we run it on the exact same hardware. Hence, we also set the seed on the GPU:"
      ]
    },
    {
      "cell_type": "code",
      "execution_count": null,
      "metadata": {
        "id": "AFu--LaD8c5v"
      },
      "outputs": [],
      "source": [
        "# GPU operations have a separate seed we also want to set\n",
        "if torch.cuda.is_available():\n",
        "    torch.cuda.manual_seed(42)\n",
        "    torch.cuda.manual_seed_all(42)\n",
        "\n",
        "# Additionally, some operations on a GPU are implemented stochastic for efficiency\n",
        "# We want to ensure that all operations are deterministic on GPU (if used) for reproducibility\n",
        "torch.backends.cudnn.deterministic = True\n",
        "torch.backends.cudnn.benchmark = False"
      ]
    },
    {
      "cell_type": "markdown",
      "metadata": {
        "id": "HF5vY_ib8c5v"
      },
      "source": [
        "## Learning by example: Continuous XOR\n",
        "\n",
        "If we want to build a neural network in PyTorch, we could specify all our parameters (weight matrices, bias vectors) using `Tensors` (with `requires_grad=True`), ask PyTorch to calculate the gradients and then adjust the parameters. But things can quickly get cumbersome if we have a lot of parameters. In PyTorch, there is a package called `torch.nn` that makes building neural networks more convenient.\n",
        "\n",
        "We will introduce the libraries and all additional parts you might need to train a neural network in PyTorch, using a simple example classifier on a simple yet well known example: XOR. Given two binary inputs $x_1$ and $x_2$, the label to predict is $1$ if either $x_1$ or $x_2$ is $1$ while the other is $0$, or the label is $0$ in all other cases. The example became famous by the fact that a single neuron, i.e. a linear classifier, cannot learn this simple function.\n",
        "Hence, we will learn how to build a small neural network that can learn this function.\n",
        "To make it a little bit more interesting, we move the XOR into continuous space and introduce some gaussian noise on the binary inputs. Our desired separation of an XOR dataset could look as follows:\n",
        "\n",
        "<center style=\"width: 100%\"><img src=\"https://github.com/phlippe/uvadlc_notebooks/blob/master/docs/tutorial_notebooks/tutorial2/continuous_xor.svg?raw=1\" width=\"350px\"></center>"
      ]
    },
    {
      "cell_type": "markdown",
      "metadata": {
        "id": "uXNr9-4W8c5v"
      },
      "source": [
        "### The model\n",
        "\n",
        "The package `torch.nn` defines a series of useful classes like linear networks layers, activation functions, loss functions etc. A full list can be found [here](https://pytorch.org/docs/stable/nn.html). In case you need a certain network layer, check the documentation of the package first before writing the layer yourself as the package likely contains the code for it already. We import it below:"
      ]
    },
    {
      "cell_type": "code",
      "execution_count": 6,
      "metadata": {
        "id": "VkyNh5s68c5v"
      },
      "outputs": [],
      "source": [
        "import torch.nn as nn"
      ]
    },
    {
      "cell_type": "markdown",
      "metadata": {
        "id": "6rkqg3vc8c5w"
      },
      "source": [
        "Additionally to `torch.nn`, there is also `torch.nn.functional`. It contains functions that are used in network layers. This is in contrast to `torch.nn` which defines them as `nn.Modules` (more on it below), and `torch.nn` actually uses a lot of functionalities from `torch.nn.functional`. Hence, the functional package is useful in many situations, and so we import it as well here."
      ]
    },
    {
      "cell_type": "code",
      "execution_count": 7,
      "metadata": {
        "id": "AfZmtuc98c5w"
      },
      "outputs": [],
      "source": [
        "import torch.nn.functional as F"
      ]
    },
    {
      "cell_type": "markdown",
      "metadata": {
        "id": "hlVECouy8c5w"
      },
      "source": [
        "#### nn.Module\n",
        "\n",
        "In PyTorch, a neural network is built up out of modules. Modules can contain other modules, and a neural network is considered to be a module itself as well. The basic template of a module is as follows:"
      ]
    },
    {
      "cell_type": "code",
      "execution_count": 8,
      "metadata": {
        "id": "Fv2W5nsd8c5w"
      },
      "outputs": [],
      "source": [
        "class MyModule(nn.Module):\n",
        "\n",
        "    def __init__(self):\n",
        "        super().__init__()\n",
        "        # Some init for my module\n",
        "\n",
        "    def forward(self, x):\n",
        "        # Function for performing the calculation of the module.\n",
        "        pass"
      ]
    },
    {
      "cell_type": "markdown",
      "metadata": {
        "id": "WQUaUW1u8c5w"
      },
      "source": [
        "The forward function is where the computation of the module is taken place, and is executed when you call the module (`nn = MyModule(); nn(x)`). In the init function, we usually create the parameters of the module, using `nn.Parameter`, or defining other modules that are used in the forward function. The backward calculation is done automatically, but could be overwritten as well if wanted.\n",
        "\n",
        "#### Simple classifier\n",
        "We can now make use of the pre-defined modules in the `torch.nn` package, and define our own small neural network. We will use a minimal network with a input layer, one hidden layer with tanh as activation function, and a output layer. In other words, our networks should look something like this:\n",
        "\n",
        "<center width=\"100%\"><img src=\"https://github.com/phlippe/uvadlc_notebooks/blob/master/docs/tutorial_notebooks/tutorial2/small_neural_network.svg?raw=1\" width=\"300px\"></center>\n",
        "\n",
        "The input neurons are shown in blue, which represent the coordinates $x_1$ and $x_2$ of a data point. The hidden neurons including a tanh activation are shown in white, and the output neuron in red.\n",
        "In PyTorch, we can define this as follows:"
      ]
    },
    {
      "cell_type": "code",
      "execution_count": 10,
      "metadata": {
        "id": "rN4CXoak8c5w"
      },
      "outputs": [],
      "source": [
        "class SimpleClassifier(nn.Module):\n",
        "\n",
        "    def __init__(self, num_inputs, num_hidden, num_outputs):\n",
        "        super().__init__()\n",
        "        # Initialize the modules we need to build the network\n",
        "        self.linear1 = nn.Linear(num_inputs, num_hidden)\n",
        "        self.act_fn = nn.Tanh()\n",
        "        self.linear2 = nn.Linear(num_hidden, num_outputs)\n",
        "\n",
        "    def forward(self, x):\n",
        "        # Perform the calculation of the model to determine the prediction\n",
        "        x = self.linear1(x)\n",
        "        x = self.act_fn(x)\n",
        "        x = self.linear2(x)\n",
        "        return x"
      ]
    },
    {
      "cell_type": "markdown",
      "metadata": {
        "id": "QI0OTI508c5w"
      },
      "source": [
        "For the examples in this notebook, we will use a tiny neural network with two input neurons and four hidden neurons. As we perform binary classification, we will use a single output neuron. Note that we do not apply a sigmoid on the output yet. This is because other functions, especially the loss, are more efficient and precise to calculate on the original outputs instead of the sigmoid output. We will discuss the detailed reason later."
      ]
    },
    {
      "cell_type": "code",
      "execution_count": 11,
      "metadata": {
        "id": "WR_k5-Jv8c5w",
        "outputId": "f890608e-44ae-4163-a5f5-41875843edf6",
        "colab": {
          "base_uri": "https://localhost:8080/"
        }
      },
      "outputs": [
        {
          "output_type": "stream",
          "name": "stdout",
          "text": [
            "SimpleClassifier(\n",
            "  (linear1): Linear(in_features=2, out_features=4, bias=True)\n",
            "  (act_fn): Tanh()\n",
            "  (linear2): Linear(in_features=4, out_features=1, bias=True)\n",
            ")\n"
          ]
        }
      ],
      "source": [
        "model = SimpleClassifier(num_inputs=2, num_hidden=4, num_outputs=1)\n",
        "# Printing a module shows all its submodules\n",
        "print(model)"
      ]
    },
    {
      "cell_type": "markdown",
      "metadata": {
        "id": "ySZUDTkn8c5w"
      },
      "source": [
        "Printing the model lists all submodules it contains. The parameters of a module can be obtained by using its `parameters()` functions, or `named_parameters()` to get a name to each parameter object. For our small neural network, we have the following parameters:"
      ]
    },
    {
      "cell_type": "code",
      "execution_count": 12,
      "metadata": {
        "id": "DIJb2PQe8c5w",
        "outputId": "d042ef5a-3f82-4e58-f608-052100c1b7f1",
        "colab": {
          "base_uri": "https://localhost:8080/"
        }
      },
      "outputs": [
        {
          "output_type": "stream",
          "name": "stdout",
          "text": [
            "Parameter linear1.weight, shape torch.Size([4, 2])\n",
            "Parameter linear1.bias, shape torch.Size([4])\n",
            "Parameter linear2.weight, shape torch.Size([1, 4])\n",
            "Parameter linear2.bias, shape torch.Size([1])\n"
          ]
        }
      ],
      "source": [
        "for name, param in model.named_parameters():\n",
        "    print(f\"Parameter {name}, shape {param.shape}\")"
      ]
    },
    {
      "cell_type": "markdown",
      "metadata": {
        "id": "u0l6JCKx8c5w"
      },
      "source": [
        "Each linear layer has a weight matrix of the shape `[output, input]`, and a bias of the shape `[output]`. The tanh activation function does not have any parameters. Note that parameters are only registered for `nn.Module` objects that are direct object attributes, i.e. `self.a = ...`. If you define a list of modules, the parameters of those are not registered for the outer module and can cause some issues when you try to optimize your module. There are alternatives, like `nn.ModuleList`, `nn.ModuleDict` and `nn.Sequential`, that allow you to have different data structures of modules. We will use them in a few later tutorials and explain them there."
      ]
    },
    {
      "cell_type": "markdown",
      "metadata": {
        "id": "jXANN5Q38c5w"
      },
      "source": [
        "### The data\n",
        "\n",
        "PyTorch also provides a few functionalities to load the training and test data efficiently, summarized in the package `torch.utils.data`."
      ]
    },
    {
      "cell_type": "code",
      "execution_count": 13,
      "metadata": {
        "id": "Iv_bb2WY8c5w"
      },
      "outputs": [],
      "source": [
        "import torch.utils.data as data"
      ]
    },
    {
      "cell_type": "markdown",
      "metadata": {
        "id": "cXulvmNi8c5x"
      },
      "source": [
        "The data package defines two classes which are the standard interface for handling data in PyTorch: `data.Dataset`, and `data.DataLoader`. The dataset class provides an uniform interface to access the training/test data, while the data loader makes sure to efficiently load and stack the data points from the dataset into batches during training."
      ]
    },
    {
      "cell_type": "markdown",
      "metadata": {
        "id": "JfGv8qgO8c5x"
      },
      "source": [
        "#### The dataset class\n",
        "\n",
        "The dataset class summarizes the basic functionality of a dataset in a natural way. To define a dataset in PyTorch, we simply specify two functions: `__getitem__`, and `__len__`. The get-item function has to return the $i$-th data point in the dataset, while the len function returns the size of the dataset. For the XOR dataset, we can define the dataset class as follows:"
      ]
    },
    {
      "cell_type": "code",
      "execution_count": 14,
      "metadata": {
        "id": "f__QQkj48c5x"
      },
      "outputs": [],
      "source": [
        "class XORDataset(data.Dataset):\n",
        "\n",
        "    def __init__(self, size, std=0.1):\n",
        "        \"\"\"\n",
        "        Inputs:\n",
        "            size - Number of data points we want to generate\n",
        "            std - Standard deviation of the noise (see generate_continuous_xor function)\n",
        "        \"\"\"\n",
        "        super().__init__()\n",
        "        self.size = size\n",
        "        self.std = std\n",
        "        self.generate_continuous_xor()\n",
        "\n",
        "    def generate_continuous_xor(self):\n",
        "        # Each data point in the XOR dataset has two variables, x and y, that can be either 0 or 1\n",
        "        # The label is their XOR combination, i.e. 1 if only x or only y is 1 while the other is 0.\n",
        "        # If x=y, the label is 0.\n",
        "        data = torch.randint(low=0, high=2, size=(self.size, 2), dtype=torch.float32)\n",
        "        label = (data.sum(dim=1) == 1).to(torch.long)\n",
        "        # To make it slightly more challenging, we add a bit of gaussian noise to the data points.\n",
        "        data += self.std * torch.randn(data.shape)\n",
        "\n",
        "        self.data = data\n",
        "        self.label = label\n",
        "\n",
        "    def __len__(self):\n",
        "        # Number of data point we have. Alternatively self.data.shape[0], or self.label.shape[0]\n",
        "        return self.size\n",
        "\n",
        "    def __getitem__(self, idx):\n",
        "        # Return the idx-th data point of the dataset\n",
        "        # If we have multiple things to return (data point and label), we can return them as tuple\n",
        "        data_point = self.data[idx]\n",
        "        data_label = self.label[idx]\n",
        "        return data_point, data_label"
      ]
    },
    {
      "cell_type": "markdown",
      "metadata": {
        "id": "XqU69ok-8c5x"
      },
      "source": [
        "Let's try to create such a dataset and inspect it:"
      ]
    },
    {
      "cell_type": "code",
      "execution_count": 15,
      "metadata": {
        "id": "sn4knnrI8c5x",
        "outputId": "4cd70798-8662-4172-b1ed-6989d1c9a7e8",
        "colab": {
          "base_uri": "https://localhost:8080/"
        }
      },
      "outputs": [
        {
          "output_type": "stream",
          "name": "stdout",
          "text": [
            "Size of dataset: 200\n",
            "Data point 0: (tensor([-0.1368,  0.7960]), tensor(1))\n"
          ]
        }
      ],
      "source": [
        "dataset = XORDataset(size=200)\n",
        "print(\"Size of dataset:\", len(dataset))\n",
        "print(\"Data point 0:\", dataset[0])"
      ]
    },
    {
      "cell_type": "markdown",
      "metadata": {
        "id": "xj7P6FgF8c5x"
      },
      "source": [
        "To better relate to the dataset, we visualize the samples below."
      ]
    },
    {
      "cell_type": "code",
      "execution_count": 17,
      "metadata": {
        "id": "C6xhkN8U8c5x"
      },
      "outputs": [],
      "source": [
        "def visualize_samples(data, label):\n",
        "    if isinstance(data, torch.Tensor):\n",
        "        data = data.cpu().numpy()\n",
        "    if isinstance(label, torch.Tensor):\n",
        "        label = label.cpu().numpy()\n",
        "    data_0 = data[label == 0]\n",
        "    data_1 = data[label == 1]\n",
        "\n",
        "    plt.figure(figsize=(4,4))\n",
        "    plt.scatter(data_0[:,0], data_0[:,1], edgecolor=\"#333\", label=\"Class 0\")\n",
        "    plt.scatter(data_1[:,0], data_1[:,1], edgecolor=\"#333\", label=\"Class 1\")\n",
        "    plt.title(\"Dataset samples\")\n",
        "    plt.ylabel(r\"$x_2$\")\n",
        "    plt.xlabel(r\"$x_1$\")\n",
        "    plt.legend()"
      ]
    },
    {
      "cell_type": "code",
      "execution_count": 18,
      "metadata": {
        "id": "ry1PcSPd8c5x",
        "outputId": "45a102c3-6d6f-4629-d63a-281dbf99e69a",
        "colab": {
          "base_uri": "https://localhost:8080/",
          "height": 425
        }
      },
      "outputs": [
        {
          "output_type": "display_data",
          "data": {
            "text/plain": [
              "<Figure size 400x400 with 1 Axes>"
            ],
            "image/svg+xml": "<?xml version=\"1.0\" encoding=\"utf-8\" standalone=\"no\"?>\n<!DOCTYPE svg PUBLIC \"-//W3C//DTD SVG 1.1//EN\"\n  \"http://www.w3.org/Graphics/SVG/1.1/DTD/svg11.dtd\">\n<svg xmlns:xlink=\"http://www.w3.org/1999/xlink\" width=\"289.424844pt\" height=\"287.037813pt\" viewBox=\"0 0 289.424844 287.037813\" xmlns=\"http://www.w3.org/2000/svg\" version=\"1.1\">\n <metadata>\n  <rdf:RDF xmlns:dc=\"http://purl.org/dc/elements/1.1/\" xmlns:cc=\"http://creativecommons.org/ns#\" xmlns:rdf=\"http://www.w3.org/1999/02/22-rdf-syntax-ns#\">\n   <cc:Work>\n    <dc:type rdf:resource=\"http://purl.org/dc/dcmitype/StillImage\"/>\n    <dc:date>2025-06-13T03:57:42.046502</dc:date>\n    <dc:format>image/svg+xml</dc:format>\n    <dc:creator>\n     <cc:Agent>\n      <dc:title>Matplotlib v3.10.0, https://matplotlib.org/</dc:title>\n     </cc:Agent>\n    </dc:creator>\n   </cc:Work>\n  </rdf:RDF>\n </metadata>\n <defs>\n  <style type=\"text/css\">*{stroke-linejoin: round; stroke-linecap: butt}</style>\n </defs>\n <g id=\"figure_1\">\n  <g id=\"patch_1\">\n   <path d=\"M 0 287.037813 \nL 289.424844 287.037813 \nL 289.424844 0 \nL 0 0 \nz\n\" style=\"fill: #ffffff\"/>\n  </g>\n  <g id=\"axes_1\">\n   <g id=\"patch_2\">\n    <path d=\"M 59.024844 244.078125 \nL 282.224844 244.078125 \nL 282.224844 22.318125 \nL 59.024844 22.318125 \nz\n\" style=\"fill: #eaeaf2\"/>\n   </g>\n   <g id=\"matplotlib.axis_1\">\n    <g id=\"xtick_1\">\n     <g id=\"line2d_1\">\n      <path d=\"M 107.93264 244.078125 \nL 107.93264 22.318125 \n\" clip-path=\"url(#p779f7ee085)\" style=\"fill: none; stroke: #ffffff; stroke-linecap: round\"/>\n     </g>\n     <g id=\"text_1\">\n      <!-- 0.0 -->\n      <g style=\"fill: #262626\" transform=\"translate(99.185921 261.936406) scale(0.11 -0.11)\">\n       <defs>\n        <path id=\"DejaVuSans-30\" d=\"M 2034 4250 \nQ 1547 4250 1301 3770 \nQ 1056 3291 1056 2328 \nQ 1056 1369 1301 889 \nQ 1547 409 2034 409 \nQ 2525 409 2770 889 \nQ 3016 1369 3016 2328 \nQ 3016 3291 2770 3770 \nQ 2525 4250 2034 4250 \nz\nM 2034 4750 \nQ 2819 4750 3233 4129 \nQ 3647 3509 3647 2328 \nQ 3647 1150 3233 529 \nQ 2819 -91 2034 -91 \nQ 1250 -91 836 529 \nQ 422 1150 422 2328 \nQ 422 3509 836 4129 \nQ 1250 4750 2034 4750 \nz\n\" transform=\"scale(0.015625)\"/>\n        <path id=\"DejaVuSans-2e\" d=\"M 684 794 \nL 1344 794 \nL 1344 0 \nL 684 0 \nL 684 794 \nz\n\" transform=\"scale(0.015625)\"/>\n       </defs>\n       <use xlink:href=\"#DejaVuSans-30\"/>\n       <use xlink:href=\"#DejaVuSans-2e\" transform=\"translate(63.623047 0)\"/>\n       <use xlink:href=\"#DejaVuSans-30\" transform=\"translate(95.410156 0)\"/>\n      </g>\n     </g>\n    </g>\n    <g id=\"xtick_2\">\n     <g id=\"line2d_2\">\n      <path d=\"M 172.675406 244.078125 \nL 172.675406 22.318125 \n\" clip-path=\"url(#p779f7ee085)\" style=\"fill: none; stroke: #ffffff; stroke-linecap: round\"/>\n     </g>\n     <g id=\"text_2\">\n      <!-- 0.5 -->\n      <g style=\"fill: #262626\" transform=\"translate(163.928687 261.936406) scale(0.11 -0.11)\">\n       <defs>\n        <path id=\"DejaVuSans-35\" d=\"M 691 4666 \nL 3169 4666 \nL 3169 4134 \nL 1269 4134 \nL 1269 2991 \nQ 1406 3038 1543 3061 \nQ 1681 3084 1819 3084 \nQ 2600 3084 3056 2656 \nQ 3513 2228 3513 1497 \nQ 3513 744 3044 326 \nQ 2575 -91 1722 -91 \nQ 1428 -91 1123 -41 \nQ 819 9 494 109 \nL 494 744 \nQ 775 591 1075 516 \nQ 1375 441 1709 441 \nQ 2250 441 2565 725 \nQ 2881 1009 2881 1497 \nQ 2881 1984 2565 2268 \nQ 2250 2553 1709 2553 \nQ 1456 2553 1204 2497 \nQ 953 2441 691 2322 \nL 691 4666 \nz\n\" transform=\"scale(0.015625)\"/>\n       </defs>\n       <use xlink:href=\"#DejaVuSans-30\"/>\n       <use xlink:href=\"#DejaVuSans-2e\" transform=\"translate(63.623047 0)\"/>\n       <use xlink:href=\"#DejaVuSans-35\" transform=\"translate(95.410156 0)\"/>\n      </g>\n     </g>\n    </g>\n    <g id=\"xtick_3\">\n     <g id=\"line2d_3\">\n      <path d=\"M 237.418171 244.078125 \nL 237.418171 22.318125 \n\" clip-path=\"url(#p779f7ee085)\" style=\"fill: none; stroke: #ffffff; stroke-linecap: round\"/>\n     </g>\n     <g id=\"text_3\">\n      <!-- 1.0 -->\n      <g style=\"fill: #262626\" transform=\"translate(228.671452 261.936406) scale(0.11 -0.11)\">\n       <defs>\n        <path id=\"DejaVuSans-31\" d=\"M 794 531 \nL 1825 531 \nL 1825 4091 \nL 703 3866 \nL 703 4441 \nL 1819 4666 \nL 2450 4666 \nL 2450 531 \nL 3481 531 \nL 3481 0 \nL 794 0 \nL 794 531 \nz\n\" transform=\"scale(0.015625)\"/>\n       </defs>\n       <use xlink:href=\"#DejaVuSans-31\"/>\n       <use xlink:href=\"#DejaVuSans-2e\" transform=\"translate(63.623047 0)\"/>\n       <use xlink:href=\"#DejaVuSans-30\" transform=\"translate(95.410156 0)\"/>\n      </g>\n     </g>\n    </g>\n    <g id=\"text_4\">\n     <!-- $x_1$ -->\n     <g style=\"fill: #262626\" transform=\"translate(164.204844 277.342188) scale(0.12 -0.12)\">\n      <defs>\n       <path id=\"DejaVuSans-Oblique-78\" d=\"M 3841 3500 \nL 2234 1784 \nL 3219 0 \nL 2559 0 \nL 1819 1388 \nL 531 0 \nL -166 0 \nL 1556 1844 \nL 641 3500 \nL 1300 3500 \nL 1972 2234 \nL 3144 3500 \nL 3841 3500 \nz\n\" transform=\"scale(0.015625)\"/>\n      </defs>\n      <use xlink:href=\"#DejaVuSans-Oblique-78\" transform=\"translate(0 0.3125)\"/>\n      <use xlink:href=\"#DejaVuSans-31\" transform=\"translate(59.179688 -16.09375) scale(0.7)\"/>\n     </g>\n    </g>\n   </g>\n   <g id=\"matplotlib.axis_2\">\n    <g id=\"ytick_1\">\n     <g id=\"line2d_4\">\n      <path d=\"M 59.024844 229.456094 \nL 282.224844 229.456094 \n\" clip-path=\"url(#p779f7ee085)\" style=\"fill: none; stroke: #ffffff; stroke-linecap: round\"/>\n     </g>\n     <g id=\"text_5\">\n      <!-- −0.2 -->\n      <g style=\"fill: #262626\" transform=\"translate(22.81375 233.635235) scale(0.11 -0.11)\">\n       <defs>\n        <path id=\"DejaVuSans-2212\" d=\"M 678 2272 \nL 4684 2272 \nL 4684 1741 \nL 678 1741 \nL 678 2272 \nz\n\" transform=\"scale(0.015625)\"/>\n        <path id=\"DejaVuSans-32\" d=\"M 1228 531 \nL 3431 531 \nL 3431 0 \nL 469 0 \nL 469 531 \nQ 828 903 1448 1529 \nQ 2069 2156 2228 2338 \nQ 2531 2678 2651 2914 \nQ 2772 3150 2772 3378 \nQ 2772 3750 2511 3984 \nQ 2250 4219 1831 4219 \nQ 1534 4219 1204 4116 \nQ 875 4013 500 3803 \nL 500 4441 \nQ 881 4594 1212 4672 \nQ 1544 4750 1819 4750 \nQ 2544 4750 2975 4387 \nQ 3406 4025 3406 3419 \nQ 3406 3131 3298 2873 \nQ 3191 2616 2906 2266 \nQ 2828 2175 2409 1742 \nQ 1991 1309 1228 531 \nz\n\" transform=\"scale(0.015625)\"/>\n       </defs>\n       <use xlink:href=\"#DejaVuSans-2212\"/>\n       <use xlink:href=\"#DejaVuSans-30\" transform=\"translate(83.789062 0)\"/>\n       <use xlink:href=\"#DejaVuSans-2e\" transform=\"translate(147.412109 0)\"/>\n       <use xlink:href=\"#DejaVuSans-32\" transform=\"translate(179.199219 0)\"/>\n      </g>\n     </g>\n    </g>\n    <g id=\"ytick_2\">\n     <g id=\"line2d_5\">\n      <path d=\"M 59.024844 202.474169 \nL 282.224844 202.474169 \n\" clip-path=\"url(#p779f7ee085)\" style=\"fill: none; stroke: #ffffff; stroke-linecap: round\"/>\n     </g>\n     <g id=\"text_6\">\n      <!-- 0.0 -->\n      <g style=\"fill: #262626\" transform=\"translate(32.031406 206.65331) scale(0.11 -0.11)\">\n       <use xlink:href=\"#DejaVuSans-30\"/>\n       <use xlink:href=\"#DejaVuSans-2e\" transform=\"translate(63.623047 0)\"/>\n       <use xlink:href=\"#DejaVuSans-30\" transform=\"translate(95.410156 0)\"/>\n      </g>\n     </g>\n    </g>\n    <g id=\"ytick_3\">\n     <g id=\"line2d_6\">\n      <path d=\"M 59.024844 175.492244 \nL 282.224844 175.492244 \n\" clip-path=\"url(#p779f7ee085)\" style=\"fill: none; stroke: #ffffff; stroke-linecap: round\"/>\n     </g>\n     <g id=\"text_7\">\n      <!-- 0.2 -->\n      <g style=\"fill: #262626\" transform=\"translate(32.031406 179.671385) scale(0.11 -0.11)\">\n       <use xlink:href=\"#DejaVuSans-30\"/>\n       <use xlink:href=\"#DejaVuSans-2e\" transform=\"translate(63.623047 0)\"/>\n       <use xlink:href=\"#DejaVuSans-32\" transform=\"translate(95.410156 0)\"/>\n      </g>\n     </g>\n    </g>\n    <g id=\"ytick_4\">\n     <g id=\"line2d_7\">\n      <path d=\"M 59.024844 148.510319 \nL 282.224844 148.510319 \n\" clip-path=\"url(#p779f7ee085)\" style=\"fill: none; stroke: #ffffff; stroke-linecap: round\"/>\n     </g>\n     <g id=\"text_8\">\n      <!-- 0.4 -->\n      <g style=\"fill: #262626\" transform=\"translate(32.031406 152.68946) scale(0.11 -0.11)\">\n       <defs>\n        <path id=\"DejaVuSans-34\" d=\"M 2419 4116 \nL 825 1625 \nL 2419 1625 \nL 2419 4116 \nz\nM 2253 4666 \nL 3047 4666 \nL 3047 1625 \nL 3713 1625 \nL 3713 1100 \nL 3047 1100 \nL 3047 0 \nL 2419 0 \nL 2419 1100 \nL 313 1100 \nL 313 1709 \nL 2253 4666 \nz\n\" transform=\"scale(0.015625)\"/>\n       </defs>\n       <use xlink:href=\"#DejaVuSans-30\"/>\n       <use xlink:href=\"#DejaVuSans-2e\" transform=\"translate(63.623047 0)\"/>\n       <use xlink:href=\"#DejaVuSans-34\" transform=\"translate(95.410156 0)\"/>\n      </g>\n     </g>\n    </g>\n    <g id=\"ytick_5\">\n     <g id=\"line2d_8\">\n      <path d=\"M 59.024844 121.528394 \nL 282.224844 121.528394 \n\" clip-path=\"url(#p779f7ee085)\" style=\"fill: none; stroke: #ffffff; stroke-linecap: round\"/>\n     </g>\n     <g id=\"text_9\">\n      <!-- 0.6 -->\n      <g style=\"fill: #262626\" transform=\"translate(32.031406 125.707534) scale(0.11 -0.11)\">\n       <defs>\n        <path id=\"DejaVuSans-36\" d=\"M 2113 2584 \nQ 1688 2584 1439 2293 \nQ 1191 2003 1191 1497 \nQ 1191 994 1439 701 \nQ 1688 409 2113 409 \nQ 2538 409 2786 701 \nQ 3034 994 3034 1497 \nQ 3034 2003 2786 2293 \nQ 2538 2584 2113 2584 \nz\nM 3366 4563 \nL 3366 3988 \nQ 3128 4100 2886 4159 \nQ 2644 4219 2406 4219 \nQ 1781 4219 1451 3797 \nQ 1122 3375 1075 2522 \nQ 1259 2794 1537 2939 \nQ 1816 3084 2150 3084 \nQ 2853 3084 3261 2657 \nQ 3669 2231 3669 1497 \nQ 3669 778 3244 343 \nQ 2819 -91 2113 -91 \nQ 1303 -91 875 529 \nQ 447 1150 447 2328 \nQ 447 3434 972 4092 \nQ 1497 4750 2381 4750 \nQ 2619 4750 2861 4703 \nQ 3103 4656 3366 4563 \nz\n\" transform=\"scale(0.015625)\"/>\n       </defs>\n       <use xlink:href=\"#DejaVuSans-30\"/>\n       <use xlink:href=\"#DejaVuSans-2e\" transform=\"translate(63.623047 0)\"/>\n       <use xlink:href=\"#DejaVuSans-36\" transform=\"translate(95.410156 0)\"/>\n      </g>\n     </g>\n    </g>\n    <g id=\"ytick_6\">\n     <g id=\"line2d_9\">\n      <path d=\"M 59.024844 94.546469 \nL 282.224844 94.546469 \n\" clip-path=\"url(#p779f7ee085)\" style=\"fill: none; stroke: #ffffff; stroke-linecap: round\"/>\n     </g>\n     <g id=\"text_10\">\n      <!-- 0.8 -->\n      <g style=\"fill: #262626\" transform=\"translate(32.031406 98.725609) scale(0.11 -0.11)\">\n       <defs>\n        <path id=\"DejaVuSans-38\" d=\"M 2034 2216 \nQ 1584 2216 1326 1975 \nQ 1069 1734 1069 1313 \nQ 1069 891 1326 650 \nQ 1584 409 2034 409 \nQ 2484 409 2743 651 \nQ 3003 894 3003 1313 \nQ 3003 1734 2745 1975 \nQ 2488 2216 2034 2216 \nz\nM 1403 2484 \nQ 997 2584 770 2862 \nQ 544 3141 544 3541 \nQ 544 4100 942 4425 \nQ 1341 4750 2034 4750 \nQ 2731 4750 3128 4425 \nQ 3525 4100 3525 3541 \nQ 3525 3141 3298 2862 \nQ 3072 2584 2669 2484 \nQ 3125 2378 3379 2068 \nQ 3634 1759 3634 1313 \nQ 3634 634 3220 271 \nQ 2806 -91 2034 -91 \nQ 1263 -91 848 271 \nQ 434 634 434 1313 \nQ 434 1759 690 2068 \nQ 947 2378 1403 2484 \nz\nM 1172 3481 \nQ 1172 3119 1398 2916 \nQ 1625 2713 2034 2713 \nQ 2441 2713 2670 2916 \nQ 2900 3119 2900 3481 \nQ 2900 3844 2670 4047 \nQ 2441 4250 2034 4250 \nQ 1625 4250 1398 4047 \nQ 1172 3844 1172 3481 \nz\n\" transform=\"scale(0.015625)\"/>\n       </defs>\n       <use xlink:href=\"#DejaVuSans-30\"/>\n       <use xlink:href=\"#DejaVuSans-2e\" transform=\"translate(63.623047 0)\"/>\n       <use xlink:href=\"#DejaVuSans-38\" transform=\"translate(95.410156 0)\"/>\n      </g>\n     </g>\n    </g>\n    <g id=\"ytick_7\">\n     <g id=\"line2d_10\">\n      <path d=\"M 59.024844 67.564544 \nL 282.224844 67.564544 \n\" clip-path=\"url(#p779f7ee085)\" style=\"fill: none; stroke: #ffffff; stroke-linecap: round\"/>\n     </g>\n     <g id=\"text_11\">\n      <!-- 1.0 -->\n      <g style=\"fill: #262626\" transform=\"translate(32.031406 71.743684) scale(0.11 -0.11)\">\n       <use xlink:href=\"#DejaVuSans-31\"/>\n       <use xlink:href=\"#DejaVuSans-2e\" transform=\"translate(63.623047 0)\"/>\n       <use xlink:href=\"#DejaVuSans-30\" transform=\"translate(95.410156 0)\"/>\n      </g>\n     </g>\n    </g>\n    <g id=\"ytick_8\">\n     <g id=\"line2d_11\">\n      <path d=\"M 59.024844 40.582618 \nL 282.224844 40.582618 \n\" clip-path=\"url(#p779f7ee085)\" style=\"fill: none; stroke: #ffffff; stroke-linecap: round\"/>\n     </g>\n     <g id=\"text_12\">\n      <!-- 1.2 -->\n      <g style=\"fill: #262626\" transform=\"translate(32.031406 44.761759) scale(0.11 -0.11)\">\n       <use xlink:href=\"#DejaVuSans-31\"/>\n       <use xlink:href=\"#DejaVuSans-2e\" transform=\"translate(63.623047 0)\"/>\n       <use xlink:href=\"#DejaVuSans-32\" transform=\"translate(95.410156 0)\"/>\n      </g>\n     </g>\n    </g>\n    <g id=\"text_13\">\n     <!-- $x_2$ -->\n     <g style=\"fill: #262626\" transform=\"translate(16.318125 139.618125) rotate(-90) scale(0.12 -0.12)\">\n      <use xlink:href=\"#DejaVuSans-Oblique-78\" transform=\"translate(0 0.3125)\"/>\n      <use xlink:href=\"#DejaVuSans-32\" transform=\"translate(59.179688 -16.09375) scale(0.7)\"/>\n     </g>\n    </g>\n   </g>\n   <g id=\"PathCollection_1\">\n    <defs>\n     <path id=\"m91ffdc22ad\" d=\"M 0 3 \nC 0.795609 3 1.55874 2.683901 2.12132 2.12132 \nC 2.683901 1.55874 3 0.795609 3 0 \nC 3 -0.795609 2.683901 -1.55874 2.12132 -2.12132 \nC 1.55874 -2.683901 0.795609 -3 0 -3 \nC -0.795609 -3 -1.55874 -2.683901 -2.12132 -2.12132 \nC -2.683901 -1.55874 -3 -0.795609 -3 0 \nC -3 0.795609 -2.683901 1.55874 -2.12132 2.12132 \nC -1.55874 2.683901 -0.795609 3 0 3 \nz\n\" style=\"stroke: #333333\"/>\n    </defs>\n    <g clip-path=\"url(#p779f7ee085)\">\n     <use xlink:href=\"#m91ffdc22ad\" x=\"101.909397\" y=\"202.463574\" style=\"fill: #4c72b0; stroke: #333333\"/>\n     <use xlink:href=\"#m91ffdc22ad\" x=\"91.762645\" y=\"214.402261\" style=\"fill: #4c72b0; stroke: #333333\"/>\n     <use xlink:href=\"#m91ffdc22ad\" x=\"110.375703\" y=\"200.974749\" style=\"fill: #4c72b0; stroke: #333333\"/>\n     <use xlink:href=\"#m91ffdc22ad\" x=\"129.692721\" y=\"233.145442\" style=\"fill: #4c72b0; stroke: #333333\"/>\n     <use xlink:href=\"#m91ffdc22ad\" x=\"245.371615\" y=\"85.294682\" style=\"fill: #4c72b0; stroke: #333333\"/>\n     <use xlink:href=\"#m91ffdc22ad\" x=\"92.622853\" y=\"192.377537\" style=\"fill: #4c72b0; stroke: #333333\"/>\n     <use xlink:href=\"#m91ffdc22ad\" x=\"238.606657\" y=\"64.174019\" style=\"fill: #4c72b0; stroke: #333333\"/>\n     <use xlink:href=\"#m91ffdc22ad\" x=\"113.719986\" y=\"233.998125\" style=\"fill: #4c72b0; stroke: #333333\"/>\n     <use xlink:href=\"#m91ffdc22ad\" x=\"243.083802\" y=\"70.888406\" style=\"fill: #4c72b0; stroke: #333333\"/>\n     <use xlink:href=\"#m91ffdc22ad\" x=\"254.728906\" y=\"62.975263\" style=\"fill: #4c72b0; stroke: #333333\"/>\n     <use xlink:href=\"#m91ffdc22ad\" x=\"97.206109\" y=\"207.745895\" style=\"fill: #4c72b0; stroke: #333333\"/>\n     <use xlink:href=\"#m91ffdc22ad\" x=\"232.657654\" y=\"72.415631\" style=\"fill: #4c72b0; stroke: #333333\"/>\n     <use xlink:href=\"#m91ffdc22ad\" x=\"110.351079\" y=\"194.82977\" style=\"fill: #4c72b0; stroke: #333333\"/>\n     <use xlink:href=\"#m91ffdc22ad\" x=\"238.33392\" y=\"77.084182\" style=\"fill: #4c72b0; stroke: #333333\"/>\n     <use xlink:href=\"#m91ffdc22ad\" x=\"221.787199\" y=\"65.591995\" style=\"fill: #4c72b0; stroke: #333333\"/>\n     <use xlink:href=\"#m91ffdc22ad\" x=\"118.849332\" y=\"199.879612\" style=\"fill: #4c72b0; stroke: #333333\"/>\n     <use xlink:href=\"#m91ffdc22ad\" x=\"120.86648\" y=\"199.409793\" style=\"fill: #4c72b0; stroke: #333333\"/>\n     <use xlink:href=\"#m91ffdc22ad\" x=\"246.304668\" y=\"63.594245\" style=\"fill: #4c72b0; stroke: #333333\"/>\n     <use xlink:href=\"#m91ffdc22ad\" x=\"237.853571\" y=\"77.790098\" style=\"fill: #4c72b0; stroke: #333333\"/>\n     <use xlink:href=\"#m91ffdc22ad\" x=\"247.938586\" y=\"64.942729\" style=\"fill: #4c72b0; stroke: #333333\"/>\n     <use xlink:href=\"#m91ffdc22ad\" x=\"113.892583\" y=\"186.849018\" style=\"fill: #4c72b0; stroke: #333333\"/>\n     <use xlink:href=\"#m91ffdc22ad\" x=\"121.976817\" y=\"223.780802\" style=\"fill: #4c72b0; stroke: #333333\"/>\n     <use xlink:href=\"#m91ffdc22ad\" x=\"109.814992\" y=\"222.969618\" style=\"fill: #4c72b0; stroke: #333333\"/>\n     <use xlink:href=\"#m91ffdc22ad\" x=\"235.397175\" y=\"57.586201\" style=\"fill: #4c72b0; stroke: #333333\"/>\n     <use xlink:href=\"#m91ffdc22ad\" x=\"219.156277\" y=\"92.096293\" style=\"fill: #4c72b0; stroke: #333333\"/>\n     <use xlink:href=\"#m91ffdc22ad\" x=\"241.112424\" y=\"67.423967\" style=\"fill: #4c72b0; stroke: #333333\"/>\n     <use xlink:href=\"#m91ffdc22ad\" x=\"244.685506\" y=\"59.858173\" style=\"fill: #4c72b0; stroke: #333333\"/>\n     <use xlink:href=\"#m91ffdc22ad\" x=\"101.939649\" y=\"188.139437\" style=\"fill: #4c72b0; stroke: #333333\"/>\n     <use xlink:href=\"#m91ffdc22ad\" x=\"125.841367\" y=\"195.182269\" style=\"fill: #4c72b0; stroke: #333333\"/>\n     <use xlink:href=\"#m91ffdc22ad\" x=\"95.0036\" y=\"185.214771\" style=\"fill: #4c72b0; stroke: #333333\"/>\n     <use xlink:href=\"#m91ffdc22ad\" x=\"254.442525\" y=\"49.370787\" style=\"fill: #4c72b0; stroke: #333333\"/>\n     <use xlink:href=\"#m91ffdc22ad\" x=\"234.290168\" y=\"62.34536\" style=\"fill: #4c72b0; stroke: #333333\"/>\n     <use xlink:href=\"#m91ffdc22ad\" x=\"122.043783\" y=\"210.828044\" style=\"fill: #4c72b0; stroke: #333333\"/>\n     <use xlink:href=\"#m91ffdc22ad\" x=\"112.502905\" y=\"195.812089\" style=\"fill: #4c72b0; stroke: #333333\"/>\n     <use xlink:href=\"#m91ffdc22ad\" x=\"110.171711\" y=\"192.185263\" style=\"fill: #4c72b0; stroke: #333333\"/>\n     <use xlink:href=\"#m91ffdc22ad\" x=\"104.223726\" y=\"194.485807\" style=\"fill: #4c72b0; stroke: #333333\"/>\n     <use xlink:href=\"#m91ffdc22ad\" x=\"227.493928\" y=\"81.429813\" style=\"fill: #4c72b0; stroke: #333333\"/>\n     <use xlink:href=\"#m91ffdc22ad\" x=\"120.32181\" y=\"190.542108\" style=\"fill: #4c72b0; stroke: #333333\"/>\n     <use xlink:href=\"#m91ffdc22ad\" x=\"106.965269\" y=\"198.700738\" style=\"fill: #4c72b0; stroke: #333333\"/>\n     <use xlink:href=\"#m91ffdc22ad\" x=\"253.466252\" y=\"73.779827\" style=\"fill: #4c72b0; stroke: #333333\"/>\n     <use xlink:href=\"#m91ffdc22ad\" x=\"245.601934\" y=\"74.40205\" style=\"fill: #4c72b0; stroke: #333333\"/>\n     <use xlink:href=\"#m91ffdc22ad\" x=\"110.93373\" y=\"219.263938\" style=\"fill: #4c72b0; stroke: #333333\"/>\n     <use xlink:href=\"#m91ffdc22ad\" x=\"241.342295\" y=\"68.451275\" style=\"fill: #4c72b0; stroke: #333333\"/>\n     <use xlink:href=\"#m91ffdc22ad\" x=\"258.701793\" y=\"67.688097\" style=\"fill: #4c72b0; stroke: #333333\"/>\n     <use xlink:href=\"#m91ffdc22ad\" x=\"232.782021\" y=\"55.09681\" style=\"fill: #4c72b0; stroke: #333333\"/>\n     <use xlink:href=\"#m91ffdc22ad\" x=\"261.173895\" y=\"41.601952\" style=\"fill: #4c72b0; stroke: #333333\"/>\n     <use xlink:href=\"#m91ffdc22ad\" x=\"261.666346\" y=\"83.478745\" style=\"fill: #4c72b0; stroke: #333333\"/>\n     <use xlink:href=\"#m91ffdc22ad\" x=\"244.258071\" y=\"80.5749\" style=\"fill: #4c72b0; stroke: #333333\"/>\n     <use xlink:href=\"#m91ffdc22ad\" x=\"220.279384\" y=\"76.930763\" style=\"fill: #4c72b0; stroke: #333333\"/>\n     <use xlink:href=\"#m91ffdc22ad\" x=\"235.242222\" y=\"56.300615\" style=\"fill: #4c72b0; stroke: #333333\"/>\n     <use xlink:href=\"#m91ffdc22ad\" x=\"95.659378\" y=\"197.755045\" style=\"fill: #4c72b0; stroke: #333333\"/>\n     <use xlink:href=\"#m91ffdc22ad\" x=\"97.412165\" y=\"184.79269\" style=\"fill: #4c72b0; stroke: #333333\"/>\n     <use xlink:href=\"#m91ffdc22ad\" x=\"88.474728\" y=\"185.998295\" style=\"fill: #4c72b0; stroke: #333333\"/>\n     <use xlink:href=\"#m91ffdc22ad\" x=\"114.586979\" y=\"190.986887\" style=\"fill: #4c72b0; stroke: #333333\"/>\n     <use xlink:href=\"#m91ffdc22ad\" x=\"103.873614\" y=\"206.002068\" style=\"fill: #4c72b0; stroke: #333333\"/>\n     <use xlink:href=\"#m91ffdc22ad\" x=\"100.896416\" y=\"192.576368\" style=\"fill: #4c72b0; stroke: #333333\"/>\n     <use xlink:href=\"#m91ffdc22ad\" x=\"98.411648\" y=\"186.405871\" style=\"fill: #4c72b0; stroke: #333333\"/>\n     <use xlink:href=\"#m91ffdc22ad\" x=\"101.094157\" y=\"193.64814\" style=\"fill: #4c72b0; stroke: #333333\"/>\n     <use xlink:href=\"#m91ffdc22ad\" x=\"225.018052\" y=\"57.941993\" style=\"fill: #4c72b0; stroke: #333333\"/>\n     <use xlink:href=\"#m91ffdc22ad\" x=\"106.966027\" y=\"214.305528\" style=\"fill: #4c72b0; stroke: #333333\"/>\n     <use xlink:href=\"#m91ffdc22ad\" x=\"122.685082\" y=\"198.992787\" style=\"fill: #4c72b0; stroke: #333333\"/>\n     <use xlink:href=\"#m91ffdc22ad\" x=\"112.84373\" y=\"194.395068\" style=\"fill: #4c72b0; stroke: #333333\"/>\n     <use xlink:href=\"#m91ffdc22ad\" x=\"109.966436\" y=\"198.664899\" style=\"fill: #4c72b0; stroke: #333333\"/>\n     <use xlink:href=\"#m91ffdc22ad\" x=\"238.45378\" y=\"57.851658\" style=\"fill: #4c72b0; stroke: #333333\"/>\n     <use xlink:href=\"#m91ffdc22ad\" x=\"128.490478\" y=\"205.537234\" style=\"fill: #4c72b0; stroke: #333333\"/>\n     <use xlink:href=\"#m91ffdc22ad\" x=\"245.499857\" y=\"53.147259\" style=\"fill: #4c72b0; stroke: #333333\"/>\n     <use xlink:href=\"#m91ffdc22ad\" x=\"220.774914\" y=\"76.115607\" style=\"fill: #4c72b0; stroke: #333333\"/>\n     <use xlink:href=\"#m91ffdc22ad\" x=\"88.550813\" y=\"217.266625\" style=\"fill: #4c72b0; stroke: #333333\"/>\n     <use xlink:href=\"#m91ffdc22ad\" x=\"267.080851\" y=\"66.964345\" style=\"fill: #4c72b0; stroke: #333333\"/>\n     <use xlink:href=\"#m91ffdc22ad\" x=\"118.283756\" y=\"194.711665\" style=\"fill: #4c72b0; stroke: #333333\"/>\n     <use xlink:href=\"#m91ffdc22ad\" x=\"119.762263\" y=\"186.821023\" style=\"fill: #4c72b0; stroke: #333333\"/>\n     <use xlink:href=\"#m91ffdc22ad\" x=\"238.684778\" y=\"48.244836\" style=\"fill: #4c72b0; stroke: #333333\"/>\n     <use xlink:href=\"#m91ffdc22ad\" x=\"240.614448\" y=\"66.338029\" style=\"fill: #4c72b0; stroke: #333333\"/>\n     <use xlink:href=\"#m91ffdc22ad\" x=\"111.063239\" y=\"194.489809\" style=\"fill: #4c72b0; stroke: #333333\"/>\n     <use xlink:href=\"#m91ffdc22ad\" x=\"222.231204\" y=\"59.544371\" style=\"fill: #4c72b0; stroke: #333333\"/>\n     <use xlink:href=\"#m91ffdc22ad\" x=\"230.771413\" y=\"74.143098\" style=\"fill: #4c72b0; stroke: #333333\"/>\n     <use xlink:href=\"#m91ffdc22ad\" x=\"110.699394\" y=\"196.569945\" style=\"fill: #4c72b0; stroke: #333333\"/>\n     <use xlink:href=\"#m91ffdc22ad\" x=\"232.029051\" y=\"56.867298\" style=\"fill: #4c72b0; stroke: #333333\"/>\n     <use xlink:href=\"#m91ffdc22ad\" x=\"257.222171\" y=\"62.992584\" style=\"fill: #4c72b0; stroke: #333333\"/>\n     <use xlink:href=\"#m91ffdc22ad\" x=\"112.022804\" y=\"197.936854\" style=\"fill: #4c72b0; stroke: #333333\"/>\n     <use xlink:href=\"#m91ffdc22ad\" x=\"128.892901\" y=\"185.557746\" style=\"fill: #4c72b0; stroke: #333333\"/>\n     <use xlink:href=\"#m91ffdc22ad\" x=\"241.817381\" y=\"44.67919\" style=\"fill: #4c72b0; stroke: #333333\"/>\n     <use xlink:href=\"#m91ffdc22ad\" x=\"227.420029\" y=\"63.606742\" style=\"fill: #4c72b0; stroke: #333333\"/>\n     <use xlink:href=\"#m91ffdc22ad\" x=\"117.616625\" y=\"226.907864\" style=\"fill: #4c72b0; stroke: #333333\"/>\n     <use xlink:href=\"#m91ffdc22ad\" x=\"111.724718\" y=\"227.705842\" style=\"fill: #4c72b0; stroke: #333333\"/>\n     <use xlink:href=\"#m91ffdc22ad\" x=\"231.892227\" y=\"84.267012\" style=\"fill: #4c72b0; stroke: #333333\"/>\n     <use xlink:href=\"#m91ffdc22ad\" x=\"116.501694\" y=\"189.58582\" style=\"fill: #4c72b0; stroke: #333333\"/>\n     <use xlink:href=\"#m91ffdc22ad\" x=\"225.082481\" y=\"82.1799\" style=\"fill: #4c72b0; stroke: #333333\"/>\n     <use xlink:href=\"#m91ffdc22ad\" x=\"92.194086\" y=\"218.136846\" style=\"fill: #4c72b0; stroke: #333333\"/>\n     <use xlink:href=\"#m91ffdc22ad\" x=\"94.109922\" y=\"180.568246\" style=\"fill: #4c72b0; stroke: #333333\"/>\n     <use xlink:href=\"#m91ffdc22ad\" x=\"94.578993\" y=\"218.407717\" style=\"fill: #4c72b0; stroke: #333333\"/>\n     <use xlink:href=\"#m91ffdc22ad\" x=\"110.486619\" y=\"225.464968\" style=\"fill: #4c72b0; stroke: #333333\"/>\n     <use xlink:href=\"#m91ffdc22ad\" x=\"223.533614\" y=\"80.955066\" style=\"fill: #4c72b0; stroke: #333333\"/>\n     <use xlink:href=\"#m91ffdc22ad\" x=\"124.776828\" y=\"203.896696\" style=\"fill: #4c72b0; stroke: #333333\"/>\n     <use xlink:href=\"#m91ffdc22ad\" x=\"107.809753\" y=\"200.294906\" style=\"fill: #4c72b0; stroke: #333333\"/>\n     <use xlink:href=\"#m91ffdc22ad\" x=\"223.586644\" y=\"65.839424\" style=\"fill: #4c72b0; stroke: #333333\"/>\n     <use xlink:href=\"#m91ffdc22ad\" x=\"237.519677\" y=\"54.473356\" style=\"fill: #4c72b0; stroke: #333333\"/>\n     <use xlink:href=\"#m91ffdc22ad\" x=\"92.76865\" y=\"203.65015\" style=\"fill: #4c72b0; stroke: #333333\"/>\n     <use xlink:href=\"#m91ffdc22ad\" x=\"101.612736\" y=\"194.774178\" style=\"fill: #4c72b0; stroke: #333333\"/>\n     <use xlink:href=\"#m91ffdc22ad\" x=\"252.851981\" y=\"73.011069\" style=\"fill: #4c72b0; stroke: #333333\"/>\n     <use xlink:href=\"#m91ffdc22ad\" x=\"233.134576\" y=\"84.238843\" style=\"fill: #4c72b0; stroke: #333333\"/>\n     <use xlink:href=\"#m91ffdc22ad\" x=\"237.304108\" y=\"74.262189\" style=\"fill: #4c72b0; stroke: #333333\"/>\n     <use xlink:href=\"#m91ffdc22ad\" x=\"233.304919\" y=\"64.201456\" style=\"fill: #4c72b0; stroke: #333333\"/>\n     <use xlink:href=\"#m91ffdc22ad\" x=\"112.85476\" y=\"210.794947\" style=\"fill: #4c72b0; stroke: #333333\"/>\n     <use xlink:href=\"#m91ffdc22ad\" x=\"233.342767\" y=\"84.9315\" style=\"fill: #4c72b0; stroke: #333333\"/>\n    </g>\n   </g>\n   <g id=\"PathCollection_2\">\n    <defs>\n     <path id=\"m9ea798e0c6\" d=\"M 0 3 \nC 0.795609 3 1.55874 2.683901 2.12132 2.12132 \nC 2.683901 1.55874 3 0.795609 3 0 \nC 3 -0.795609 2.683901 -1.55874 2.12132 -2.12132 \nC 1.55874 -2.683901 0.795609 -3 0 -3 \nC -0.795609 -3 -1.55874 -2.683901 -2.12132 -2.12132 \nC -2.683901 -1.55874 -3 -0.795609 -3 0 \nC -3 0.795609 -2.683901 1.55874 -2.12132 2.12132 \nC -1.55874 2.683901 -0.795609 3 0 3 \nz\n\" style=\"stroke: #333333\"/>\n    </defs>\n    <g clip-path=\"url(#p779f7ee085)\">\n     <use xlink:href=\"#m9ea798e0c6\" x=\"90.221942\" y=\"95.091205\" style=\"fill: #dd8452; stroke: #333333\"/>\n     <use xlink:href=\"#m9ea798e0c6\" x=\"243.852015\" y=\"211.338337\" style=\"fill: #dd8452; stroke: #333333\"/>\n     <use xlink:href=\"#m9ea798e0c6\" x=\"230.476718\" y=\"209.768975\" style=\"fill: #dd8452; stroke: #333333\"/>\n     <use xlink:href=\"#m9ea798e0c6\" x=\"242.266935\" y=\"189.00099\" style=\"fill: #dd8452; stroke: #333333\"/>\n     <use xlink:href=\"#m9ea798e0c6\" x=\"235.564121\" y=\"210.436201\" style=\"fill: #dd8452; stroke: #333333\"/>\n     <use xlink:href=\"#m9ea798e0c6\" x=\"130.848486\" y=\"52.295531\" style=\"fill: #dd8452; stroke: #333333\"/>\n     <use xlink:href=\"#m9ea798e0c6\" x=\"91.664537\" y=\"63.400468\" style=\"fill: #dd8452; stroke: #333333\"/>\n     <use xlink:href=\"#m9ea798e0c6\" x=\"246.991456\" y=\"217.477097\" style=\"fill: #dd8452; stroke: #333333\"/>\n     <use xlink:href=\"#m9ea798e0c6\" x=\"243.659514\" y=\"179.149661\" style=\"fill: #dd8452; stroke: #333333\"/>\n     <use xlink:href=\"#m9ea798e0c6\" x=\"251.705404\" y=\"200.945947\" style=\"fill: #dd8452; stroke: #333333\"/>\n     <use xlink:href=\"#m9ea798e0c6\" x=\"236.176687\" y=\"210.391165\" style=\"fill: #dd8452; stroke: #333333\"/>\n     <use xlink:href=\"#m9ea798e0c6\" x=\"108.084665\" y=\"98.741952\" style=\"fill: #dd8452; stroke: #333333\"/>\n     <use xlink:href=\"#m9ea798e0c6\" x=\"237.625243\" y=\"195.690517\" style=\"fill: #dd8452; stroke: #333333\"/>\n     <use xlink:href=\"#m9ea798e0c6\" x=\"252.990209\" y=\"194.323295\" style=\"fill: #dd8452; stroke: #333333\"/>\n     <use xlink:href=\"#m9ea798e0c6\" x=\"235.223459\" y=\"208.572744\" style=\"fill: #dd8452; stroke: #333333\"/>\n     <use xlink:href=\"#m9ea798e0c6\" x=\"87.177363\" y=\"56.335868\" style=\"fill: #dd8452; stroke: #333333\"/>\n     <use xlink:href=\"#m9ea798e0c6\" x=\"241.275551\" y=\"209.806155\" style=\"fill: #dd8452; stroke: #333333\"/>\n     <use xlink:href=\"#m9ea798e0c6\" x=\"86.131974\" y=\"52.764062\" style=\"fill: #dd8452; stroke: #333333\"/>\n     <use xlink:href=\"#m9ea798e0c6\" x=\"109.197195\" y=\"62.02318\" style=\"fill: #dd8452; stroke: #333333\"/>\n     <use xlink:href=\"#m9ea798e0c6\" x=\"238.120226\" y=\"212.019372\" style=\"fill: #dd8452; stroke: #333333\"/>\n     <use xlink:href=\"#m9ea798e0c6\" x=\"101.73971\" y=\"61.065887\" style=\"fill: #dd8452; stroke: #333333\"/>\n     <use xlink:href=\"#m9ea798e0c6\" x=\"234.226819\" y=\"217.005288\" style=\"fill: #dd8452; stroke: #333333\"/>\n     <use xlink:href=\"#m9ea798e0c6\" x=\"238.154385\" y=\"198.174232\" style=\"fill: #dd8452; stroke: #333333\"/>\n     <use xlink:href=\"#m9ea798e0c6\" x=\"117.137776\" y=\"66.346376\" style=\"fill: #dd8452; stroke: #333333\"/>\n     <use xlink:href=\"#m9ea798e0c6\" x=\"224.410372\" y=\"217.218\" style=\"fill: #dd8452; stroke: #333333\"/>\n     <use xlink:href=\"#m9ea798e0c6\" x=\"94.743301\" y=\"70.705235\" style=\"fill: #dd8452; stroke: #333333\"/>\n     <use xlink:href=\"#m9ea798e0c6\" x=\"241.054818\" y=\"164.814062\" style=\"fill: #dd8452; stroke: #333333\"/>\n     <use xlink:href=\"#m9ea798e0c6\" x=\"102.422213\" y=\"72.82304\" style=\"fill: #dd8452; stroke: #333333\"/>\n     <use xlink:href=\"#m9ea798e0c6\" x=\"245.773905\" y=\"183.906841\" style=\"fill: #dd8452; stroke: #333333\"/>\n     <use xlink:href=\"#m9ea798e0c6\" x=\"224.366318\" y=\"191.936745\" style=\"fill: #dd8452; stroke: #333333\"/>\n     <use xlink:href=\"#m9ea798e0c6\" x=\"240.500592\" y=\"201.7527\" style=\"fill: #dd8452; stroke: #333333\"/>\n     <use xlink:href=\"#m9ea798e0c6\" x=\"258.624474\" y=\"183.136792\" style=\"fill: #dd8452; stroke: #333333\"/>\n     <use xlink:href=\"#m9ea798e0c6\" x=\"97.268989\" y=\"68.831489\" style=\"fill: #dd8452; stroke: #333333\"/>\n     <use xlink:href=\"#m9ea798e0c6\" x=\"113.964793\" y=\"48.334303\" style=\"fill: #dd8452; stroke: #333333\"/>\n     <use xlink:href=\"#m9ea798e0c6\" x=\"98.82567\" y=\"75.641728\" style=\"fill: #dd8452; stroke: #333333\"/>\n     <use xlink:href=\"#m9ea798e0c6\" x=\"243.427683\" y=\"185.452884\" style=\"fill: #dd8452; stroke: #333333\"/>\n     <use xlink:href=\"#m9ea798e0c6\" x=\"238.451264\" y=\"195.000132\" style=\"fill: #dd8452; stroke: #333333\"/>\n     <use xlink:href=\"#m9ea798e0c6\" x=\"138.198295\" y=\"61.931446\" style=\"fill: #dd8452; stroke: #333333\"/>\n     <use xlink:href=\"#m9ea798e0c6\" x=\"87.370187\" y=\"74.800019\" style=\"fill: #dd8452; stroke: #333333\"/>\n     <use xlink:href=\"#m9ea798e0c6\" x=\"221.035688\" y=\"192.70233\" style=\"fill: #dd8452; stroke: #333333\"/>\n     <use xlink:href=\"#m9ea798e0c6\" x=\"112.401155\" y=\"65.3606\" style=\"fill: #dd8452; stroke: #333333\"/>\n     <use xlink:href=\"#m9ea798e0c6\" x=\"135.679449\" y=\"68.105349\" style=\"fill: #dd8452; stroke: #333333\"/>\n     <use xlink:href=\"#m9ea798e0c6\" x=\"81.757358\" y=\"70.149658\" style=\"fill: #dd8452; stroke: #333333\"/>\n     <use xlink:href=\"#m9ea798e0c6\" x=\"214.147589\" y=\"189.437705\" style=\"fill: #dd8452; stroke: #333333\"/>\n     <use xlink:href=\"#m9ea798e0c6\" x=\"103.974401\" y=\"69.415991\" style=\"fill: #dd8452; stroke: #333333\"/>\n     <use xlink:href=\"#m9ea798e0c6\" x=\"238.888176\" y=\"188.425514\" style=\"fill: #dd8452; stroke: #333333\"/>\n     <use xlink:href=\"#m9ea798e0c6\" x=\"222.354352\" y=\"203.474387\" style=\"fill: #dd8452; stroke: #333333\"/>\n     <use xlink:href=\"#m9ea798e0c6\" x=\"230.87525\" y=\"206.930719\" style=\"fill: #dd8452; stroke: #333333\"/>\n     <use xlink:href=\"#m9ea798e0c6\" x=\"257.834219\" y=\"196.003502\" style=\"fill: #dd8452; stroke: #333333\"/>\n     <use xlink:href=\"#m9ea798e0c6\" x=\"124.109663\" y=\"59.748651\" style=\"fill: #dd8452; stroke: #333333\"/>\n     <use xlink:href=\"#m9ea798e0c6\" x=\"241.418564\" y=\"212.436886\" style=\"fill: #dd8452; stroke: #333333\"/>\n     <use xlink:href=\"#m9ea798e0c6\" x=\"231.253367\" y=\"177.070872\" style=\"fill: #dd8452; stroke: #333333\"/>\n     <use xlink:href=\"#m9ea798e0c6\" x=\"228.263059\" y=\"208.5044\" style=\"fill: #dd8452; stroke: #333333\"/>\n     <use xlink:href=\"#m9ea798e0c6\" x=\"259.146855\" y=\"217.336933\" style=\"fill: #dd8452; stroke: #333333\"/>\n     <use xlink:href=\"#m9ea798e0c6\" x=\"98.042188\" y=\"57.611916\" style=\"fill: #dd8452; stroke: #333333\"/>\n     <use xlink:href=\"#m9ea798e0c6\" x=\"272.079389\" y=\"215.883288\" style=\"fill: #dd8452; stroke: #333333\"/>\n     <use xlink:href=\"#m9ea798e0c6\" x=\"238.060026\" y=\"205.333366\" style=\"fill: #dd8452; stroke: #333333\"/>\n     <use xlink:href=\"#m9ea798e0c6\" x=\"254.645105\" y=\"209.851452\" style=\"fill: #dd8452; stroke: #333333\"/>\n     <use xlink:href=\"#m9ea798e0c6\" x=\"103.198012\" y=\"69.905397\" style=\"fill: #dd8452; stroke: #333333\"/>\n     <use xlink:href=\"#m9ea798e0c6\" x=\"98.099852\" y=\"46.594806\" style=\"fill: #dd8452; stroke: #333333\"/>\n     <use xlink:href=\"#m9ea798e0c6\" x=\"95.604714\" y=\"57.802156\" style=\"fill: #dd8452; stroke: #333333\"/>\n     <use xlink:href=\"#m9ea798e0c6\" x=\"106.446868\" y=\"45.583234\" style=\"fill: #dd8452; stroke: #333333\"/>\n     <use xlink:href=\"#m9ea798e0c6\" x=\"113.616758\" y=\"70.475489\" style=\"fill: #dd8452; stroke: #333333\"/>\n     <use xlink:href=\"#m9ea798e0c6\" x=\"114.468175\" y=\"47.667926\" style=\"fill: #dd8452; stroke: #333333\"/>\n     <use xlink:href=\"#m9ea798e0c6\" x=\"236.183471\" y=\"193.799925\" style=\"fill: #dd8452; stroke: #333333\"/>\n     <use xlink:href=\"#m9ea798e0c6\" x=\"121.191925\" y=\"72.120686\" style=\"fill: #dd8452; stroke: #333333\"/>\n     <use xlink:href=\"#m9ea798e0c6\" x=\"248.396245\" y=\"182.431145\" style=\"fill: #dd8452; stroke: #333333\"/>\n     <use xlink:href=\"#m9ea798e0c6\" x=\"242.05832\" y=\"204.525215\" style=\"fill: #dd8452; stroke: #333333\"/>\n     <use xlink:href=\"#m9ea798e0c6\" x=\"222.144061\" y=\"220.259823\" style=\"fill: #dd8452; stroke: #333333\"/>\n     <use xlink:href=\"#m9ea798e0c6\" x=\"116.873031\" y=\"90.220047\" style=\"fill: #dd8452; stroke: #333333\"/>\n     <use xlink:href=\"#m9ea798e0c6\" x=\"112.432717\" y=\"54.183405\" style=\"fill: #dd8452; stroke: #333333\"/>\n     <use xlink:href=\"#m9ea798e0c6\" x=\"229.76311\" y=\"197.009247\" style=\"fill: #dd8452; stroke: #333333\"/>\n     <use xlink:href=\"#m9ea798e0c6\" x=\"115.780277\" y=\"52.8979\" style=\"fill: #dd8452; stroke: #333333\"/>\n     <use xlink:href=\"#m9ea798e0c6\" x=\"121.581265\" y=\"89.293776\" style=\"fill: #dd8452; stroke: #333333\"/>\n     <use xlink:href=\"#m9ea798e0c6\" x=\"122.018658\" y=\"70.252553\" style=\"fill: #dd8452; stroke: #333333\"/>\n     <use xlink:href=\"#m9ea798e0c6\" x=\"218.546182\" y=\"175.11684\" style=\"fill: #dd8452; stroke: #333333\"/>\n     <use xlink:href=\"#m9ea798e0c6\" x=\"105.385884\" y=\"86.518784\" style=\"fill: #dd8452; stroke: #333333\"/>\n     <use xlink:href=\"#m9ea798e0c6\" x=\"69.170298\" y=\"83.508337\" style=\"fill: #dd8452; stroke: #333333\"/>\n     <use xlink:href=\"#m9ea798e0c6\" x=\"124.766403\" y=\"93.871526\" style=\"fill: #dd8452; stroke: #333333\"/>\n     <use xlink:href=\"#m9ea798e0c6\" x=\"241.116206\" y=\"218.477232\" style=\"fill: #dd8452; stroke: #333333\"/>\n     <use xlink:href=\"#m9ea798e0c6\" x=\"114.273739\" y=\"56.665173\" style=\"fill: #dd8452; stroke: #333333\"/>\n     <use xlink:href=\"#m9ea798e0c6\" x=\"228.189692\" y=\"194.60956\" style=\"fill: #dd8452; stroke: #333333\"/>\n     <use xlink:href=\"#m9ea798e0c6\" x=\"229.6673\" y=\"211.965136\" style=\"fill: #dd8452; stroke: #333333\"/>\n     <use xlink:href=\"#m9ea798e0c6\" x=\"239.842669\" y=\"200.064074\" style=\"fill: #dd8452; stroke: #333333\"/>\n     <use xlink:href=\"#m9ea798e0c6\" x=\"88.476563\" y=\"84.293234\" style=\"fill: #dd8452; stroke: #333333\"/>\n     <use xlink:href=\"#m9ea798e0c6\" x=\"105.26725\" y=\"41.663934\" style=\"fill: #dd8452; stroke: #333333\"/>\n     <use xlink:href=\"#m9ea798e0c6\" x=\"111.185827\" y=\"48.709958\" style=\"fill: #dd8452; stroke: #333333\"/>\n     <use xlink:href=\"#m9ea798e0c6\" x=\"228.811426\" y=\"202.608586\" style=\"fill: #dd8452; stroke: #333333\"/>\n     <use xlink:href=\"#m9ea798e0c6\" x=\"75.863748\" y=\"91.911747\" style=\"fill: #dd8452; stroke: #333333\"/>\n     <use xlink:href=\"#m9ea798e0c6\" x=\"111.874348\" y=\"47.960884\" style=\"fill: #dd8452; stroke: #333333\"/>\n     <use xlink:href=\"#m9ea798e0c6\" x=\"242.345242\" y=\"222.41977\" style=\"fill: #dd8452; stroke: #333333\"/>\n     <use xlink:href=\"#m9ea798e0c6\" x=\"134.816603\" y=\"85.192945\" style=\"fill: #dd8452; stroke: #333333\"/>\n     <use xlink:href=\"#m9ea798e0c6\" x=\"109.636726\" y=\"64.428122\" style=\"fill: #dd8452; stroke: #333333\"/>\n     <use xlink:href=\"#m9ea798e0c6\" x=\"112.548217\" y=\"32.398125\" style=\"fill: #dd8452; stroke: #333333\"/>\n     <use xlink:href=\"#m9ea798e0c6\" x=\"141.076153\" y=\"79.849355\" style=\"fill: #dd8452; stroke: #333333\"/>\n    </g>\n   </g>\n   <g id=\"patch_3\">\n    <path d=\"M 59.024844 244.078125 \nL 59.024844 22.318125 \n\" style=\"fill: none; stroke: #ffffff; stroke-width: 1.25; stroke-linejoin: miter; stroke-linecap: square\"/>\n   </g>\n   <g id=\"patch_4\">\n    <path d=\"M 282.224844 244.078125 \nL 282.224844 22.318125 \n\" style=\"fill: none; stroke: #ffffff; stroke-width: 1.25; stroke-linejoin: miter; stroke-linecap: square\"/>\n   </g>\n   <g id=\"patch_5\">\n    <path d=\"M 59.024844 244.078125 \nL 282.224844 244.078125 \n\" style=\"fill: none; stroke: #ffffff; stroke-width: 1.25; stroke-linejoin: miter; stroke-linecap: square\"/>\n   </g>\n   <g id=\"patch_6\">\n    <path d=\"M 59.024844 22.318125 \nL 282.224844 22.318125 \n\" style=\"fill: none; stroke: #ffffff; stroke-width: 1.25; stroke-linejoin: miter; stroke-linecap: square\"/>\n   </g>\n   <g id=\"text_14\">\n    <!-- Dataset samples -->\n    <g style=\"fill: #262626\" transform=\"translate(120.282031 16.318125) scale(0.12 -0.12)\">\n     <defs>\n      <path id=\"DejaVuSans-44\" d=\"M 1259 4147 \nL 1259 519 \nL 2022 519 \nQ 2988 519 3436 956 \nQ 3884 1394 3884 2338 \nQ 3884 3275 3436 3711 \nQ 2988 4147 2022 4147 \nL 1259 4147 \nz\nM 628 4666 \nL 1925 4666 \nQ 3281 4666 3915 4102 \nQ 4550 3538 4550 2338 \nQ 4550 1131 3912 565 \nQ 3275 0 1925 0 \nL 628 0 \nL 628 4666 \nz\n\" transform=\"scale(0.015625)\"/>\n      <path id=\"DejaVuSans-61\" d=\"M 2194 1759 \nQ 1497 1759 1228 1600 \nQ 959 1441 959 1056 \nQ 959 750 1161 570 \nQ 1363 391 1709 391 \nQ 2188 391 2477 730 \nQ 2766 1069 2766 1631 \nL 2766 1759 \nL 2194 1759 \nz\nM 3341 1997 \nL 3341 0 \nL 2766 0 \nL 2766 531 \nQ 2569 213 2275 61 \nQ 1981 -91 1556 -91 \nQ 1019 -91 701 211 \nQ 384 513 384 1019 \nQ 384 1609 779 1909 \nQ 1175 2209 1959 2209 \nL 2766 2209 \nL 2766 2266 \nQ 2766 2663 2505 2880 \nQ 2244 3097 1772 3097 \nQ 1472 3097 1187 3025 \nQ 903 2953 641 2809 \nL 641 3341 \nQ 956 3463 1253 3523 \nQ 1550 3584 1831 3584 \nQ 2591 3584 2966 3190 \nQ 3341 2797 3341 1997 \nz\n\" transform=\"scale(0.015625)\"/>\n      <path id=\"DejaVuSans-74\" d=\"M 1172 4494 \nL 1172 3500 \nL 2356 3500 \nL 2356 3053 \nL 1172 3053 \nL 1172 1153 \nQ 1172 725 1289 603 \nQ 1406 481 1766 481 \nL 2356 481 \nL 2356 0 \nL 1766 0 \nQ 1100 0 847 248 \nQ 594 497 594 1153 \nL 594 3053 \nL 172 3053 \nL 172 3500 \nL 594 3500 \nL 594 4494 \nL 1172 4494 \nz\n\" transform=\"scale(0.015625)\"/>\n      <path id=\"DejaVuSans-73\" d=\"M 2834 3397 \nL 2834 2853 \nQ 2591 2978 2328 3040 \nQ 2066 3103 1784 3103 \nQ 1356 3103 1142 2972 \nQ 928 2841 928 2578 \nQ 928 2378 1081 2264 \nQ 1234 2150 1697 2047 \nL 1894 2003 \nQ 2506 1872 2764 1633 \nQ 3022 1394 3022 966 \nQ 3022 478 2636 193 \nQ 2250 -91 1575 -91 \nQ 1294 -91 989 -36 \nQ 684 19 347 128 \nL 347 722 \nQ 666 556 975 473 \nQ 1284 391 1588 391 \nQ 1994 391 2212 530 \nQ 2431 669 2431 922 \nQ 2431 1156 2273 1281 \nQ 2116 1406 1581 1522 \nL 1381 1569 \nQ 847 1681 609 1914 \nQ 372 2147 372 2553 \nQ 372 3047 722 3315 \nQ 1072 3584 1716 3584 \nQ 2034 3584 2315 3537 \nQ 2597 3491 2834 3397 \nz\n\" transform=\"scale(0.015625)\"/>\n      <path id=\"DejaVuSans-65\" d=\"M 3597 1894 \nL 3597 1613 \nL 953 1613 \nQ 991 1019 1311 708 \nQ 1631 397 2203 397 \nQ 2534 397 2845 478 \nQ 3156 559 3463 722 \nL 3463 178 \nQ 3153 47 2828 -22 \nQ 2503 -91 2169 -91 \nQ 1331 -91 842 396 \nQ 353 884 353 1716 \nQ 353 2575 817 3079 \nQ 1281 3584 2069 3584 \nQ 2775 3584 3186 3129 \nQ 3597 2675 3597 1894 \nz\nM 3022 2063 \nQ 3016 2534 2758 2815 \nQ 2500 3097 2075 3097 \nQ 1594 3097 1305 2825 \nQ 1016 2553 972 2059 \nL 3022 2063 \nz\n\" transform=\"scale(0.015625)\"/>\n      <path id=\"DejaVuSans-20\" transform=\"scale(0.015625)\"/>\n      <path id=\"DejaVuSans-6d\" d=\"M 3328 2828 \nQ 3544 3216 3844 3400 \nQ 4144 3584 4550 3584 \nQ 5097 3584 5394 3201 \nQ 5691 2819 5691 2113 \nL 5691 0 \nL 5113 0 \nL 5113 2094 \nQ 5113 2597 4934 2840 \nQ 4756 3084 4391 3084 \nQ 3944 3084 3684 2787 \nQ 3425 2491 3425 1978 \nL 3425 0 \nL 2847 0 \nL 2847 2094 \nQ 2847 2600 2669 2842 \nQ 2491 3084 2119 3084 \nQ 1678 3084 1418 2786 \nQ 1159 2488 1159 1978 \nL 1159 0 \nL 581 0 \nL 581 3500 \nL 1159 3500 \nL 1159 2956 \nQ 1356 3278 1631 3431 \nQ 1906 3584 2284 3584 \nQ 2666 3584 2933 3390 \nQ 3200 3197 3328 2828 \nz\n\" transform=\"scale(0.015625)\"/>\n      <path id=\"DejaVuSans-70\" d=\"M 1159 525 \nL 1159 -1331 \nL 581 -1331 \nL 581 3500 \nL 1159 3500 \nL 1159 2969 \nQ 1341 3281 1617 3432 \nQ 1894 3584 2278 3584 \nQ 2916 3584 3314 3078 \nQ 3713 2572 3713 1747 \nQ 3713 922 3314 415 \nQ 2916 -91 2278 -91 \nQ 1894 -91 1617 61 \nQ 1341 213 1159 525 \nz\nM 3116 1747 \nQ 3116 2381 2855 2742 \nQ 2594 3103 2138 3103 \nQ 1681 3103 1420 2742 \nQ 1159 2381 1159 1747 \nQ 1159 1113 1420 752 \nQ 1681 391 2138 391 \nQ 2594 391 2855 752 \nQ 3116 1113 3116 1747 \nz\n\" transform=\"scale(0.015625)\"/>\n      <path id=\"DejaVuSans-6c\" d=\"M 603 4863 \nL 1178 4863 \nL 1178 0 \nL 603 0 \nL 603 4863 \nz\n\" transform=\"scale(0.015625)\"/>\n     </defs>\n     <use xlink:href=\"#DejaVuSans-44\"/>\n     <use xlink:href=\"#DejaVuSans-61\" transform=\"translate(77.001953 0)\"/>\n     <use xlink:href=\"#DejaVuSans-74\" transform=\"translate(138.28125 0)\"/>\n     <use xlink:href=\"#DejaVuSans-61\" transform=\"translate(177.490234 0)\"/>\n     <use xlink:href=\"#DejaVuSans-73\" transform=\"translate(238.769531 0)\"/>\n     <use xlink:href=\"#DejaVuSans-65\" transform=\"translate(290.869141 0)\"/>\n     <use xlink:href=\"#DejaVuSans-74\" transform=\"translate(352.392578 0)\"/>\n     <use xlink:href=\"#DejaVuSans-20\" transform=\"translate(391.601562 0)\"/>\n     <use xlink:href=\"#DejaVuSans-73\" transform=\"translate(423.388672 0)\"/>\n     <use xlink:href=\"#DejaVuSans-61\" transform=\"translate(475.488281 0)\"/>\n     <use xlink:href=\"#DejaVuSans-6d\" transform=\"translate(536.767578 0)\"/>\n     <use xlink:href=\"#DejaVuSans-70\" transform=\"translate(634.179688 0)\"/>\n     <use xlink:href=\"#DejaVuSans-6c\" transform=\"translate(697.65625 0)\"/>\n     <use xlink:href=\"#DejaVuSans-65\" transform=\"translate(725.439453 0)\"/>\n     <use xlink:href=\"#DejaVuSans-73\" transform=\"translate(786.962891 0)\"/>\n    </g>\n   </g>\n   <g id=\"legend_1\">\n    <g id=\"patch_7\">\n     <path d=\"M 199.891562 150.994063 \nL 274.524844 150.994063 \nQ 276.724844 150.994063 276.724844 148.794063 \nL 276.724844 117.602188 \nQ 276.724844 115.402188 274.524844 115.402188 \nL 199.891562 115.402188 \nQ 197.691562 115.402188 197.691562 117.602188 \nL 197.691562 148.794063 \nQ 197.691562 150.994063 199.891562 150.994063 \nz\n\" style=\"fill: #eaeaf2; opacity: 0.8; stroke: #cccccc; stroke-linejoin: miter\"/>\n    </g>\n    <g id=\"PathCollection_3\">\n     <g>\n      <use xlink:href=\"#m91ffdc22ad\" x=\"213.091562\" y=\"125.272969\" style=\"fill: #4c72b0; stroke: #333333\"/>\n     </g>\n    </g>\n    <g id=\"text_15\">\n     <!-- Class 0 -->\n     <g style=\"fill: #262626\" transform=\"translate(232.891562 128.160469) scale(0.11 -0.11)\">\n      <defs>\n       <path id=\"DejaVuSans-43\" d=\"M 4122 4306 \nL 4122 3641 \nQ 3803 3938 3442 4084 \nQ 3081 4231 2675 4231 \nQ 1875 4231 1450 3742 \nQ 1025 3253 1025 2328 \nQ 1025 1406 1450 917 \nQ 1875 428 2675 428 \nQ 3081 428 3442 575 \nQ 3803 722 4122 1019 \nL 4122 359 \nQ 3791 134 3420 21 \nQ 3050 -91 2638 -91 \nQ 1578 -91 968 557 \nQ 359 1206 359 2328 \nQ 359 3453 968 4101 \nQ 1578 4750 2638 4750 \nQ 3056 4750 3426 4639 \nQ 3797 4528 4122 4306 \nz\n\" transform=\"scale(0.015625)\"/>\n      </defs>\n      <use xlink:href=\"#DejaVuSans-43\"/>\n      <use xlink:href=\"#DejaVuSans-6c\" transform=\"translate(69.824219 0)\"/>\n      <use xlink:href=\"#DejaVuSans-61\" transform=\"translate(97.607422 0)\"/>\n      <use xlink:href=\"#DejaVuSans-73\" transform=\"translate(158.886719 0)\"/>\n      <use xlink:href=\"#DejaVuSans-73\" transform=\"translate(210.986328 0)\"/>\n      <use xlink:href=\"#DejaVuSans-20\" transform=\"translate(263.085938 0)\"/>\n      <use xlink:href=\"#DejaVuSans-30\" transform=\"translate(294.873047 0)\"/>\n     </g>\n    </g>\n    <g id=\"PathCollection_4\">\n     <g>\n      <use xlink:href=\"#m9ea798e0c6\" x=\"213.091562\" y=\"141.418906\" style=\"fill: #dd8452; stroke: #333333\"/>\n     </g>\n    </g>\n    <g id=\"text_16\">\n     <!-- Class 1 -->\n     <g style=\"fill: #262626\" transform=\"translate(232.891562 144.306406) scale(0.11 -0.11)\">\n      <use xlink:href=\"#DejaVuSans-43\"/>\n      <use xlink:href=\"#DejaVuSans-6c\" transform=\"translate(69.824219 0)\"/>\n      <use xlink:href=\"#DejaVuSans-61\" transform=\"translate(97.607422 0)\"/>\n      <use xlink:href=\"#DejaVuSans-73\" transform=\"translate(158.886719 0)\"/>\n      <use xlink:href=\"#DejaVuSans-73\" transform=\"translate(210.986328 0)\"/>\n      <use xlink:href=\"#DejaVuSans-20\" transform=\"translate(263.085938 0)\"/>\n      <use xlink:href=\"#DejaVuSans-31\" transform=\"translate(294.873047 0)\"/>\n     </g>\n    </g>\n   </g>\n  </g>\n </g>\n <defs>\n  <clipPath id=\"p779f7ee085\">\n   <rect x=\"59.024844\" y=\"22.318125\" width=\"223.2\" height=\"221.76\"/>\n  </clipPath>\n </defs>\n</svg>\n",
            "application/pdf": "[encoded data removed]"
          },
          "metadata": {}
        }
      ],
      "source": [
        "visualize_samples(dataset.data, dataset.label)\n",
        "plt.show()"
      ]
    },
    {
      "cell_type": "markdown",
      "metadata": {
        "id": "3HTozaHN8c5x"
      },
      "source": [
        "#### The data loader class\n",
        "\n",
        "The class `torch.utils.data.DataLoader` represents a Python iterable over a dataset with support for automatic batching, multi-process data loading and many more features. The data loader communicates with the dataset using the function `__getitem__`, and stacks its outputs as tensors over the first dimension to form a batch.\n",
        "In contrast to the dataset class, we usually don't have to define our own data loader class, but can just create an object of it with the dataset as input. Additionally, we can configure our data loader with the following input arguments (only a selection, see full list [here](https://pytorch.org/docs/stable/data.html#torch.utils.data.DataLoader)):\n",
        "\n",
        "* `batch_size`: Number of samples to stack per batch\n",
        "* `shuffle`: If True, the data is returned in a random order. This is important during training for introducing stochasticity.\n",
        "* `num_workers`: Number of subprocesses to use for data loading. The default, 0, means that the data will be loaded in the main process which can slow down training for datasets where loading a data point takes a considerable amount of time (e.g. large images). More workers are recommended for those, but can cause issues on Windows computers. For tiny datasets as ours, 0 workers are usually faster.\n",
        "* `pin_memory`: If True, the data loader will copy Tensors into CUDA pinned memory before returning them. This can save some time for large data points on GPUs. Usually a good practice to use for a training set, but not necessarily for validation and test to save memory on the GPU.\n",
        "* `drop_last`: If True, the last batch is dropped in case it is smaller than the specified batch size. This occurs when the dataset size is not a multiple of the batch size. Only potentially helpful during training to keep a consistent batch size.\n",
        "\n",
        "Let's create a simple data loader below:"
      ]
    },
    {
      "cell_type": "code",
      "execution_count": 19,
      "metadata": {
        "id": "Y92dry5x8c5x"
      },
      "outputs": [],
      "source": [
        "data_loader = data.DataLoader(dataset, batch_size=8, shuffle=True)"
      ]
    },
    {
      "cell_type": "code",
      "execution_count": 26,
      "metadata": {
        "id": "b7s37I3l8c5x",
        "outputId": "5f1f36b5-b5e1-4df7-de6f-1ae266261368",
        "colab": {
          "base_uri": "https://localhost:8080/"
        }
      },
      "outputs": [
        {
          "output_type": "stream",
          "name": "stdout",
          "text": [
            "Data inputs torch.Size([8, 2]) \n",
            " tensor([[-0.0952,  1.0724],\n",
            "        [ 1.0686,  1.0294],\n",
            "        [-0.0812,  0.1311],\n",
            "        [ 0.8932,  1.0128],\n",
            "        [ 1.0054, -0.0708],\n",
            "        [ 0.9047,  0.8917],\n",
            "        [ 1.1835,  1.1924],\n",
            "        [ 1.0238,  0.0053]])\n",
            "Data labels torch.Size([8]) \n",
            " tensor([1, 0, 0, 0, 1, 0, 0, 1])\n"
          ]
        }
      ],
      "source": [
        "# next(iter(...)) catches the first batch of the data loader\n",
        "# If shuffle is True, this will return a different batch every time we run this cell\n",
        "# For iterating over the whole dataset, we can simple use \"for batch in data_loader: ...\"\n",
        "data_inputs, data_labels = next(iter(data_loader))\n",
        "\n",
        "# The shape of the outputs are [batch_size, d_1,...,d_N] where d_1,...,d_N are the\n",
        "# dimensions of the data point returned from the dataset class\n",
        "print(\"Data inputs\", data_inputs.shape, \"\\n\", data_inputs)\n",
        "print(\"Data labels\", data_labels.shape, \"\\n\", data_labels)"
      ]
    },
    {
      "cell_type": "markdown",
      "metadata": {
        "id": "cVelxfXE8c5x"
      },
      "source": [
        "### Optimization\n",
        "\n",
        "After defining the model and the dataset, it is time to prepare the optimization of the model. During training, we will perform the following steps:\n",
        "\n",
        "1. Get a batch from the data loader\n",
        "2. Obtain the predictions from the model for the batch\n",
        "3. Calculate the loss based on the difference between predictions and labels\n",
        "4. Backpropagation: calculate the gradients for every parameter with respect to the loss\n",
        "5. Update the parameters of the model in the direction of the gradients\n",
        "\n",
        "We have seen how we can do step 1, 2 and 4 in PyTorch. Now, we will look at step 3 and 5."
      ]
    },
    {
      "cell_type": "markdown",
      "metadata": {
        "id": "T0cenBGg8c5x"
      },
      "source": [
        "#### Loss modules\n",
        "\n",
        "We can calculate the loss for a batch by simply performing a few tensor operations as those are automatically added to the computation graph. For instance, for binary classification, we can use Binary Cross Entropy (BCE) which is defined as follows:\n",
        "\n",
        "$$\\mathcal{L}_{BCE} = -\\sum_i \\left[ y_i \\log x_i + (1 - y_i) \\log (1 - x_i) \\right]$$\n",
        "\n",
        "where $y$ are our labels, and $x$ our predictions, both in the range of $[0,1]$. However, PyTorch already provides a list of predefined loss functions which we can use (see [here](https://pytorch.org/docs/stable/nn.html#loss-functions) for a full list). For instance, for BCE, PyTorch has two modules: `nn.BCELoss()`, `nn.BCEWithLogitsLoss()`. While `nn.BCELoss` expects the inputs $x$ to be in the range $[0,1]$, i.e. the output of a sigmoid, `nn.BCEWithLogitsLoss` combines a sigmoid layer and the BCE loss in a single class. This version is numerically more stable than using a plain Sigmoid followed by a BCE loss because of the logarithms applied in the loss function. Hence, it is adviced to use loss functions applied on \"logits\" where possible (remember to not apply a sigmoid on the output of the model in this case!). For our model defined above, we therefore use the module `nn.BCEWithLogitsLoss`."
      ]
    },
    {
      "cell_type": "code",
      "execution_count": 28,
      "metadata": {
        "id": "Ppyhj41O8c5y"
      },
      "outputs": [],
      "source": [
        "loss_module = nn.BCEWithLogitsLoss()"
      ]
    },
    {
      "cell_type": "markdown",
      "metadata": {
        "id": "ZVh-VWlK8c5y"
      },
      "source": [
        "#### Stochastic Gradient Descent\n",
        "\n",
        "For updating the parameters, PyTorch provides the package `torch.optim` that has most popular optimizers implemented. We will discuss the specific optimizers and their differences later in the course, but will for now use the simplest of them: `torch.optim.SGD`. Stochastic Gradient Descent updates parameters by multiplying the gradients with a small constant, called learning rate, and subtracting those from the parameters (hence minimizing the loss). Therefore, we slowly move towards the direction of minimizing the loss. A good default value of the learning rate for a small network as ours is 0.1."
      ]
    },
    {
      "cell_type": "code",
      "execution_count": 29,
      "metadata": {
        "id": "aj6YdVk08c5y"
      },
      "outputs": [],
      "source": [
        "# Input to the optimizer are the parameters of the model: model.parameters()\n",
        "optimizer = torch.optim.SGD(model.parameters(), lr=0.1)"
      ]
    },
    {
      "cell_type": "markdown",
      "metadata": {
        "id": "iVGsjyhm8c5y"
      },
      "source": [
        "The optimizer provides two useful functions: `optimizer.step()`, and `optimizer.zero_grad()`. The step function updates the parameters based on the gradients as explained above. The function `optimizer.zero_grad()` sets the gradients of all parameters to zero. While this function seems less relevant at first, it is a crucial pre-step before performing backpropagation. If we call the `backward` function on the loss while the parameter gradients are non-zero from the previous batch, the new gradients would actually be added to the previous ones instead of overwriting them. This is done because a parameter might occur multiple times in a computation graph, and we need to sum the gradients in this case instead of replacing them. Hence, remember to call `optimizer.zero_grad()` before calculating the gradients of a batch."
      ]
    },
    {
      "cell_type": "markdown",
      "metadata": {
        "id": "EKXT8s7m8c5y"
      },
      "source": [
        "### Training\n",
        "\n",
        "Finally, we are ready to train our model. As a first step, we create a slightly larger dataset and specify a data loader with a larger batch size."
      ]
    },
    {
      "cell_type": "code",
      "execution_count": 30,
      "metadata": {
        "id": "xWGDgmKS8c5y"
      },
      "outputs": [],
      "source": [
        "train_dataset = XORDataset(size=2500)\n",
        "train_data_loader = data.DataLoader(train_dataset, batch_size=128, shuffle=True)"
      ]
    },
    {
      "cell_type": "markdown",
      "metadata": {
        "id": "SDmszun78c5y"
      },
      "source": [
        "Now, we can write a small training function. Remember our five steps: load a batch, obtain the predictions, calculate the loss, backpropagate, and update. Additionally, we have to push all data and model parameters to the device of our choice (GPU if available). For the tiny neural network we have, communicating the data to the GPU actually takes much more time than we could save from running the operation on CPU. For large networks, the communication time is significantly smaller than the actual runtime making a GPU crucial in these cases. Still, to practice, we will push the data to GPU here."
      ]
    },
    {
      "cell_type": "code",
      "execution_count": 33,
      "metadata": {
        "id": "lfcJdXTU8c5y",
        "outputId": "b7047b71-89d4-4a50-b6a1-23058043d7ff",
        "colab": {
          "base_uri": "https://localhost:8080/"
        }
      },
      "outputs": [
        {
          "output_type": "execute_result",
          "data": {
            "text/plain": [
              "SimpleClassifier(\n",
              "  (linear1): Linear(in_features=2, out_features=4, bias=True)\n",
              "  (act_fn): Tanh()\n",
              "  (linear2): Linear(in_features=4, out_features=1, bias=True)\n",
              ")"
            ]
          },
          "metadata": {},
          "execution_count": 33
        }
      ],
      "source": [
        "# Push model to device. Has to be only done once\n",
        "model.to(device)"
      ]
    },
    {
      "cell_type": "markdown",
      "metadata": {
        "id": "3sCOmlNS8c5y"
      },
      "source": [
        "In addition, we set our model to training mode. This is done by calling `model.train()`. There exist certain modules that need to perform a different forward step during training than during testing (e.g. BatchNorm and Dropout), and we can switch between them using `model.train()` and `model.eval()`."
      ]
    },
    {
      "cell_type": "code",
      "execution_count": 34,
      "metadata": {
        "id": "kx0JUclb8c5y"
      },
      "outputs": [],
      "source": [
        "def train_model(model, optimizer, data_loader, loss_module, num_epochs=100):\n",
        "    # Set model to train mode\n",
        "    model.train()\n",
        "\n",
        "    # Training loop\n",
        "    for epoch in tqdm(range(num_epochs)):\n",
        "        for data_inputs, data_labels in data_loader:\n",
        "\n",
        "            ## Step 1: Move input data to device (only strictly necessary if we use GPU)\n",
        "            data_inputs = data_inputs.to(device)\n",
        "            data_labels = data_labels.to(device)\n",
        "\n",
        "            ## Step 2: Run the model on the input data\n",
        "            preds = model(data_inputs)\n",
        "            preds = preds.squeeze(dim=1) # Output is [Batch size, 1], but we want [Batch size]\n",
        "\n",
        "            ## Step 3: Calculate the loss\n",
        "            loss = loss_module(preds, data_labels.float())\n",
        "\n",
        "            ## Step 4: Perform backpropagation\n",
        "            # Before calculating the gradients, we need to ensure that they are all zero.\n",
        "            # The gradients would not be overwritten, but actually added to the existing ones.\n",
        "            optimizer.zero_grad()\n",
        "            # Perform backpropagation\n",
        "            loss.backward()\n",
        "\n",
        "            ## Step 5: Update the parameters\n",
        "            optimizer.step()"
      ]
    },
    {
      "cell_type": "code",
      "execution_count": 35,
      "metadata": {
        "id": "C8CFNWuf8c5y",
        "outputId": "b3efb1f2-a760-47e2-cfcd-133afe1b56a2",
        "colab": {
          "base_uri": "https://localhost:8080/",
          "height": 69,
          "referenced_widgets": [
            "a7f6198ae1bf4475b059949c21ea8e12",
            "70e9b83d82a1421886755fbeb83474cb",
            "747dc3f4b65a4ca1b49204ec1ae58a6f",
            "3aa316c4f62047eb8151eb6c5e906e6c",
            "b524b3e337c0450f8ceb873554f4cd88",
            "d70a67a7b2194d31a53e9d8e171b6a6f",
            "6d85ab6a194d490dae768d04942ec63e",
            "29f73289d28b4bff96d94f87999d277e",
            "10c417b400db44cb88ef8292b7bf81cb",
            "a06e98f4574c44b1abe6efa676a0e2ec",
            "a2383749a38a4f62ae1fdd16443f6399"
          ]
        }
      },
      "outputs": [
        {
          "output_type": "display_data",
          "data": {
            "text/plain": [
              "  0%|          | 0/100 [00:00<?, ?it/s]"
            ],
            "application/vnd.jupyter.widget-view+json": {
              "version_major": 2,
              "version_minor": 0,
              "model_id": "a7f6198ae1bf4475b059949c21ea8e12"
            }
          },
          "metadata": {}
        }
      ],
      "source": [
        "train_model(model, optimizer, train_data_loader, loss_module)"
      ]
    },
    {
      "cell_type": "markdown",
      "metadata": {
        "id": "LcTk1iG68c5y"
      },
      "source": [
        "#### Saving a model\n",
        "\n",
        "After finish training a model, we save the model to disk so that we can load the same weights at a later time. For this, we extract the so-called `state_dict` from the model which contains all learnable parameters. For our simple model, the state dict contains the following entries:"
      ]
    },
    {
      "cell_type": "code",
      "execution_count": 36,
      "metadata": {
        "id": "gVg0X6J78c5y",
        "outputId": "1a4662a6-71cd-4435-c2a4-81b7bcb9ac14",
        "colab": {
          "base_uri": "https://localhost:8080/"
        }
      },
      "outputs": [
        {
          "output_type": "stream",
          "name": "stdout",
          "text": [
            "OrderedDict([('linear1.weight', tensor([[-1.9271,  2.5247],\n",
            "        [ 1.9299, -2.5389],\n",
            "        [ 2.7546,  0.1283],\n",
            "        [-2.9715, -3.4194]], device='cuda:0')), ('linear1.bias', tensor([ 1.0624, -1.0589, -1.5442,  1.3063], device='cuda:0')), ('linear2.weight', tensor([[-2.5482,  2.5598, -4.3180, -5.0659]], device='cuda:0')), ('linear2.bias', tensor([-0.1176], device='cuda:0'))])\n"
          ]
        }
      ],
      "source": [
        "state_dict = model.state_dict()\n",
        "print(state_dict)"
      ]
    },
    {
      "cell_type": "markdown",
      "metadata": {
        "id": "KHEtjo_f8c5y"
      },
      "source": [
        "To save the state dictionary, we can use `torch.save`:"
      ]
    },
    {
      "cell_type": "code",
      "execution_count": 37,
      "metadata": {
        "id": "dW2F6hKq8c5y"
      },
      "outputs": [],
      "source": [
        "# torch.save(object, filename). For the filename, any extension can be used\n",
        "torch.save(state_dict, \"our_model.tar\")"
      ]
    },
    {
      "cell_type": "markdown",
      "metadata": {
        "id": "jn6Eg-9u8c5y"
      },
      "source": [
        "To load a model from a state dict, we use the function `torch.load` to load the state dict from the disk, and the module function `load_state_dict` to overwrite our parameters with the new values:"
      ]
    },
    {
      "cell_type": "code",
      "execution_count": 38,
      "metadata": {
        "id": "XXtiicdS8c5z",
        "outputId": "8eda30c4-c5b4-4b4e-ebf2-897ca478a9a5",
        "colab": {
          "base_uri": "https://localhost:8080/"
        }
      },
      "outputs": [
        {
          "output_type": "stream",
          "name": "stdout",
          "text": [
            "Original model\n",
            " OrderedDict([('linear1.weight', tensor([[-1.9271,  2.5247],\n",
            "        [ 1.9299, -2.5389],\n",
            "        [ 2.7546,  0.1283],\n",
            "        [-2.9715, -3.4194]], device='cuda:0')), ('linear1.bias', tensor([ 1.0624, -1.0589, -1.5442,  1.3063], device='cuda:0')), ('linear2.weight', tensor([[-2.5482,  2.5598, -4.3180, -5.0659]], device='cuda:0')), ('linear2.bias', tensor([-0.1176], device='cuda:0'))])\n",
            "\n",
            "Loaded model\n",
            " OrderedDict([('linear1.weight', tensor([[-1.9271,  2.5247],\n",
            "        [ 1.9299, -2.5389],\n",
            "        [ 2.7546,  0.1283],\n",
            "        [-2.9715, -3.4194]])), ('linear1.bias', tensor([ 1.0624, -1.0589, -1.5442,  1.3063])), ('linear2.weight', tensor([[-2.5482,  2.5598, -4.3180, -5.0659]])), ('linear2.bias', tensor([-0.1176]))])\n"
          ]
        }
      ],
      "source": [
        "# Load state dict from the disk (make sure it is the same name as above)\n",
        "state_dict = torch.load(\"our_model.tar\")\n",
        "\n",
        "# Create a new model and load the state\n",
        "new_model = SimpleClassifier(num_inputs=2, num_hidden=4, num_outputs=1)\n",
        "new_model.load_state_dict(state_dict)\n",
        "\n",
        "# Verify that the parameters are the same\n",
        "print(\"Original model\\n\", model.state_dict())\n",
        "print(\"\\nLoaded model\\n\", new_model.state_dict())"
      ]
    },
    {
      "cell_type": "markdown",
      "metadata": {
        "id": "eClT1Ikw8c5z"
      },
      "source": [
        "A detailed tutorial on saving and loading models in PyTorch can be found [here](https://pytorch.org/tutorials/beginner/saving_loading_models.html)."
      ]
    },
    {
      "cell_type": "markdown",
      "metadata": {
        "id": "wvi0_7-38c5z"
      },
      "source": [
        "### Evaluation\n",
        "\n",
        "Once we have trained a model, it is time to evaluate it on a held-out test set. As our dataset consist of randomly generated data points, we need to first create a test set with a corresponding data loader."
      ]
    },
    {
      "cell_type": "code",
      "execution_count": 41,
      "metadata": {
        "id": "p8xnEyg28c5z"
      },
      "outputs": [],
      "source": [
        "test_dataset = XORDataset(size=500)\n",
        "# drop_last -> Don't drop the last batch although it is smaller than 128\n",
        "test_data_loader = data.DataLoader(test_dataset, batch_size=128, shuffle=False, drop_last=False)"
      ]
    },
    {
      "cell_type": "markdown",
      "metadata": {
        "id": "YQgGukHS8c5z"
      },
      "source": [
        "As metric, we will use accuracy which is calculated as follows:\n",
        "\n",
        "$$acc = \\frac{\\#\\text{correct predictions}}{\\#\\text{all predictions}} = \\frac{TP+TN}{TP+TN+FP+FN}$$\n",
        "\n",
        "where TP are the true positives, TN true negatives, FP false positives, and FN the fale negatives.\n",
        "\n",
        "When evaluating the model, we don't need to keep track of the computation graph as we don't intend to calculate the gradients. This reduces the required memory and speed up the model. In PyTorch, we can deactivate the computation graph using `with torch.no_grad(): ...`. Remember to additionally set the model to eval mode."
      ]
    },
    {
      "cell_type": "code",
      "execution_count": 42,
      "metadata": {
        "id": "qlJBNSDg8c5z"
      },
      "outputs": [],
      "source": [
        "def eval_model(model, data_loader):\n",
        "    model.eval() # Set model to eval mode\n",
        "    true_preds, num_preds = 0., 0.\n",
        "\n",
        "    with torch.no_grad(): # Deactivate gradients for the following code\n",
        "        for data_inputs, data_labels in data_loader:\n",
        "\n",
        "            # Determine prediction of model on dev set\n",
        "            data_inputs, data_labels = data_inputs.to(device), data_labels.to(device)\n",
        "            preds = model(data_inputs)\n",
        "            preds = preds.squeeze(dim=1)\n",
        "            preds = torch.sigmoid(preds) # Sigmoid to map predictions between 0 and 1\n",
        "            pred_labels = (preds >= 0.5).long() # Binarize predictions to 0 and 1\n",
        "\n",
        "            # Keep records of predictions for the accuracy metric (true_preds=TP+TN, num_preds=TP+TN+FP+FN)\n",
        "            true_preds += (pred_labels == data_labels).sum()\n",
        "            num_preds += data_labels.shape[0]\n",
        "\n",
        "    acc = true_preds / num_preds\n",
        "    print(f\"Accuracy of the model: {100.0*acc:4.2f}%\")"
      ]
    },
    {
      "cell_type": "code",
      "execution_count": 43,
      "metadata": {
        "id": "G50Y23e88c5z",
        "outputId": "c6d8ebb3-fc3b-42a7-9add-b7c2eeb8dc93",
        "colab": {
          "base_uri": "https://localhost:8080/"
        }
      },
      "outputs": [
        {
          "output_type": "stream",
          "name": "stdout",
          "text": [
            "Accuracy of the model: 100.00%\n"
          ]
        }
      ],
      "source": [
        "eval_model(model, test_data_loader)"
      ]
    },
    {
      "cell_type": "markdown",
      "metadata": {
        "id": "yKADcCFK8c5z"
      },
      "source": [
        "If we trained our model correctly, we should see a score close to 100% accuracy. However, this is only possible because of our simple task, and unfortunately, we usually don't get such high scores on test sets of more complex tasks."
      ]
    },
    {
      "cell_type": "markdown",
      "metadata": {
        "id": "mnXXUfRh8c5z"
      },
      "source": [
        "#### Visualizing classification boundaries\n",
        "\n",
        "To visualize what our model has learned, we can perform a prediction for every data point in a range of $[-0.5, 1.5]$, and visualize the predicted class as in the sample figure at the beginning of this section. This shows where the model has created decision boundaries, and which points would be classified as $0$, and which as $1$. We therefore get a background image out of blue (class 0) and orange (class 1). The spots where the model is uncertain we will see a blurry overlap. The specific code is less relevant compared to the output figure which should hopefully show us a clear separation of classes:"
      ]
    },
    {
      "cell_type": "code",
      "execution_count": 44,
      "metadata": {
        "id": "RZgwi-988c5z",
        "outputId": "7001e805-bc45-4910-e933-fd19725d26ca",
        "colab": {
          "base_uri": "https://localhost:8080/",
          "height": 425
        }
      },
      "outputs": [
        {
          "output_type": "display_data",
          "data": {
            "text/plain": [
              "<Figure size 2000x2000 with 1 Axes>"
            ],
            "image/svg+xml": "<?xml version=\"1.0\" encoding=\"utf-8\" standalone=\"no\"?>\n<!DOCTYPE svg PUBLIC \"-//W3C//DTD SVG 1.1//EN\"\n  \"http://www.w3.org/Graphics/SVG/1.1/DTD/svg11.dtd\">\n<svg xmlns:xlink=\"http://www.w3.org/1999/xlink\" width=\"303.730313pt\" height=\"287.037813pt\" viewBox=\"0 0 303.730313 287.037813\" xmlns=\"http://www.w3.org/2000/svg\" version=\"1.1\">\n <metadata>\n  <rdf:RDF xmlns:dc=\"http://purl.org/dc/elements/1.1/\" xmlns:cc=\"http://creativecommons.org/ns#\" xmlns:rdf=\"http://www.w3.org/1999/02/22-rdf-syntax-ns#\">\n   <cc:Work>\n    <dc:type rdf:resource=\"http://purl.org/dc/dcmitype/StillImage\"/>\n    <dc:date>2025-06-13T04:14:26.232278</dc:date>\n    <dc:format>image/svg+xml</dc:format>\n    <dc:creator>\n     <cc:Agent>\n      <dc:title>Matplotlib v3.10.0, https://matplotlib.org/</dc:title>\n     </cc:Agent>\n    </dc:creator>\n   </cc:Work>\n  </rdf:RDF>\n </metadata>\n <defs>\n  <style type=\"text/css\">*{stroke-linejoin: round; stroke-linecap: butt}</style>\n </defs>\n <g id=\"figure_1\">\n  <g id=\"patch_1\">\n   <path d=\"M 0 287.037813 \nL 303.730313 287.037813 \nL 303.730313 0 \nL 0 0 \nz\n\" style=\"fill: #ffffff\"/>\n  </g>\n  <g id=\"axes_1\">\n   <g id=\"patch_2\">\n    <path d=\"M 66.023594 244.078125 \nL 287.783594 244.078125 \nL 287.783594 22.318125 \nL 66.023594 22.318125 \nz\n\" style=\"fill: #eaeaf2\"/>\n   </g>\n   <g clip-path=\"url(#pb68bb8410b)\">\n    <image xlink:href=\"data:image/png;base64,\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\" id=\"image6df03aceef\" transform=\"scale(1 -1) translate(0 -221.904)\" x=\"66.023594\" y=\"-22.174125\" width=\"221.904\" height=\"221.904\"/>\n   </g>\n   <g id=\"matplotlib.axis_1\">\n    <g id=\"xtick_1\">\n     <g id=\"text_1\">\n      <!-- −0.5 -->\n      <g style=\"fill: #262626\" transform=\"translate(52.668047 261.936406) scale(0.11 -0.11)\">\n       <defs>\n        <path id=\"DejaVuSans-2212\" d=\"M 678 2272 \nL 4684 2272 \nL 4684 1741 \nL 678 1741 \nL 678 2272 \nz\n\" transform=\"scale(0.015625)\"/>\n        <path id=\"DejaVuSans-30\" d=\"M 2034 4250 \nQ 1547 4250 1301 3770 \nQ 1056 3291 1056 2328 \nQ 1056 1369 1301 889 \nQ 1547 409 2034 409 \nQ 2525 409 2770 889 \nQ 3016 1369 3016 2328 \nQ 3016 3291 2770 3770 \nQ 2525 4250 2034 4250 \nz\nM 2034 4750 \nQ 2819 4750 3233 4129 \nQ 3647 3509 3647 2328 \nQ 3647 1150 3233 529 \nQ 2819 -91 2034 -91 \nQ 1250 -91 836 529 \nQ 422 1150 422 2328 \nQ 422 3509 836 4129 \nQ 1250 4750 2034 4750 \nz\n\" transform=\"scale(0.015625)\"/>\n        <path id=\"DejaVuSans-2e\" d=\"M 684 794 \nL 1344 794 \nL 1344 0 \nL 684 0 \nL 684 794 \nz\n\" transform=\"scale(0.015625)\"/>\n        <path id=\"DejaVuSans-35\" d=\"M 691 4666 \nL 3169 4666 \nL 3169 4134 \nL 1269 4134 \nL 1269 2991 \nQ 1406 3038 1543 3061 \nQ 1681 3084 1819 3084 \nQ 2600 3084 3056 2656 \nQ 3513 2228 3513 1497 \nQ 3513 744 3044 326 \nQ 2575 -91 1722 -91 \nQ 1428 -91 1123 -41 \nQ 819 9 494 109 \nL 494 744 \nQ 775 591 1075 516 \nQ 1375 441 1709 441 \nQ 2250 441 2565 725 \nQ 2881 1009 2881 1497 \nQ 2881 1984 2565 2268 \nQ 2250 2553 1709 2553 \nQ 1456 2553 1204 2497 \nQ 953 2441 691 2322 \nL 691 4666 \nz\n\" transform=\"scale(0.015625)\"/>\n       </defs>\n       <use xlink:href=\"#DejaVuSans-2212\"/>\n       <use xlink:href=\"#DejaVuSans-30\" transform=\"translate(83.789062 0)\"/>\n       <use xlink:href=\"#DejaVuSans-2e\" transform=\"translate(147.412109 0)\"/>\n       <use xlink:href=\"#DejaVuSans-35\" transform=\"translate(179.199219 0)\"/>\n      </g>\n     </g>\n    </g>\n    <g id=\"xtick_2\">\n     <g id=\"text_2\">\n      <!-- 0.0 -->\n      <g style=\"fill: #262626\" transform=\"translate(112.716875 261.936406) scale(0.11 -0.11)\">\n       <use xlink:href=\"#DejaVuSans-30\"/>\n       <use xlink:href=\"#DejaVuSans-2e\" transform=\"translate(63.623047 0)\"/>\n       <use xlink:href=\"#DejaVuSans-30\" transform=\"translate(95.410156 0)\"/>\n      </g>\n     </g>\n    </g>\n    <g id=\"xtick_3\">\n     <g id=\"text_3\">\n      <!-- 0.5 -->\n      <g style=\"fill: #262626\" transform=\"translate(168.156875 261.936406) scale(0.11 -0.11)\">\n       <use xlink:href=\"#DejaVuSans-30\"/>\n       <use xlink:href=\"#DejaVuSans-2e\" transform=\"translate(63.623047 0)\"/>\n       <use xlink:href=\"#DejaVuSans-35\" transform=\"translate(95.410156 0)\"/>\n      </g>\n     </g>\n    </g>\n    <g id=\"xtick_4\">\n     <g id=\"text_4\">\n      <!-- 1.0 -->\n      <g style=\"fill: #262626\" transform=\"translate(223.596875 261.936406) scale(0.11 -0.11)\">\n       <defs>\n        <path id=\"DejaVuSans-31\" d=\"M 794 531 \nL 1825 531 \nL 1825 4091 \nL 703 3866 \nL 703 4441 \nL 1819 4666 \nL 2450 4666 \nL 2450 531 \nL 3481 531 \nL 3481 0 \nL 794 0 \nL 794 531 \nz\n\" transform=\"scale(0.015625)\"/>\n       </defs>\n       <use xlink:href=\"#DejaVuSans-31\"/>\n       <use xlink:href=\"#DejaVuSans-2e\" transform=\"translate(63.623047 0)\"/>\n       <use xlink:href=\"#DejaVuSans-30\" transform=\"translate(95.410156 0)\"/>\n      </g>\n     </g>\n    </g>\n    <g id=\"xtick_5\">\n     <g id=\"text_5\">\n      <!-- 1.5 -->\n      <g style=\"fill: #262626\" transform=\"translate(279.036875 261.936406) scale(0.11 -0.11)\">\n       <use xlink:href=\"#DejaVuSans-31\"/>\n       <use xlink:href=\"#DejaVuSans-2e\" transform=\"translate(63.623047 0)\"/>\n       <use xlink:href=\"#DejaVuSans-35\" transform=\"translate(95.410156 0)\"/>\n      </g>\n     </g>\n    </g>\n    <g id=\"text_6\">\n     <!-- $x_1$ -->\n     <g style=\"fill: #262626\" transform=\"translate(170.483594 277.342188) scale(0.12 -0.12)\">\n      <defs>\n       <path id=\"DejaVuSans-Oblique-78\" d=\"M 3841 3500 \nL 2234 1784 \nL 3219 0 \nL 2559 0 \nL 1819 1388 \nL 531 0 \nL -166 0 \nL 1556 1844 \nL 641 3500 \nL 1300 3500 \nL 1972 2234 \nL 3144 3500 \nL 3841 3500 \nz\n\" transform=\"scale(0.015625)\"/>\n      </defs>\n      <use xlink:href=\"#DejaVuSans-Oblique-78\" transform=\"translate(0 0.3125)\"/>\n      <use xlink:href=\"#DejaVuSans-31\" transform=\"translate(59.179688 -16.09375) scale(0.7)\"/>\n     </g>\n    </g>\n   </g>\n   <g id=\"matplotlib.axis_2\">\n    <g id=\"ytick_1\">\n     <g id=\"text_7\">\n      <!-- −0.50 -->\n      <g style=\"fill: #262626\" transform=\"translate(22.81375 248.257266) scale(0.11 -0.11)\">\n       <use xlink:href=\"#DejaVuSans-2212\"/>\n       <use xlink:href=\"#DejaVuSans-30\" transform=\"translate(83.789062 0)\"/>\n       <use xlink:href=\"#DejaVuSans-2e\" transform=\"translate(147.412109 0)\"/>\n       <use xlink:href=\"#DejaVuSans-35\" transform=\"translate(179.199219 0)\"/>\n       <use xlink:href=\"#DejaVuSans-30\" transform=\"translate(242.822266 0)\"/>\n      </g>\n     </g>\n    </g>\n    <g id=\"ytick_2\">\n     <g id=\"text_8\">\n      <!-- −0.25 -->\n      <g style=\"fill: #262626\" transform=\"translate(22.81375 220.537266) scale(0.11 -0.11)\">\n       <defs>\n        <path id=\"DejaVuSans-32\" d=\"M 1228 531 \nL 3431 531 \nL 3431 0 \nL 469 0 \nL 469 531 \nQ 828 903 1448 1529 \nQ 2069 2156 2228 2338 \nQ 2531 2678 2651 2914 \nQ 2772 3150 2772 3378 \nQ 2772 3750 2511 3984 \nQ 2250 4219 1831 4219 \nQ 1534 4219 1204 4116 \nQ 875 4013 500 3803 \nL 500 4441 \nQ 881 4594 1212 4672 \nQ 1544 4750 1819 4750 \nQ 2544 4750 2975 4387 \nQ 3406 4025 3406 3419 \nQ 3406 3131 3298 2873 \nQ 3191 2616 2906 2266 \nQ 2828 2175 2409 1742 \nQ 1991 1309 1228 531 \nz\n\" transform=\"scale(0.015625)\"/>\n       </defs>\n       <use xlink:href=\"#DejaVuSans-2212\"/>\n       <use xlink:href=\"#DejaVuSans-30\" transform=\"translate(83.789062 0)\"/>\n       <use xlink:href=\"#DejaVuSans-2e\" transform=\"translate(147.412109 0)\"/>\n       <use xlink:href=\"#DejaVuSans-32\" transform=\"translate(179.199219 0)\"/>\n       <use xlink:href=\"#DejaVuSans-35\" transform=\"translate(242.822266 0)\"/>\n      </g>\n     </g>\n    </g>\n    <g id=\"ytick_3\">\n     <g id=\"text_9\">\n      <!-- 0.00 -->\n      <g style=\"fill: #262626\" transform=\"translate(32.031406 192.817266) scale(0.11 -0.11)\">\n       <use xlink:href=\"#DejaVuSans-30\"/>\n       <use xlink:href=\"#DejaVuSans-2e\" transform=\"translate(63.623047 0)\"/>\n       <use xlink:href=\"#DejaVuSans-30\" transform=\"translate(95.410156 0)\"/>\n       <use xlink:href=\"#DejaVuSans-30\" transform=\"translate(159.033203 0)\"/>\n      </g>\n     </g>\n    </g>\n    <g id=\"ytick_4\">\n     <g id=\"text_10\">\n      <!-- 0.25 -->\n      <g style=\"fill: #262626\" transform=\"translate(32.031406 165.097266) scale(0.11 -0.11)\">\n       <use xlink:href=\"#DejaVuSans-30\"/>\n       <use xlink:href=\"#DejaVuSans-2e\" transform=\"translate(63.623047 0)\"/>\n       <use xlink:href=\"#DejaVuSans-32\" transform=\"translate(95.410156 0)\"/>\n       <use xlink:href=\"#DejaVuSans-35\" transform=\"translate(159.033203 0)\"/>\n      </g>\n     </g>\n    </g>\n    <g id=\"ytick_5\">\n     <g id=\"text_11\">\n      <!-- 0.50 -->\n      <g style=\"fill: #262626\" transform=\"translate(32.031406 137.377266) scale(0.11 -0.11)\">\n       <use xlink:href=\"#DejaVuSans-30\"/>\n       <use xlink:href=\"#DejaVuSans-2e\" transform=\"translate(63.623047 0)\"/>\n       <use xlink:href=\"#DejaVuSans-35\" transform=\"translate(95.410156 0)\"/>\n       <use xlink:href=\"#DejaVuSans-30\" transform=\"translate(159.033203 0)\"/>\n      </g>\n     </g>\n    </g>\n    <g id=\"ytick_6\">\n     <g id=\"text_12\">\n      <!-- 0.75 -->\n      <g style=\"fill: #262626\" transform=\"translate(32.031406 109.657266) scale(0.11 -0.11)\">\n       <defs>\n        <path id=\"DejaVuSans-37\" d=\"M 525 4666 \nL 3525 4666 \nL 3525 4397 \nL 1831 0 \nL 1172 0 \nL 2766 4134 \nL 525 4134 \nL 525 4666 \nz\n\" transform=\"scale(0.015625)\"/>\n       </defs>\n       <use xlink:href=\"#DejaVuSans-30\"/>\n       <use xlink:href=\"#DejaVuSans-2e\" transform=\"translate(63.623047 0)\"/>\n       <use xlink:href=\"#DejaVuSans-37\" transform=\"translate(95.410156 0)\"/>\n       <use xlink:href=\"#DejaVuSans-35\" transform=\"translate(159.033203 0)\"/>\n      </g>\n     </g>\n    </g>\n    <g id=\"ytick_7\">\n     <g id=\"text_13\">\n      <!-- 1.00 -->\n      <g style=\"fill: #262626\" transform=\"translate(32.031406 81.937266) scale(0.11 -0.11)\">\n       <use xlink:href=\"#DejaVuSans-31\"/>\n       <use xlink:href=\"#DejaVuSans-2e\" transform=\"translate(63.623047 0)\"/>\n       <use xlink:href=\"#DejaVuSans-30\" transform=\"translate(95.410156 0)\"/>\n       <use xlink:href=\"#DejaVuSans-30\" transform=\"translate(159.033203 0)\"/>\n      </g>\n     </g>\n    </g>\n    <g id=\"ytick_8\">\n     <g id=\"text_14\">\n      <!-- 1.25 -->\n      <g style=\"fill: #262626\" transform=\"translate(32.031406 54.217266) scale(0.11 -0.11)\">\n       <use xlink:href=\"#DejaVuSans-31\"/>\n       <use xlink:href=\"#DejaVuSans-2e\" transform=\"translate(63.623047 0)\"/>\n       <use xlink:href=\"#DejaVuSans-32\" transform=\"translate(95.410156 0)\"/>\n       <use xlink:href=\"#DejaVuSans-35\" transform=\"translate(159.033203 0)\"/>\n      </g>\n     </g>\n    </g>\n    <g id=\"ytick_9\">\n     <g id=\"text_15\">\n      <!-- 1.50 -->\n      <g style=\"fill: #262626\" transform=\"translate(32.031406 26.497266) scale(0.11 -0.11)\">\n       <use xlink:href=\"#DejaVuSans-31\"/>\n       <use xlink:href=\"#DejaVuSans-2e\" transform=\"translate(63.623047 0)\"/>\n       <use xlink:href=\"#DejaVuSans-35\" transform=\"translate(95.410156 0)\"/>\n       <use xlink:href=\"#DejaVuSans-30\" transform=\"translate(159.033203 0)\"/>\n      </g>\n     </g>\n    </g>\n    <g id=\"text_16\">\n     <!-- $x_2$ -->\n     <g style=\"fill: #262626\" transform=\"translate(16.318125 139.618125) rotate(-90) scale(0.12 -0.12)\">\n      <use xlink:href=\"#DejaVuSans-Oblique-78\" transform=\"translate(0 0.3125)\"/>\n      <use xlink:href=\"#DejaVuSans-32\" transform=\"translate(59.179688 -16.09375) scale(0.7)\"/>\n     </g>\n    </g>\n   </g>\n   <g id=\"PathCollection_1\">\n    <defs>\n     <path id=\"m167916fd53\" d=\"M 0 3 \nC 0.795609 3 1.55874 2.683901 2.12132 2.12132 \nC 2.683901 1.55874 3 0.795609 3 0 \nC 3 -0.795609 2.683901 -1.55874 2.12132 -2.12132 \nC 1.55874 -2.683901 0.795609 -3 0 -3 \nC -0.795609 -3 -1.55874 -2.683901 -2.12132 -2.12132 \nC -2.683901 -1.55874 -3 -0.795609 -3 0 \nC -3 0.795609 -2.683901 1.55874 -2.12132 2.12132 \nC -1.55874 2.683901 -0.795609 3 0 3 \nz\n\" style=\"stroke: #333333\"/>\n    </defs>\n    <g clip-path=\"url(#pb68bb8410b)\">\n     <use xlink:href=\"#m167916fd53\" x=\"116.305819\" y=\"188.629417\" style=\"fill: #4c72b0; stroke: #333333\"/>\n     <use xlink:href=\"#m167916fd53\" x=\"107.617035\" y=\"198.441627\" style=\"fill: #4c72b0; stroke: #333333\"/>\n     <use xlink:href=\"#m167916fd53\" x=\"123.555618\" y=\"187.405777\" style=\"fill: #4c72b0; stroke: #333333\"/>\n     <use xlink:href=\"#m167916fd53\" x=\"140.09701\" y=\"213.846339\" style=\"fill: #4c72b0; stroke: #333333\"/>\n     <use xlink:href=\"#m167916fd53\" x=\"239.154223\" y=\"92.330234\" style=\"fill: #4c72b0; stroke: #333333\"/>\n     <use xlink:href=\"#m167916fd53\" x=\"108.353641\" y=\"180.339869\" style=\"fill: #4c72b0; stroke: #333333\"/>\n     <use xlink:href=\"#m167916fd53\" x=\"233.361308\" y=\"74.971509\" style=\"fill: #4c72b0; stroke: #333333\"/>\n     <use xlink:href=\"#m167916fd53\" x=\"126.419367\" y=\"214.547145\" style=\"fill: #4c72b0; stroke: #333333\"/>\n     <use xlink:href=\"#m167916fd53\" x=\"237.195141\" y=\"80.489953\" style=\"fill: #4c72b0; stroke: #333333\"/>\n     <use xlink:href=\"#m167916fd53\" x=\"247.166982\" y=\"73.986271\" style=\"fill: #4c72b0; stroke: #333333\"/>\n     <use xlink:href=\"#m167916fd53\" x=\"112.278337\" y=\"192.97087\" style=\"fill: #4c72b0; stroke: #333333\"/>\n     <use xlink:href=\"#m167916fd53\" x=\"228.267106\" y=\"81.745154\" style=\"fill: #4c72b0; stroke: #333333\"/>\n     <use xlink:href=\"#m167916fd53\" x=\"123.534532\" y=\"182.355319\" style=\"fill: #4c72b0; stroke: #333333\"/>\n     <use xlink:href=\"#m167916fd53\" x=\"233.12776\" y=\"85.582159\" style=\"fill: #4c72b0; stroke: #333333\"/>\n     <use xlink:href=\"#m167916fd53\" x=\"218.958606\" y=\"76.13692\" style=\"fill: #4c72b0; stroke: #333333\"/>\n     <use xlink:href=\"#m167916fd53\" x=\"130.811687\" y=\"186.505701\" style=\"fill: #4c72b0; stroke: #333333\"/>\n     <use xlink:href=\"#m167916fd53\" x=\"132.538995\" y=\"186.119564\" style=\"fill: #4c72b0; stroke: #333333\"/>\n     <use xlink:href=\"#m167916fd53\" x=\"239.953207\" y=\"74.495002\" style=\"fill: #4c72b0; stroke: #333333\"/>\n     <use xlink:href=\"#m167916fd53\" x=\"232.716432\" y=\"86.16234\" style=\"fill: #4c72b0; stroke: #333333\"/>\n     <use xlink:href=\"#m167916fd53\" x=\"241.352351\" y=\"75.603299\" style=\"fill: #4c72b0; stroke: #333333\"/>\n     <use xlink:href=\"#m167916fd53\" x=\"126.567163\" y=\"175.796071\" style=\"fill: #4c72b0; stroke: #333333\"/>\n     <use xlink:href=\"#m167916fd53\" x=\"133.489789\" y=\"206.149696\" style=\"fill: #4c72b0; stroke: #333333\"/>\n     <use xlink:href=\"#m167916fd53\" x=\"123.075474\" y=\"205.482997\" style=\"fill: #4c72b0; stroke: #333333\"/>\n     <use xlink:href=\"#m167916fd53\" x=\"230.612991\" y=\"69.557089\" style=\"fill: #4c72b0; stroke: #333333\"/>\n     <use xlink:href=\"#m167916fd53\" x=\"216.705717\" y=\"97.920366\" style=\"fill: #4c72b0; stroke: #333333\"/>\n     <use xlink:href=\"#m167916fd53\" x=\"235.507027\" y=\"77.642587\" style=\"fill: #4c72b0; stroke: #333333\"/>\n     <use xlink:href=\"#m167916fd53\" x=\"238.566699\" y=\"71.424386\" style=\"fill: #4c72b0; stroke: #333333\"/>\n     <use xlink:href=\"#m167916fd53\" x=\"116.331724\" y=\"176.856645\" style=\"fill: #4c72b0; stroke: #333333\"/>\n     <use xlink:href=\"#m167916fd53\" x=\"136.79905\" y=\"182.645033\" style=\"fill: #4c72b0; stroke: #333333\"/>\n     <use xlink:href=\"#m167916fd53\" x=\"110.392303\" y=\"174.452909\" style=\"fill: #4c72b0; stroke: #333333\"/>\n     <use xlink:href=\"#m167916fd53\" x=\"246.92175\" y=\"62.804976\" style=\"fill: #4c72b0; stroke: #333333\"/>\n     <use xlink:href=\"#m167916fd53\" x=\"229.665047\" y=\"73.468564\" style=\"fill: #4c72b0; stroke: #333333\"/>\n     <use xlink:href=\"#m167916fd53\" x=\"133.547133\" y=\"195.504037\" style=\"fill: #4c72b0; stroke: #333333\"/>\n     <use xlink:href=\"#m167916fd53\" x=\"125.377166\" y=\"183.162671\" style=\"fill: #4c72b0; stroke: #333333\"/>\n     <use xlink:href=\"#m167916fd53\" x=\"123.380937\" y=\"180.181842\" style=\"fill: #4c72b0; stroke: #333333\"/>\n     <use xlink:href=\"#m167916fd53\" x=\"118.287606\" y=\"182.072622\" style=\"fill: #4c72b0; stroke: #333333\"/>\n     <use xlink:href=\"#m167916fd53\" x=\"223.845346\" y=\"89.153762\" style=\"fill: #4c72b0; stroke: #333333\"/>\n     <use xlink:href=\"#m167916fd53\" x=\"132.072587\" y=\"178.831361\" style=\"fill: #4c72b0; stroke: #333333\"/>\n     <use xlink:href=\"#m167916fd53\" x=\"120.635223\" y=\"185.536804\" style=\"fill: #4c72b0; stroke: #333333\"/>\n     <use xlink:href=\"#m167916fd53\" x=\"246.085756\" y=\"82.866364\" style=\"fill: #4c72b0; stroke: #333333\"/>\n     <use xlink:href=\"#m167916fd53\" x=\"239.351447\" y=\"83.377759\" style=\"fill: #4c72b0; stroke: #333333\"/>\n     <use xlink:href=\"#m167916fd53\" x=\"124.033462\" y=\"202.43736\" style=\"fill: #4c72b0; stroke: #333333\"/>\n     <use xlink:href=\"#m167916fd53\" x=\"235.703868\" y=\"78.486915\" style=\"fill: #4c72b0; stroke: #333333\"/>\n     <use xlink:href=\"#m167916fd53\" x=\"250.569012\" y=\"77.859672\" style=\"fill: #4c72b0; stroke: #333333\"/>\n     <use xlink:href=\"#m167916fd53\" x=\"228.373603\" y=\"67.5111\" style=\"fill: #4c72b0; stroke: #333333\"/>\n     <use xlink:href=\"#m167916fd53\" x=\"252.685903\" y=\"56.419898\" style=\"fill: #4c72b0; stroke: #333333\"/>\n     <use xlink:href=\"#m167916fd53\" x=\"253.107594\" y=\"90.837745\" style=\"fill: #4c72b0; stroke: #333333\"/>\n     <use xlink:href=\"#m167916fd53\" x=\"238.200681\" y=\"88.451123\" style=\"fill: #4c72b0; stroke: #333333\"/>\n     <use xlink:href=\"#m167916fd53\" x=\"217.667446\" y=\"85.456067\" style=\"fill: #4c72b0; stroke: #333333\"/>\n     <use xlink:href=\"#m167916fd53\" x=\"230.480302\" y=\"68.500488\" style=\"fill: #4c72b0; stroke: #333333\"/>\n     <use xlink:href=\"#m167916fd53\" x=\"110.953853\" y=\"184.759555\" style=\"fill: #4c72b0; stroke: #333333\"/>\n     <use xlink:href=\"#m167916fd53\" x=\"112.454786\" y=\"174.106008\" style=\"fill: #4c72b0; stroke: #333333\"/>\n     <use xlink:href=\"#m167916fd53\" x=\"104.801552\" y=\"175.096875\" style=\"fill: #4c72b0; stroke: #333333\"/>\n     <use xlink:href=\"#m167916fd53\" x=\"127.161783\" y=\"179.196916\" style=\"fill: #4c72b0; stroke: #333333\"/>\n     <use xlink:href=\"#m167916fd53\" x=\"117.987802\" y=\"191.537647\" style=\"fill: #4c72b0; stroke: #333333\"/>\n     <use xlink:href=\"#m167916fd53\" x=\"115.438391\" y=\"180.503285\" style=\"fill: #4c72b0; stroke: #333333\"/>\n     <use xlink:href=\"#m167916fd53\" x=\"113.310655\" y=\"175.431856\" style=\"fill: #4c72b0; stroke: #333333\"/>\n     <use xlink:href=\"#m167916fd53\" x=\"115.607719\" y=\"181.384157\" style=\"fill: #4c72b0; stroke: #333333\"/>\n     <use xlink:href=\"#m167916fd53\" x=\"221.725224\" y=\"69.849509\" style=\"fill: #4c72b0; stroke: #333333\"/>\n     <use xlink:href=\"#m167916fd53\" x=\"120.635871\" y=\"198.362124\" style=\"fill: #4c72b0; stroke: #333333\"/>\n     <use xlink:href=\"#m167916fd53\" x=\"134.096285\" y=\"185.776835\" style=\"fill: #4c72b0; stroke: #333333\"/>\n     <use xlink:href=\"#m167916fd53\" x=\"125.669018\" y=\"181.998045\" style=\"fill: #4c72b0; stroke: #333333\"/>\n     <use xlink:href=\"#m167916fd53\" x=\"123.205157\" y=\"185.507349\" style=\"fill: #4c72b0; stroke: #333333\"/>\n     <use xlink:href=\"#m167916fd53\" x=\"233.230398\" y=\"69.775264\" style=\"fill: #4c72b0; stroke: #333333\"/>\n     <use xlink:href=\"#m167916fd53\" x=\"139.067515\" y=\"191.155607\" style=\"fill: #4c72b0; stroke: #333333\"/>\n     <use xlink:href=\"#m167916fd53\" x=\"239.264037\" y=\"65.908796\" style=\"fill: #4c72b0; stroke: #333333\"/>\n     <use xlink:href=\"#m167916fd53\" x=\"218.091775\" y=\"84.786103\" style=\"fill: #4c72b0; stroke: #333333\"/>\n     <use xlink:href=\"#m167916fd53\" x=\"104.866705\" y=\"200.795801\" style=\"fill: #4c72b0; stroke: #333333\"/>\n     <use xlink:href=\"#m167916fd53\" x=\"257.744099\" y=\"77.264832\" style=\"fill: #4c72b0; stroke: #333333\"/>\n     <use xlink:href=\"#m167916fd53\" x=\"130.327377\" y=\"182.258251\" style=\"fill: #4c72b0; stroke: #333333\"/>\n     <use xlink:href=\"#m167916fd53\" x=\"131.593441\" y=\"175.773062\" style=\"fill: #4c72b0; stroke: #333333\"/>\n     <use xlink:href=\"#m167916fd53\" x=\"233.428204\" y=\"61.879576\" style=\"fill: #4c72b0; stroke: #333333\"/>\n     <use xlink:href=\"#m167916fd53\" x=\"235.080603\" y=\"76.750073\" style=\"fill: #4c72b0; stroke: #333333\"/>\n     <use xlink:href=\"#m167916fd53\" x=\"124.144362\" y=\"182.075911\" style=\"fill: #4c72b0; stroke: #333333\"/>\n     <use xlink:href=\"#m167916fd53\" x=\"219.338813\" y=\"71.166477\" style=\"fill: #4c72b0; stroke: #333333\"/>\n     <use xlink:href=\"#m167916fd53\" x=\"226.651895\" y=\"83.164931\" style=\"fill: #4c72b0; stroke: #333333\"/>\n     <use xlink:href=\"#m167916fd53\" x=\"123.832798\" y=\"183.785541\" style=\"fill: #4c72b0; stroke: #333333\"/>\n     <use xlink:href=\"#m167916fd53\" x=\"227.728826\" y=\"68.966235\" style=\"fill: #4c72b0; stroke: #333333\"/>\n     <use xlink:href=\"#m167916fd53\" x=\"249.301995\" y=\"74.000507\" style=\"fill: #4c72b0; stroke: #333333\"/>\n     <use xlink:href=\"#m167916fd53\" x=\"124.96605\" y=\"184.90898\" style=\"fill: #4c72b0; stroke: #333333\"/>\n     <use xlink:href=\"#m167916fd53\" x=\"139.412115\" y=\"174.734795\" style=\"fill: #4c72b0; stroke: #333333\"/>\n     <use xlink:href=\"#m167916fd53\" x=\"236.110689\" y=\"58.949029\" style=\"fill: #4c72b0; stroke: #333333\"/>\n     <use xlink:href=\"#m167916fd53\" x=\"223.782065\" y=\"74.505273\" style=\"fill: #4c72b0; stroke: #333333\"/>\n     <use xlink:href=\"#m167916fd53\" x=\"129.756105\" y=\"208.719776\" style=\"fill: #4c72b0; stroke: #333333\"/>\n     <use xlink:href=\"#m167916fd53\" x=\"124.710795\" y=\"209.375622\" style=\"fill: #4c72b0; stroke: #333333\"/>\n     <use xlink:href=\"#m167916fd53\" x=\"227.611662\" y=\"91.485609\" style=\"fill: #4c72b0; stroke: #333333\"/>\n     <use xlink:href=\"#m167916fd53\" x=\"128.801377\" y=\"178.045403\" style=\"fill: #4c72b0; stroke: #333333\"/>\n     <use xlink:href=\"#m167916fd53\" x=\"221.780396\" y=\"89.770246\" style=\"fill: #4c72b0; stroke: #333333\"/>\n     <use xlink:href=\"#m167916fd53\" x=\"107.986482\" y=\"201.511021\" style=\"fill: #4c72b0; stroke: #333333\"/>\n     <use xlink:href=\"#m167916fd53\" x=\"109.627036\" y=\"170.634008\" style=\"fill: #4c72b0; stroke: #333333\"/>\n     <use xlink:href=\"#m167916fd53\" x=\"110.028707\" y=\"201.733646\" style=\"fill: #4c72b0; stroke: #333333\"/>\n     <use xlink:href=\"#m167916fd53\" x=\"123.650596\" y=\"207.533884\" style=\"fill: #4c72b0; stroke: #333333\"/>\n     <use xlink:href=\"#m167916fd53\" x=\"220.454083\" y=\"88.763575\" style=\"fill: #4c72b0; stroke: #333333\"/>\n     <use xlink:href=\"#m167916fd53\" x=\"135.887472\" y=\"189.807276\" style=\"fill: #4c72b0; stroke: #333333\"/>\n     <use xlink:href=\"#m167916fd53\" x=\"121.358364\" y=\"186.847024\" style=\"fill: #4c72b0; stroke: #333333\"/>\n     <use xlink:href=\"#m167916fd53\" x=\"220.499493\" y=\"76.340278\" style=\"fill: #4c72b0; stroke: #333333\"/>\n     <use xlink:href=\"#m167916fd53\" x=\"232.430515\" y=\"66.998694\" style=\"fill: #4c72b0; stroke: #333333\"/>\n     <use xlink:href=\"#m167916fd53\" x=\"108.478489\" y=\"189.604644\" style=\"fill: #4c72b0; stroke: #333333\"/>\n     <use xlink:href=\"#m167916fd53\" x=\"116.051785\" y=\"182.309629\" style=\"fill: #4c72b0; stroke: #333333\"/>\n     <use xlink:href=\"#m167916fd53\" x=\"245.559749\" y=\"82.234534\" style=\"fill: #4c72b0; stroke: #333333\"/>\n     <use xlink:href=\"#m167916fd53\" x=\"228.6755\" y=\"91.462457\" style=\"fill: #4c72b0; stroke: #333333\"/>\n     <use xlink:href=\"#m167916fd53\" x=\"232.24592\" y=\"83.26281\" style=\"fill: #4c72b0; stroke: #333333\"/>\n     <use xlink:href=\"#m167916fd53\" x=\"228.821367\" y=\"74.994058\" style=\"fill: #4c72b0; stroke: #333333\"/>\n     <use xlink:href=\"#m167916fd53\" x=\"125.678464\" y=\"195.476835\" style=\"fill: #4c72b0; stroke: #333333\"/>\n     <use xlink:href=\"#m167916fd53\" x=\"228.853777\" y=\"92.03174\" style=\"fill: #4c72b0; stroke: #333333\"/>\n    </g>\n   </g>\n   <g id=\"PathCollection_2\">\n    <defs>\n     <path id=\"m1ffd330999\" d=\"M 0 3 \nC 0.795609 3 1.55874 2.683901 2.12132 2.12132 \nC 2.683901 1.55874 3 0.795609 3 0 \nC 3 -0.795609 2.683901 -1.55874 2.12132 -2.12132 \nC 1.55874 -2.683901 0.795609 -3 0 -3 \nC -0.795609 -3 -1.55874 -2.683901 -2.12132 -2.12132 \nC -2.683901 -1.55874 -3 -0.795609 -3 0 \nC -3 0.795609 -2.683901 1.55874 -2.12132 2.12132 \nC -1.55874 2.683901 -0.795609 3 0 3 \nz\n\" style=\"stroke: #333333\"/>\n    </defs>\n    <g clip-path=\"url(#pb68bb8410b)\">\n     <use xlink:href=\"#m1ffd330999\" x=\"106.297712\" y=\"100.381835\" style=\"fill: #dd8452; stroke: #333333\"/>\n     <use xlink:href=\"#m1ffd330999\" x=\"237.852971\" y=\"195.923439\" style=\"fill: #dd8452; stroke: #333333\"/>\n     <use xlink:href=\"#m1ffd330999\" x=\"226.399545\" y=\"194.633606\" style=\"fill: #dd8452; stroke: #333333\"/>\n     <use xlink:href=\"#m1ffd330999\" x=\"236.495648\" y=\"177.564741\" style=\"fill: #dd8452; stroke: #333333\"/>\n     <use xlink:href=\"#m1ffd330999\" x=\"230.755949\" y=\"195.181988\" style=\"fill: #dd8452; stroke: #333333\"/>\n     <use xlink:href=\"#m1ffd330999\" x=\"141.086705\" y=\"65.208775\" style=\"fill: #dd8452; stroke: #333333\"/>\n     <use xlink:href=\"#m1ffd330999\" x=\"107.533023\" y=\"74.33574\" style=\"fill: #dd8452; stroke: #333333\"/>\n     <use xlink:href=\"#m1ffd330999\" x=\"240.541312\" y=\"200.968785\" style=\"fill: #dd8452; stroke: #333333\"/>\n     <use xlink:href=\"#m1ffd330999\" x=\"237.68813\" y=\"169.468096\" style=\"fill: #dd8452; stroke: #333333\"/>\n     <use xlink:href=\"#m1ffd330999\" x=\"244.577921\" y=\"187.382105\" style=\"fill: #dd8452; stroke: #333333\"/>\n     <use xlink:href=\"#m1ffd330999\" x=\"231.280496\" y=\"195.144974\" style=\"fill: #dd8452; stroke: #333333\"/>\n     <use xlink:href=\"#m1ffd330999\" x=\"121.593774\" y=\"103.382324\" style=\"fill: #dd8452; stroke: #333333\"/>\n     <use xlink:href=\"#m1ffd330999\" x=\"232.520912\" y=\"183.062753\" style=\"fill: #dd8452; stroke: #333333\"/>\n     <use xlink:href=\"#m1ffd330999\" x=\"245.678115\" y=\"181.939055\" style=\"fill: #dd8452; stroke: #333333\"/>\n     <use xlink:href=\"#m1ffd330999\" x=\"230.464236\" y=\"193.650443\" style=\"fill: #dd8452; stroke: #333333\"/>\n     <use xlink:href=\"#m1ffd330999\" x=\"103.690604\" y=\"68.529462\" style=\"fill: #dd8452; stroke: #333333\"/>\n     <use xlink:href=\"#m1ffd330999\" x=\"235.646714\" y=\"194.664163\" style=\"fill: #dd8452; stroke: #333333\"/>\n     <use xlink:href=\"#m1ffd330999\" x=\"102.795424\" y=\"65.593853\" style=\"fill: #dd8452; stroke: #333333\"/>\n     <use xlink:href=\"#m1ffd330999\" x=\"122.546447\" y=\"73.20377\" style=\"fill: #dd8452; stroke: #333333\"/>\n     <use xlink:href=\"#m1ffd330999\" x=\"232.944771\" y=\"196.48317\" style=\"fill: #dd8452; stroke: #333333\"/>\n     <use xlink:href=\"#m1ffd330999\" x=\"116.160514\" y=\"72.416986\" style=\"fill: #dd8452; stroke: #333333\"/>\n     <use xlink:href=\"#m1ffd330999\" x=\"229.610801\" y=\"200.581012\" style=\"fill: #dd8452; stroke: #333333\"/>\n     <use xlink:href=\"#m1ffd330999\" x=\"232.974023\" y=\"185.104077\" style=\"fill: #dd8452; stroke: #333333\"/>\n     <use xlink:href=\"#m1ffd330999\" x=\"129.346061\" y=\"76.756933\" style=\"fill: #dd8452; stroke: #333333\"/>\n     <use xlink:href=\"#m1ffd330999\" x=\"221.204861\" y=\"200.755837\" style=\"fill: #dd8452; stroke: #333333\"/>\n     <use xlink:href=\"#m1ffd330999\" x=\"110.169406\" y=\"80.339408\" style=\"fill: #dd8452; stroke: #333333\"/>\n     <use xlink:href=\"#m1ffd330999\" x=\"235.457697\" y=\"157.685903\" style=\"fill: #dd8452; stroke: #333333\"/>\n     <use xlink:href=\"#m1ffd330999\" x=\"116.74495\" y=\"82.079997\" style=\"fill: #dd8452; stroke: #333333\"/>\n     <use xlink:href=\"#m1ffd330999\" x=\"239.498708\" y=\"173.377943\" style=\"fill: #dd8452; stroke: #333333\"/>\n     <use xlink:href=\"#m1ffd330999\" x=\"221.167137\" y=\"179.97759\" style=\"fill: #dd8452; stroke: #333333\"/>\n     <use xlink:href=\"#m1ffd330999\" x=\"234.983108\" y=\"188.045161\" style=\"fill: #dd8452; stroke: #333333\"/>\n     <use xlink:href=\"#m1ffd330999\" x=\"250.502803\" y=\"172.745053\" style=\"fill: #dd8452; stroke: #333333\"/>\n     <use xlink:href=\"#m1ffd330999\" x=\"112.332183\" y=\"78.799407\" style=\"fill: #dd8452; stroke: #333333\"/>\n     <use xlink:href=\"#m1ffd330999\" x=\"126.628998\" y=\"61.953107\" style=\"fill: #dd8452; stroke: #333333\"/>\n     <use xlink:href=\"#m1ffd330999\" x=\"113.665187\" y=\"84.39663\" style=\"fill: #dd8452; stroke: #333333\"/>\n     <use xlink:href=\"#m1ffd330999\" x=\"237.48961\" y=\"174.648611\" style=\"fill: #dd8452; stroke: #333333\"/>\n     <use xlink:href=\"#m1ffd330999\" x=\"233.228243\" y=\"182.495337\" style=\"fill: #dd8452; stroke: #333333\"/>\n     <use xlink:href=\"#m1ffd330999\" x=\"147.380434\" y=\"73.128375\" style=\"fill: #dd8452; stroke: #333333\"/>\n     <use xlink:href=\"#m1ffd330999\" x=\"103.85572\" y=\"83.704843\" style=\"fill: #dd8452; stroke: #333333\"/>\n     <use xlink:href=\"#m1ffd330999\" x=\"218.315078\" y=\"180.606812\" style=\"fill: #dd8452; stroke: #333333\"/>\n     <use xlink:href=\"#m1ffd330999\" x=\"125.290036\" y=\"75.94674\" style=\"fill: #dd8452; stroke: #333333\"/>\n     <use xlink:href=\"#m1ffd330999\" x=\"145.223516\" y=\"78.202604\" style=\"fill: #dd8452; stroke: #333333\"/>\n     <use xlink:href=\"#m1ffd330999\" x=\"99.049388\" y=\"79.882788\" style=\"fill: #dd8452; stroke: #333333\"/>\n     <use xlink:href=\"#m1ffd330999\" x=\"212.416718\" y=\"177.92367\" style=\"fill: #dd8452; stroke: #333333\"/>\n     <use xlink:href=\"#m1ffd330999\" x=\"118.074107\" y=\"79.279799\" style=\"fill: #dd8452; stroke: #333333\"/>\n     <use xlink:href=\"#m1ffd330999\" x=\"233.602376\" y=\"177.091767\" style=\"fill: #dd8452; stroke: #333333\"/>\n     <use xlink:href=\"#m1ffd330999\" x=\"219.444266\" y=\"189.460187\" style=\"fill: #dd8452; stroke: #333333\"/>\n     <use xlink:href=\"#m1ffd330999\" x=\"226.740812\" y=\"192.30089\" style=\"fill: #dd8452; stroke: #333333\"/>\n     <use xlink:href=\"#m1ffd330999\" x=\"249.826099\" y=\"183.31999\" style=\"fill: #dd8452; stroke: #333333\"/>\n     <use xlink:href=\"#m1ffd330999\" x=\"135.316171\" y=\"71.334372\" style=\"fill: #dd8452; stroke: #333333\"/>\n     <use xlink:href=\"#m1ffd330999\" x=\"235.769178\" y=\"196.826318\" style=\"fill: #dd8452; stroke: #333333\"/>\n     <use xlink:href=\"#m1ffd330999\" x=\"227.064599\" y=\"167.759573\" style=\"fill: #dd8452; stroke: #333333\"/>\n     <use xlink:href=\"#m1ffd330999\" x=\"224.503963\" y=\"193.594273\" style=\"fill: #dd8452; stroke: #333333\"/>\n     <use xlink:href=\"#m1ffd330999\" x=\"250.950125\" y=\"200.853586\" style=\"fill: #dd8452; stroke: #333333\"/>\n     <use xlink:href=\"#m1ffd330999\" x=\"112.994282\" y=\"69.578225\" style=\"fill: #dd8452; stroke: #333333\"/>\n     <use xlink:href=\"#m1ffd330999\" x=\"262.024407\" y=\"199.658859\" style=\"fill: #dd8452; stroke: #333333\"/>\n     <use xlink:href=\"#m1ffd330999\" x=\"232.893222\" y=\"190.988052\" style=\"fill: #dd8452; stroke: #333333\"/>\n     <use xlink:href=\"#m1ffd330999\" x=\"247.095222\" y=\"194.701392\" style=\"fill: #dd8452; stroke: #333333\"/>\n     <use xlink:href=\"#m1ffd330999\" x=\"117.409275\" y=\"79.682034\" style=\"fill: #dd8452; stroke: #333333\"/>\n     <use xlink:href=\"#m1ffd330999\" x=\"113.04366\" y=\"60.523443\" style=\"fill: #dd8452; stroke: #333333\"/>\n     <use xlink:href=\"#m1ffd330999\" x=\"110.907044\" y=\"69.73458\" style=\"fill: #dd8452; stroke: #333333\"/>\n     <use xlink:href=\"#m1ffd330999\" x=\"120.19131\" y=\"59.692049\" style=\"fill: #dd8452; stroke: #333333\"/>\n     <use xlink:href=\"#m1ffd330999\" x=\"126.330971\" y=\"80.150583\" style=\"fill: #dd8452; stroke: #333333\"/>\n     <use xlink:href=\"#m1ffd330999\" x=\"127.06005\" y=\"61.405422\" style=\"fill: #dd8452; stroke: #333333\"/>\n     <use xlink:href=\"#m1ffd330999\" x=\"231.286305\" y=\"181.508907\" style=\"fill: #dd8452; stroke: #333333\"/>\n     <use xlink:href=\"#m1ffd330999\" x=\"132.817677\" y=\"81.502744\" style=\"fill: #dd8452; stroke: #333333\"/>\n     <use xlink:href=\"#m1ffd330999\" x=\"241.744249\" y=\"172.165093\" style=\"fill: #dd8452; stroke: #333333\"/>\n     <use xlink:href=\"#m1ffd330999\" x=\"236.317008\" y=\"190.323846\" style=\"fill: #dd8452; stroke: #333333\"/>\n     <use xlink:href=\"#m1ffd330999\" x=\"219.264192\" y=\"203.255861\" style=\"fill: #dd8452; stroke: #333333\"/>\n     <use xlink:href=\"#m1ffd330999\" x=\"129.119357\" y=\"96.37831\" style=\"fill: #dd8452; stroke: #333333\"/>\n     <use xlink:href=\"#m1ffd330999\" x=\"125.317063\" y=\"66.760388\" style=\"fill: #dd8452; stroke: #333333\"/>\n     <use xlink:href=\"#m1ffd330999\" x=\"225.788474\" y=\"184.146596\" style=\"fill: #dd8452; stroke: #333333\"/>\n     <use xlink:href=\"#m1ffd330999\" x=\"128.183618\" y=\"65.703852\" style=\"fill: #dd8452; stroke: #333333\"/>\n     <use xlink:href=\"#m1ffd330999\" x=\"133.151073\" y=\"95.617023\" style=\"fill: #dd8452; stroke: #333333\"/>\n     <use xlink:href=\"#m1ffd330999\" x=\"133.525619\" y=\"79.967356\" style=\"fill: #dd8452; stroke: #333333\"/>\n     <use xlink:href=\"#m1ffd330999\" x=\"216.183285\" y=\"166.153587\" style=\"fill: #dd8452; stroke: #333333\"/>\n     <use xlink:href=\"#m1ffd330999\" x=\"119.282776\" y=\"93.336303\" style=\"fill: #dd8452; stroke: #333333\"/>\n     <use xlink:href=\"#m1ffd330999\" x=\"88.270939\" y=\"90.862066\" style=\"fill: #dd8452; stroke: #333333\"/>\n     <use xlink:href=\"#m1ffd330999\" x=\"135.878545\" y=\"99.3794\" style=\"fill: #dd8452; stroke: #333333\"/>\n     <use xlink:href=\"#m1ffd330999\" x=\"235.510265\" y=\"201.790778\" style=\"fill: #dd8452; stroke: #333333\"/>\n     <use xlink:href=\"#m1ffd330999\" x=\"126.893552\" y=\"68.800112\" style=\"fill: #dd8452; stroke: #333333\"/>\n     <use xlink:href=\"#m1ffd330999\" x=\"224.441138\" y=\"182.174332\" style=\"fill: #dd8452; stroke: #333333\"/>\n     <use xlink:href=\"#m1ffd330999\" x=\"225.70643\" y=\"196.438594\" style=\"fill: #dd8452; stroke: #333333\"/>\n     <use xlink:href=\"#m1ffd330999\" x=\"234.41972\" y=\"186.657307\" style=\"fill: #dd8452; stroke: #333333\"/>\n     <use xlink:href=\"#m1ffd330999\" x=\"104.803123\" y=\"91.507161\" style=\"fill: #dd8452; stroke: #333333\"/>\n     <use xlink:href=\"#m1ffd330999\" x=\"119.181189\" y=\"56.47084\" style=\"fill: #dd8452; stroke: #333333\"/>\n     <use xlink:href=\"#m1ffd330999\" x=\"124.249337\" y=\"62.261852\" style=\"fill: #dd8452; stroke: #333333\"/>\n     <use xlink:href=\"#m1ffd330999\" x=\"224.973536\" y=\"188.7486\" style=\"fill: #dd8452; stroke: #333333\"/>\n     <use xlink:href=\"#m1ffd330999\" x=\"94.00262\" y=\"97.76869\" style=\"fill: #dd8452; stroke: #333333\"/>\n     <use xlink:href=\"#m1ffd330999\" x=\"124.838925\" y=\"61.6462\" style=\"fill: #dd8452; stroke: #333333\"/>\n     <use xlink:href=\"#m1ffd330999\" x=\"236.562703\" y=\"205.031086\" style=\"fill: #dd8452; stroke: #333333\"/>\n     <use xlink:href=\"#m1ffd330999\" x=\"144.484651\" y=\"92.246618\" style=\"fill: #dd8452; stroke: #333333\"/>\n     <use xlink:href=\"#m1ffd330999\" x=\"122.922823\" y=\"75.180352\" style=\"fill: #dd8452; stroke: #333333\"/>\n     <use xlink:href=\"#m1ffd330999\" x=\"125.415967\" y=\"48.855425\" style=\"fill: #dd8452; stroke: #333333\"/>\n     <use xlink:href=\"#m1ffd330999\" x=\"149.844778\" y=\"87.85481\" style=\"fill: #dd8452; stroke: #333333\"/>\n    </g>\n   </g>\n   <g id=\"patch_3\">\n    <path d=\"M 66.023594 244.078125 \nL 66.023594 22.318125 \n\" style=\"fill: none; stroke: #ffffff; stroke-width: 1.25; stroke-linejoin: miter; stroke-linecap: square\"/>\n   </g>\n   <g id=\"patch_4\">\n    <path d=\"M 287.783594 244.078125 \nL 287.783594 22.318125 \n\" style=\"fill: none; stroke: #ffffff; stroke-width: 1.25; stroke-linejoin: miter; stroke-linecap: square\"/>\n   </g>\n   <g id=\"patch_5\">\n    <path d=\"M 66.023594 244.078125 \nL 287.783594 244.078125 \n\" style=\"fill: none; stroke: #ffffff; stroke-width: 1.25; stroke-linejoin: miter; stroke-linecap: square\"/>\n   </g>\n   <g id=\"patch_6\">\n    <path d=\"M 66.023594 22.318125 \nL 287.783594 22.318125 \n\" style=\"fill: none; stroke: #ffffff; stroke-width: 1.25; stroke-linejoin: miter; stroke-linecap: square\"/>\n   </g>\n   <g id=\"text_17\">\n    <!-- Dataset samples -->\n    <g style=\"fill: #262626\" transform=\"translate(126.560781 16.318125) scale(0.12 -0.12)\">\n     <defs>\n      <path id=\"DejaVuSans-44\" d=\"M 1259 4147 \nL 1259 519 \nL 2022 519 \nQ 2988 519 3436 956 \nQ 3884 1394 3884 2338 \nQ 3884 3275 3436 3711 \nQ 2988 4147 2022 4147 \nL 1259 4147 \nz\nM 628 4666 \nL 1925 4666 \nQ 3281 4666 3915 4102 \nQ 4550 3538 4550 2338 \nQ 4550 1131 3912 565 \nQ 3275 0 1925 0 \nL 628 0 \nL 628 4666 \nz\n\" transform=\"scale(0.015625)\"/>\n      <path id=\"DejaVuSans-61\" d=\"M 2194 1759 \nQ 1497 1759 1228 1600 \nQ 959 1441 959 1056 \nQ 959 750 1161 570 \nQ 1363 391 1709 391 \nQ 2188 391 2477 730 \nQ 2766 1069 2766 1631 \nL 2766 1759 \nL 2194 1759 \nz\nM 3341 1997 \nL 3341 0 \nL 2766 0 \nL 2766 531 \nQ 2569 213 2275 61 \nQ 1981 -91 1556 -91 \nQ 1019 -91 701 211 \nQ 384 513 384 1019 \nQ 384 1609 779 1909 \nQ 1175 2209 1959 2209 \nL 2766 2209 \nL 2766 2266 \nQ 2766 2663 2505 2880 \nQ 2244 3097 1772 3097 \nQ 1472 3097 1187 3025 \nQ 903 2953 641 2809 \nL 641 3341 \nQ 956 3463 1253 3523 \nQ 1550 3584 1831 3584 \nQ 2591 3584 2966 3190 \nQ 3341 2797 3341 1997 \nz\n\" transform=\"scale(0.015625)\"/>\n      <path id=\"DejaVuSans-74\" d=\"M 1172 4494 \nL 1172 3500 \nL 2356 3500 \nL 2356 3053 \nL 1172 3053 \nL 1172 1153 \nQ 1172 725 1289 603 \nQ 1406 481 1766 481 \nL 2356 481 \nL 2356 0 \nL 1766 0 \nQ 1100 0 847 248 \nQ 594 497 594 1153 \nL 594 3053 \nL 172 3053 \nL 172 3500 \nL 594 3500 \nL 594 4494 \nL 1172 4494 \nz\n\" transform=\"scale(0.015625)\"/>\n      <path id=\"DejaVuSans-73\" d=\"M 2834 3397 \nL 2834 2853 \nQ 2591 2978 2328 3040 \nQ 2066 3103 1784 3103 \nQ 1356 3103 1142 2972 \nQ 928 2841 928 2578 \nQ 928 2378 1081 2264 \nQ 1234 2150 1697 2047 \nL 1894 2003 \nQ 2506 1872 2764 1633 \nQ 3022 1394 3022 966 \nQ 3022 478 2636 193 \nQ 2250 -91 1575 -91 \nQ 1294 -91 989 -36 \nQ 684 19 347 128 \nL 347 722 \nQ 666 556 975 473 \nQ 1284 391 1588 391 \nQ 1994 391 2212 530 \nQ 2431 669 2431 922 \nQ 2431 1156 2273 1281 \nQ 2116 1406 1581 1522 \nL 1381 1569 \nQ 847 1681 609 1914 \nQ 372 2147 372 2553 \nQ 372 3047 722 3315 \nQ 1072 3584 1716 3584 \nQ 2034 3584 2315 3537 \nQ 2597 3491 2834 3397 \nz\n\" transform=\"scale(0.015625)\"/>\n      <path id=\"DejaVuSans-65\" d=\"M 3597 1894 \nL 3597 1613 \nL 953 1613 \nQ 991 1019 1311 708 \nQ 1631 397 2203 397 \nQ 2534 397 2845 478 \nQ 3156 559 3463 722 \nL 3463 178 \nQ 3153 47 2828 -22 \nQ 2503 -91 2169 -91 \nQ 1331 -91 842 396 \nQ 353 884 353 1716 \nQ 353 2575 817 3079 \nQ 1281 3584 2069 3584 \nQ 2775 3584 3186 3129 \nQ 3597 2675 3597 1894 \nz\nM 3022 2063 \nQ 3016 2534 2758 2815 \nQ 2500 3097 2075 3097 \nQ 1594 3097 1305 2825 \nQ 1016 2553 972 2059 \nL 3022 2063 \nz\n\" transform=\"scale(0.015625)\"/>\n      <path id=\"DejaVuSans-20\" transform=\"scale(0.015625)\"/>\n      <path id=\"DejaVuSans-6d\" d=\"M 3328 2828 \nQ 3544 3216 3844 3400 \nQ 4144 3584 4550 3584 \nQ 5097 3584 5394 3201 \nQ 5691 2819 5691 2113 \nL 5691 0 \nL 5113 0 \nL 5113 2094 \nQ 5113 2597 4934 2840 \nQ 4756 3084 4391 3084 \nQ 3944 3084 3684 2787 \nQ 3425 2491 3425 1978 \nL 3425 0 \nL 2847 0 \nL 2847 2094 \nQ 2847 2600 2669 2842 \nQ 2491 3084 2119 3084 \nQ 1678 3084 1418 2786 \nQ 1159 2488 1159 1978 \nL 1159 0 \nL 581 0 \nL 581 3500 \nL 1159 3500 \nL 1159 2956 \nQ 1356 3278 1631 3431 \nQ 1906 3584 2284 3584 \nQ 2666 3584 2933 3390 \nQ 3200 3197 3328 2828 \nz\n\" transform=\"scale(0.015625)\"/>\n      <path id=\"DejaVuSans-70\" d=\"M 1159 525 \nL 1159 -1331 \nL 581 -1331 \nL 581 3500 \nL 1159 3500 \nL 1159 2969 \nQ 1341 3281 1617 3432 \nQ 1894 3584 2278 3584 \nQ 2916 3584 3314 3078 \nQ 3713 2572 3713 1747 \nQ 3713 922 3314 415 \nQ 2916 -91 2278 -91 \nQ 1894 -91 1617 61 \nQ 1341 213 1159 525 \nz\nM 3116 1747 \nQ 3116 2381 2855 2742 \nQ 2594 3103 2138 3103 \nQ 1681 3103 1420 2742 \nQ 1159 2381 1159 1747 \nQ 1159 1113 1420 752 \nQ 1681 391 2138 391 \nQ 2594 391 2855 752 \nQ 3116 1113 3116 1747 \nz\n\" transform=\"scale(0.015625)\"/>\n      <path id=\"DejaVuSans-6c\" d=\"M 603 4863 \nL 1178 4863 \nL 1178 0 \nL 603 0 \nL 603 4863 \nz\n\" transform=\"scale(0.015625)\"/>\n     </defs>\n     <use xlink:href=\"#DejaVuSans-44\"/>\n     <use xlink:href=\"#DejaVuSans-61\" transform=\"translate(77.001953 0)\"/>\n     <use xlink:href=\"#DejaVuSans-74\" transform=\"translate(138.28125 0)\"/>\n     <use xlink:href=\"#DejaVuSans-61\" transform=\"translate(177.490234 0)\"/>\n     <use xlink:href=\"#DejaVuSans-73\" transform=\"translate(238.769531 0)\"/>\n     <use xlink:href=\"#DejaVuSans-65\" transform=\"translate(290.869141 0)\"/>\n     <use xlink:href=\"#DejaVuSans-74\" transform=\"translate(352.392578 0)\"/>\n     <use xlink:href=\"#DejaVuSans-20\" transform=\"translate(391.601562 0)\"/>\n     <use xlink:href=\"#DejaVuSans-73\" transform=\"translate(423.388672 0)\"/>\n     <use xlink:href=\"#DejaVuSans-61\" transform=\"translate(475.488281 0)\"/>\n     <use xlink:href=\"#DejaVuSans-6d\" transform=\"translate(536.767578 0)\"/>\n     <use xlink:href=\"#DejaVuSans-70\" transform=\"translate(634.179688 0)\"/>\n     <use xlink:href=\"#DejaVuSans-6c\" transform=\"translate(697.65625 0)\"/>\n     <use xlink:href=\"#DejaVuSans-65\" transform=\"translate(725.439453 0)\"/>\n     <use xlink:href=\"#DejaVuSans-73\" transform=\"translate(786.962891 0)\"/>\n    </g>\n   </g>\n   <g id=\"legend_1\">\n    <g id=\"patch_7\">\n     <path d=\"M 205.450312 150.994063 \nL 280.083594 150.994063 \nQ 282.283594 150.994063 282.283594 148.794063 \nL 282.283594 117.602188 \nQ 282.283594 115.402188 280.083594 115.402188 \nL 205.450312 115.402188 \nQ 203.250313 115.402188 203.250313 117.602188 \nL 203.250313 148.794063 \nQ 203.250313 150.994063 205.450312 150.994063 \nz\n\" style=\"fill: #eaeaf2; opacity: 0.8; stroke: #cccccc; stroke-linejoin: miter\"/>\n    </g>\n    <g id=\"PathCollection_3\">\n     <g>\n      <use xlink:href=\"#m167916fd53\" x=\"218.650313\" y=\"125.272969\" style=\"fill: #4c72b0; stroke: #333333\"/>\n     </g>\n    </g>\n    <g id=\"text_18\">\n     <!-- Class 0 -->\n     <g style=\"fill: #262626\" transform=\"translate(238.450313 128.160469) scale(0.11 -0.11)\">\n      <defs>\n       <path id=\"DejaVuSans-43\" d=\"M 4122 4306 \nL 4122 3641 \nQ 3803 3938 3442 4084 \nQ 3081 4231 2675 4231 \nQ 1875 4231 1450 3742 \nQ 1025 3253 1025 2328 \nQ 1025 1406 1450 917 \nQ 1875 428 2675 428 \nQ 3081 428 3442 575 \nQ 3803 722 4122 1019 \nL 4122 359 \nQ 3791 134 3420 21 \nQ 3050 -91 2638 -91 \nQ 1578 -91 968 557 \nQ 359 1206 359 2328 \nQ 359 3453 968 4101 \nQ 1578 4750 2638 4750 \nQ 3056 4750 3426 4639 \nQ 3797 4528 4122 4306 \nz\n\" transform=\"scale(0.015625)\"/>\n      </defs>\n      <use xlink:href=\"#DejaVuSans-43\"/>\n      <use xlink:href=\"#DejaVuSans-6c\" transform=\"translate(69.824219 0)\"/>\n      <use xlink:href=\"#DejaVuSans-61\" transform=\"translate(97.607422 0)\"/>\n      <use xlink:href=\"#DejaVuSans-73\" transform=\"translate(158.886719 0)\"/>\n      <use xlink:href=\"#DejaVuSans-73\" transform=\"translate(210.986328 0)\"/>\n      <use xlink:href=\"#DejaVuSans-20\" transform=\"translate(263.085938 0)\"/>\n      <use xlink:href=\"#DejaVuSans-30\" transform=\"translate(294.873047 0)\"/>\n     </g>\n    </g>\n    <g id=\"PathCollection_4\">\n     <g>\n      <use xlink:href=\"#m1ffd330999\" x=\"218.650313\" y=\"141.418906\" style=\"fill: #dd8452; stroke: #333333\"/>\n     </g>\n    </g>\n    <g id=\"text_19\">\n     <!-- Class 1 -->\n     <g style=\"fill: #262626\" transform=\"translate(238.450313 144.306406) scale(0.11 -0.11)\">\n      <use xlink:href=\"#DejaVuSans-43\"/>\n      <use xlink:href=\"#DejaVuSans-6c\" transform=\"translate(69.824219 0)\"/>\n      <use xlink:href=\"#DejaVuSans-61\" transform=\"translate(97.607422 0)\"/>\n      <use xlink:href=\"#DejaVuSans-73\" transform=\"translate(158.886719 0)\"/>\n      <use xlink:href=\"#DejaVuSans-73\" transform=\"translate(210.986328 0)\"/>\n      <use xlink:href=\"#DejaVuSans-20\" transform=\"translate(263.085938 0)\"/>\n      <use xlink:href=\"#DejaVuSans-31\" transform=\"translate(294.873047 0)\"/>\n     </g>\n    </g>\n   </g>\n  </g>\n </g>\n <defs>\n  <clipPath id=\"pb68bb8410b\">\n   <rect x=\"66.023594\" y=\"22.318125\" width=\"221.76\" height=\"221.76\"/>\n  </clipPath>\n </defs>\n</svg>\n",
            "application/pdf": "[encoded data removed]"
          },
          "metadata": {}
        }
      ],
      "source": [
        "@torch.no_grad() # Decorator, same effect as \"with torch.no_grad(): ...\" over the whole function.\n",
        "def visualize_classification(model, data, label):\n",
        "    if isinstance(data, torch.Tensor):\n",
        "        data = data.cpu().numpy()\n",
        "    if isinstance(label, torch.Tensor):\n",
        "        label = label.cpu().numpy()\n",
        "    data_0 = data[label == 0]\n",
        "    data_1 = data[label == 1]\n",
        "\n",
        "    fig = plt.figure(figsize=(4,4), dpi=500)\n",
        "    plt.scatter(data_0[:,0], data_0[:,1], edgecolor=\"#333\", label=\"Class 0\")\n",
        "    plt.scatter(data_1[:,0], data_1[:,1], edgecolor=\"#333\", label=\"Class 1\")\n",
        "    plt.title(\"Dataset samples\")\n",
        "    plt.ylabel(r\"$x_2$\")\n",
        "    plt.xlabel(r\"$x_1$\")\n",
        "    plt.legend()\n",
        "\n",
        "    # Let's make use of a lot of operations we have learned above\n",
        "    model.to(device)\n",
        "    c0 = torch.Tensor(to_rgba(\"C0\")).to(device)\n",
        "    c1 = torch.Tensor(to_rgba(\"C1\")).to(device)\n",
        "    x1 = torch.arange(-0.5, 1.5, step=0.01, device=device)\n",
        "    x2 = torch.arange(-0.5, 1.5, step=0.01, device=device)\n",
        "    xx1, xx2 = torch.meshgrid(x1, x2, indexing='ij')  # Meshgrid function as in numpy\n",
        "    model_inputs = torch.stack([xx1, xx2], dim=-1)\n",
        "    preds = model(model_inputs)\n",
        "    preds = torch.sigmoid(preds)\n",
        "    output_image = (1 - preds) * c0[None,None] + preds * c1[None,None]  # Specifying \"None\" in a dimension creates a new one\n",
        "    output_image = output_image.cpu().numpy()  # Convert to numpy array. This only works for tensors on CPU, hence first push to CPU\n",
        "    plt.imshow(output_image, origin='lower', extent=(-0.5, 1.5, -0.5, 1.5))\n",
        "    plt.grid(False)\n",
        "    return fig\n",
        "\n",
        "_ = visualize_classification(model, dataset.data, dataset.label)\n",
        "plt.show()"
      ]
    },
    {
      "cell_type": "markdown",
      "metadata": {
        "id": "uMKpQQge8c5z"
      },
      "source": [
        "The decision boundaries might not look exactly as in the figure in the preamble of this section which can be caused by running it on CPU or a different GPU architecture. Nevertheless, the result on the accuracy metric should be the approximately the same."
      ]
    },
    {
      "cell_type": "markdown",
      "metadata": {
        "id": "sVc_7-Rv8c5z"
      },
      "source": [
        "## Additional features we didn't get to discuss yet\n",
        "\n",
        "Finally, you are all set to start with your own PyTorch project! In summary, we have looked at how we can build neural networks in PyTorch, and train and test them on data. However, there is still much more to PyTorch we haven't discussed yet. In the coming series of Jupyter notebooks, we will discover more and more functionalities of PyTorch, so that you also get familiar to PyTorch concepts beyond the basics. If you are already interested in learning more of PyTorch, we recommend the official [tutorial website](https://pytorch.org/tutorials/) that contains many tutorials on various topics. Especially logging with Tensorboard ([official tutorial here](https://pytorch.org/tutorials/intermediate/tensorboard_tutorial.html)) is a good practice that we will explore further from Tutorial 5 on in combination with PyTorch Lightning.\n",
        "Nonetheless, let's check it shortly out how we could use TensorBoard in our small example."
      ]
    },
    {
      "cell_type": "markdown",
      "metadata": {
        "id": "GpqkiMpn8c5z"
      },
      "source": [
        "### TensorBoard logging\n",
        "\n",
        "TensorBoard is a logging and visualization tool that is a popular choice for training deep learning models. Although initially published for TensorFlow, TensorBoard is also integrated in PyTorch allowing us to easily use it. First, let's import it below."
      ]
    },
    {
      "cell_type": "code",
      "execution_count": 1,
      "metadata": {
        "id": "ZFYzAV5L8c50"
      },
      "outputs": [],
      "source": [
        "# Import tensorboard logger from PyTorch\n",
        "from torch.utils.tensorboard import SummaryWriter\n",
        "\n",
        "# Load tensorboard extension for Jupyter Notebook, only need to start TB in the notebook\n",
        "%load_ext tensorboard"
      ]
    },
    {
      "cell_type": "markdown",
      "metadata": {
        "id": "Fcwyflo58c50"
      },
      "source": [
        "The last line is required if you want to run TensorBoard directly in the Jupyter Notebook. Otherwise, you can start TensorBoard from the terminal.\n",
        "\n",
        "PyTorch's TensorBoard API is simple to use. We start the logging process by creating a new object, `writer = SummaryWriter(...)`, where we specify the directory in which the logging file should be saved. With this object, we can log different aspects of our model by calling functions of the style `writer.add_...`. For example, we can visualize the computation graph with the function `writer.add_graph`, or add a scalar value like the loss with `writer.add_scalar`. Let's adapt our initial training function with adding a TensorBoard logger below."
      ]
    },
    {
      "cell_type": "code",
      "execution_count": 2,
      "metadata": {
        "id": "KApeml-P8c50"
      },
      "outputs": [],
      "source": [
        "def train_model_with_logger(model, optimizer, data_loader, loss_module, val_dataset, num_epochs=100, logging_dir='runs/our_experiment'):\n",
        "    # Create TensorBoard logger\n",
        "    writer = SummaryWriter(logging_dir)\n",
        "    model_plotted = False\n",
        "\n",
        "    # Set model to train mode\n",
        "    model.train()\n",
        "\n",
        "    # Training loop\n",
        "    for epoch in tqdm(range(num_epochs)):\n",
        "        epoch_loss = 0.0\n",
        "        for data_inputs, data_labels in data_loader:\n",
        "\n",
        "            ## Step 1: Move input data to device (only strictly necessary if we use GPU)\n",
        "            data_inputs = data_inputs.to(device)\n",
        "            data_labels = data_labels.to(device)\n",
        "\n",
        "            # For the very first batch, we visualize the computation graph in TensorBoard\n",
        "            if not model_plotted:\n",
        "                writer.add_graph(model, data_inputs)\n",
        "                model_plotted = True\n",
        "\n",
        "            ## Step 2: Run the model on the input data\n",
        "            preds = model(data_inputs)\n",
        "            preds = preds.squeeze(dim=1) # Output is [Batch size, 1], but we want [Batch size]\n",
        "\n",
        "            ## Step 3: Calculate the loss\n",
        "            loss = loss_module(preds, data_labels.float())\n",
        "\n",
        "            ## Step 4: Perform backpropagation\n",
        "            # Before calculating the gradients, we need to ensure that they are all zero.\n",
        "            # The gradients would not be overwritten, but actually added to the existing ones.\n",
        "            optimizer.zero_grad()\n",
        "            # Perform backpropagation\n",
        "            loss.backward()\n",
        "\n",
        "            ## Step 5: Update the parameters\n",
        "            optimizer.step()\n",
        "\n",
        "            ## Step 6: Take the running average of the loss\n",
        "            epoch_loss += loss.item()\n",
        "\n",
        "        # Add average loss to TensorBoard\n",
        "        epoch_loss /= len(data_loader)\n",
        "        writer.add_scalar('training_loss',\n",
        "                          epoch_loss,\n",
        "                          global_step = epoch + 1)\n",
        "\n",
        "        # Visualize prediction and add figure to TensorBoard\n",
        "        # Since matplotlib figures can be slow in rendering, we only do it every 10th epoch\n",
        "        if (epoch + 1) % 10 == 0:\n",
        "            fig = visualize_classification(model, val_dataset.data, val_dataset.label)\n",
        "            writer.add_figure('predictions',\n",
        "                              fig,\n",
        "                              global_step = epoch + 1)\n",
        "\n",
        "    writer.close()"
      ]
    },
    {
      "cell_type": "markdown",
      "metadata": {
        "id": "gP9vODD58c50"
      },
      "source": [
        "Let's use this method to train a model as before, with a new model and optimizer."
      ]
    },
    {
      "cell_type": "code",
      "execution_count": 3,
      "metadata": {
        "id": "bYmbc1lx8c50",
        "outputId": "38c6c776-6922-4984-d86e-8a5592d80f89",
        "colab": {
          "base_uri": "https://localhost:8080/",
          "height": 190
        }
      },
      "outputs": [
        {
          "output_type": "error",
          "ename": "NameError",
          "evalue": "name 'SimpleClassifier' is not defined",
          "traceback": [
            "\u001b[0;31m---------------------------------------------------------------------------\u001b[0m",
            "\u001b[0;31mNameError\u001b[0m                                 Traceback (most recent call last)",
            "\u001b[0;32m<ipython-input-3-843275573>\u001b[0m in \u001b[0;36m<cell line: 0>\u001b[0;34m()\u001b[0m\n\u001b[0;32m----> 1\u001b[0;31m \u001b[0mmodel\u001b[0m \u001b[0;34m=\u001b[0m \u001b[0mSimpleClassifier\u001b[0m\u001b[0;34m(\u001b[0m\u001b[0mnum_inputs\u001b[0m\u001b[0;34m=\u001b[0m\u001b[0;36m2\u001b[0m\u001b[0;34m,\u001b[0m \u001b[0mnum_hidden\u001b[0m\u001b[0;34m=\u001b[0m\u001b[0;36m4\u001b[0m\u001b[0;34m,\u001b[0m \u001b[0mnum_outputs\u001b[0m\u001b[0;34m=\u001b[0m\u001b[0;36m1\u001b[0m\u001b[0;34m)\u001b[0m\u001b[0;34m.\u001b[0m\u001b[0mto\u001b[0m\u001b[0;34m(\u001b[0m\u001b[0mdevice\u001b[0m\u001b[0;34m)\u001b[0m\u001b[0;34m\u001b[0m\u001b[0;34m\u001b[0m\u001b[0m\n\u001b[0m\u001b[1;32m      2\u001b[0m \u001b[0moptimizer\u001b[0m \u001b[0;34m=\u001b[0m \u001b[0mtorch\u001b[0m\u001b[0;34m.\u001b[0m\u001b[0moptim\u001b[0m\u001b[0;34m.\u001b[0m\u001b[0mSGD\u001b[0m\u001b[0;34m(\u001b[0m\u001b[0mmodel\u001b[0m\u001b[0;34m.\u001b[0m\u001b[0mparameters\u001b[0m\u001b[0;34m(\u001b[0m\u001b[0;34m)\u001b[0m\u001b[0;34m,\u001b[0m \u001b[0mlr\u001b[0m\u001b[0;34m=\u001b[0m\u001b[0;36m0.1\u001b[0m\u001b[0;34m)\u001b[0m\u001b[0;34m\u001b[0m\u001b[0;34m\u001b[0m\u001b[0m\n\u001b[1;32m      3\u001b[0m \u001b[0mtrain_model_with_logger\u001b[0m\u001b[0;34m(\u001b[0m\u001b[0mmodel\u001b[0m\u001b[0;34m,\u001b[0m \u001b[0moptimizer\u001b[0m\u001b[0;34m,\u001b[0m \u001b[0mtrain_data_loader\u001b[0m\u001b[0;34m,\u001b[0m \u001b[0mloss_module\u001b[0m\u001b[0;34m,\u001b[0m \u001b[0mval_dataset\u001b[0m\u001b[0;34m=\u001b[0m\u001b[0mdataset\u001b[0m\u001b[0;34m)\u001b[0m\u001b[0;34m\u001b[0m\u001b[0;34m\u001b[0m\u001b[0m\n",
            "\u001b[0;31mNameError\u001b[0m: name 'SimpleClassifier' is not defined"
          ]
        }
      ],
      "source": [
        "model = SimpleClassifier(num_inputs=2, num_hidden=4, num_outputs=1).to(device)\n",
        "optimizer = torch.optim.SGD(model.parameters(), lr=0.1)\n",
        "train_model_with_logger(model, optimizer, train_data_loader, loss_module, val_dataset=dataset)"
      ]
    },
    {
      "cell_type": "markdown",
      "metadata": {
        "id": "t4UeRDd28c50"
      },
      "source": [
        "The TensorBoard file in the folder `runs/our_experiment` now contains a loss curve, the computation graph of our network, and a visualization of the learned predictions over number of epochs. To start the TensorBoard visualizer, simply run the following statement:"
      ]
    },
    {
      "cell_type": "code",
      "execution_count": null,
      "metadata": {
        "id": "hgZUUPxP8c50"
      },
      "outputs": [],
      "source": [
        "%tensorboard --logdir runs/our_experiment"
      ]
    },
    {
      "cell_type": "markdown",
      "metadata": {
        "id": "Avf2YfmN8c50"
      },
      "source": [
        "<center><img src=\"https://github.com/phlippe/uvadlc_notebooks/blob/master/docs/tutorial_notebooks/tutorial2/tensorboard_screenshot.png?raw=1\" width=\"1100px\"></center>\n",
        "\n",
        "TensorBoard visualizations can help to identify possible issues with your model, and identify situations such as overfitting. You can also track the training progress while a model is training, since the logger automatically writes everything added to it to the logging file. Feel free to explore the TensorBoard functionalities, and we will make use of TensorBoards a couple of times from Tutorial 5 on."
      ]
    },
    {
      "cell_type": "markdown",
      "metadata": {
        "id": "1QIOJ4or8c50"
      },
      "source": [
        "---\n",
        "\n",
        "[![Star our repository](https://img.shields.io/static/v1.svg?logo=star&label=⭐&message=Star%20Our%20Repository&color=yellow)](https://github.com/phlippe/uvadlc_notebooks/)  If you found this tutorial helpful, consider ⭐-ing our repository.    \n",
        "[![Ask questions](https://img.shields.io/static/v1.svg?logo=star&label=❔&message=Ask%20Questions&color=9cf)](https://github.com/phlippe/uvadlc_notebooks/issues)  For any questions, typos, or bugs that you found, please raise an issue on GitHub.\n",
        "\n",
        "---"
      ]
    }
  ],
  "metadata": {
    "kernelspec": {
      "display_name": "Python 3",
      "name": "python3"
    },
    "language_info": {
      "codemirror_mode": {
        "name": "ipython",
        "version": 3
      },
      "file_extension": ".py",
      "mimetype": "text/x-python",
      "name": "python",
      "nbconvert_exporter": "python",
      "pygments_lexer": "ipython3",
      "version": "3.10.6"
    },
    "colab": {
      "provenance": [],
      "gpuType": "T4"
    },
    "accelerator": "GPU",
    "widgets": {
      "application/vnd.jupyter.widget-state+json": {
        "a7f6198ae1bf4475b059949c21ea8e12": {
          "model_module": "@jupyter-widgets/controls",
          "model_name": "HBoxModel",
          "model_module_version": "1.5.0",
          "state": {
            "_dom_classes": [],
            "_model_module": "@jupyter-widgets/controls",
            "_model_module_version": "1.5.0",
            "_model_name": "HBoxModel",
            "_view_count": null,
            "_view_module": "@jupyter-widgets/controls",
            "_view_module_version": "1.5.0",
            "_view_name": "HBoxView",
            "box_style": "",
            "children": [
              "IPY_MODEL_70e9b83d82a1421886755fbeb83474cb",
              "IPY_MODEL_747dc3f4b65a4ca1b49204ec1ae58a6f",
              "IPY_MODEL_3aa316c4f62047eb8151eb6c5e906e6c"
            ],
            "layout": "IPY_MODEL_b524b3e337c0450f8ceb873554f4cd88"
          }
        },
        "70e9b83d82a1421886755fbeb83474cb": {
          "model_module": "@jupyter-widgets/controls",
          "model_name": "HTMLModel",
          "model_module_version": "1.5.0",
          "state": {
            "_dom_classes": [],
            "_model_module": "@jupyter-widgets/controls",
            "_model_module_version": "1.5.0",
            "_model_name": "HTMLModel",
            "_view_count": null,
            "_view_module": "@jupyter-widgets/controls",
            "_view_module_version": "1.5.0",
            "_view_name": "HTMLView",
            "description": "",
            "description_tooltip": null,
            "layout": "IPY_MODEL_d70a67a7b2194d31a53e9d8e171b6a6f",
            "placeholder": "​",
            "style": "IPY_MODEL_6d85ab6a194d490dae768d04942ec63e",
            "value": "100%"
          }
        },
        "747dc3f4b65a4ca1b49204ec1ae58a6f": {
          "model_module": "@jupyter-widgets/controls",
          "model_name": "FloatProgressModel",
          "model_module_version": "1.5.0",
          "state": {
            "_dom_classes": [],
            "_model_module": "@jupyter-widgets/controls",
            "_model_module_version": "1.5.0",
            "_model_name": "FloatProgressModel",
            "_view_count": null,
            "_view_module": "@jupyter-widgets/controls",
            "_view_module_version": "1.5.0",
            "_view_name": "ProgressView",
            "bar_style": "success",
            "description": "",
            "description_tooltip": null,
            "layout": "IPY_MODEL_29f73289d28b4bff96d94f87999d277e",
            "max": 100,
            "min": 0,
            "orientation": "horizontal",
            "style": "IPY_MODEL_10c417b400db44cb88ef8292b7bf81cb",
            "value": 100
          }
        },
        "3aa316c4f62047eb8151eb6c5e906e6c": {
          "model_module": "@jupyter-widgets/controls",
          "model_name": "HTMLModel",
          "model_module_version": "1.5.0",
          "state": {
            "_dom_classes": [],
            "_model_module": "@jupyter-widgets/controls",
            "_model_module_version": "1.5.0",
            "_model_name": "HTMLModel",
            "_view_count": null,
            "_view_module": "@jupyter-widgets/controls",
            "_view_module_version": "1.5.0",
            "_view_name": "HTMLView",
            "description": "",
            "description_tooltip": null,
            "layout": "IPY_MODEL_a06e98f4574c44b1abe6efa676a0e2ec",
            "placeholder": "​",
            "style": "IPY_MODEL_a2383749a38a4f62ae1fdd16443f6399",
            "value": " 100/100 [00:04&lt;00:00, 27.61it/s]"
          }
        },
        "b524b3e337c0450f8ceb873554f4cd88": {
          "model_module": "@jupyter-widgets/base",
          "model_name": "LayoutModel",
          "model_module_version": "1.2.0",
          "state": {
            "_model_module": "@jupyter-widgets/base",
            "_model_module_version": "1.2.0",
            "_model_name": "LayoutModel",
            "_view_count": null,
            "_view_module": "@jupyter-widgets/base",
            "_view_module_version": "1.2.0",
            "_view_name": "LayoutView",
            "align_content": null,
            "align_items": null,
            "align_self": null,
            "border": null,
            "bottom": null,
            "display": null,
            "flex": null,
            "flex_flow": null,
            "grid_area": null,
            "grid_auto_columns": null,
            "grid_auto_flow": null,
            "grid_auto_rows": null,
            "grid_column": null,
            "grid_gap": null,
            "grid_row": null,
            "grid_template_areas": null,
            "grid_template_columns": null,
            "grid_template_rows": null,
            "height": null,
            "justify_content": null,
            "justify_items": null,
            "left": null,
            "margin": null,
            "max_height": null,
            "max_width": null,
            "min_height": null,
            "min_width": null,
            "object_fit": null,
            "object_position": null,
            "order": null,
            "overflow": null,
            "overflow_x": null,
            "overflow_y": null,
            "padding": null,
            "right": null,
            "top": null,
            "visibility": null,
            "width": null
          }
        },
        "d70a67a7b2194d31a53e9d8e171b6a6f": {
          "model_module": "@jupyter-widgets/base",
          "model_name": "LayoutModel",
          "model_module_version": "1.2.0",
          "state": {
            "_model_module": "@jupyter-widgets/base",
            "_model_module_version": "1.2.0",
            "_model_name": "LayoutModel",
            "_view_count": null,
            "_view_module": "@jupyter-widgets/base",
            "_view_module_version": "1.2.0",
            "_view_name": "LayoutView",
            "align_content": null,
            "align_items": null,
            "align_self": null,
            "border": null,
            "bottom": null,
            "display": null,
            "flex": null,
            "flex_flow": null,
            "grid_area": null,
            "grid_auto_columns": null,
            "grid_auto_flow": null,
            "grid_auto_rows": null,
            "grid_column": null,
            "grid_gap": null,
            "grid_row": null,
            "grid_template_areas": null,
            "grid_template_columns": null,
            "grid_template_rows": null,
            "height": null,
            "justify_content": null,
            "justify_items": null,
            "left": null,
            "margin": null,
            "max_height": null,
            "max_width": null,
            "min_height": null,
            "min_width": null,
            "object_fit": null,
            "object_position": null,
            "order": null,
            "overflow": null,
            "overflow_x": null,
            "overflow_y": null,
            "padding": null,
            "right": null,
            "top": null,
            "visibility": null,
            "width": null
          }
        },
        "6d85ab6a194d490dae768d04942ec63e": {
          "model_module": "@jupyter-widgets/controls",
          "model_name": "DescriptionStyleModel",
          "model_module_version": "1.5.0",
          "state": {
            "_model_module": "@jupyter-widgets/controls",
            "_model_module_version": "1.5.0",
            "_model_name": "DescriptionStyleModel",
            "_view_count": null,
            "_view_module": "@jupyter-widgets/base",
            "_view_module_version": "1.2.0",
            "_view_name": "StyleView",
            "description_width": ""
          }
        },
        "29f73289d28b4bff96d94f87999d277e": {
          "model_module": "@jupyter-widgets/base",
          "model_name": "LayoutModel",
          "model_module_version": "1.2.0",
          "state": {
            "_model_module": "@jupyter-widgets/base",
            "_model_module_version": "1.2.0",
            "_model_name": "LayoutModel",
            "_view_count": null,
            "_view_module": "@jupyter-widgets/base",
            "_view_module_version": "1.2.0",
            "_view_name": "LayoutView",
            "align_content": null,
            "align_items": null,
            "align_self": null,
            "border": null,
            "bottom": null,
            "display": null,
            "flex": null,
            "flex_flow": null,
            "grid_area": null,
            "grid_auto_columns": null,
            "grid_auto_flow": null,
            "grid_auto_rows": null,
            "grid_column": null,
            "grid_gap": null,
            "grid_row": null,
            "grid_template_areas": null,
            "grid_template_columns": null,
            "grid_template_rows": null,
            "height": null,
            "justify_content": null,
            "justify_items": null,
            "left": null,
            "margin": null,
            "max_height": null,
            "max_width": null,
            "min_height": null,
            "min_width": null,
            "object_fit": null,
            "object_position": null,
            "order": null,
            "overflow": null,
            "overflow_x": null,
            "overflow_y": null,
            "padding": null,
            "right": null,
            "top": null,
            "visibility": null,
            "width": null
          }
        },
        "10c417b400db44cb88ef8292b7bf81cb": {
          "model_module": "@jupyter-widgets/controls",
          "model_name": "ProgressStyleModel",
          "model_module_version": "1.5.0",
          "state": {
            "_model_module": "@jupyter-widgets/controls",
            "_model_module_version": "1.5.0",
            "_model_name": "ProgressStyleModel",
            "_view_count": null,
            "_view_module": "@jupyter-widgets/base",
            "_view_module_version": "1.2.0",
            "_view_name": "StyleView",
            "bar_color": null,
            "description_width": ""
          }
        },
        "a06e98f4574c44b1abe6efa676a0e2ec": {
          "model_module": "@jupyter-widgets/base",
          "model_name": "LayoutModel",
          "model_module_version": "1.2.0",
          "state": {
            "_model_module": "@jupyter-widgets/base",
            "_model_module_version": "1.2.0",
            "_model_name": "LayoutModel",
            "_view_count": null,
            "_view_module": "@jupyter-widgets/base",
            "_view_module_version": "1.2.0",
            "_view_name": "LayoutView",
            "align_content": null,
            "align_items": null,
            "align_self": null,
            "border": null,
            "bottom": null,
            "display": null,
            "flex": null,
            "flex_flow": null,
            "grid_area": null,
            "grid_auto_columns": null,
            "grid_auto_flow": null,
            "grid_auto_rows": null,
            "grid_column": null,
            "grid_gap": null,
            "grid_row": null,
            "grid_template_areas": null,
            "grid_template_columns": null,
            "grid_template_rows": null,
            "height": null,
            "justify_content": null,
            "justify_items": null,
            "left": null,
            "margin": null,
            "max_height": null,
            "max_width": null,
            "min_height": null,
            "min_width": null,
            "object_fit": null,
            "object_position": null,
            "order": null,
            "overflow": null,
            "overflow_x": null,
            "overflow_y": null,
            "padding": null,
            "right": null,
            "top": null,
            "visibility": null,
            "width": null
          }
        },
        "a2383749a38a4f62ae1fdd16443f6399": {
          "model_module": "@jupyter-widgets/controls",
          "model_name": "DescriptionStyleModel",
          "model_module_version": "1.5.0",
          "state": {
            "_model_module": "@jupyter-widgets/controls",
            "_model_module_version": "1.5.0",
            "_model_name": "DescriptionStyleModel",
            "_view_count": null,
            "_view_module": "@jupyter-widgets/base",
            "_view_module_version": "1.2.0",
            "_view_name": "StyleView",
            "description_width": ""
          }
        }
      }
    }
  },
  "nbformat": 4,
  "nbformat_minor": 0
}